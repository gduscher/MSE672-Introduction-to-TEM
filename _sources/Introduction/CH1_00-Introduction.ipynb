{
 "cells": [
  {
   "cell_type": "markdown",
   "metadata": {},
   "source": [
    "<font size = \"5\"> **Chapter 1: Introduction** </font>\n",
    "\n",
    "\n",
    "<hr style=\"height:1px;border-top:4px solid #FF8200\" />\n",
    "\n",
    "# Chapter 1: Introduction\n",
    "\n",
    "[Download](https://raw.githubusercontent.com/gduscher/MSE672-Introduction-to-TEM//main/Introduction/CH1_00-Introduction.ipynb)\n",
    "\n",
    "[![OpenInColab](https://colab.research.google.com/assets/colab-badge.svg)](\n",
    "    https://colab.research.google.com/github/gduscher/MSE672-Introduction-to-TEM/blob/main/Introduction/CH1_00-Introduction.ipynb)\n",
    "\n",
    "part of\n",
    "\n",
    "<font size = \"5\"> **[MSE672:  Introduction to Transmission Electron Microscopy](../_MSE672_Intro_TEM.ipynb)**</font>\n",
    "\n",
    "by Gerd Duscher and Khalid Hattar, Spring 2024\n",
    "\n",
    "Microscopy Facilities and Ion Beam Facility<br>\n",
    "Institute of Advanced Materials & Manufacturing<br>\n",
    "Materials Science & Engineering and Nuclear Engineering<br>\n",
    "The University of Tennessee, Knoxville\n",
    "\n",
    "Background and methods to analysis and quantification of data acquired with transmission electron microscopes."
   ]
  },
  {
   "cell_type": "markdown",
   "metadata": {},
   "source": [
    "<font size = \"5\"> **Introduction to this Jupyter Lecture Notebook-Book** </font>\n",
    "\n",
    "This notebook-book, -course, -series, or whatever you want ot call it is a collection fo jupyter notebooks to analyse the various data which can be acquired with a transmission electron microscope (TEM).\n",
    "\n",
    "First, **you do not need to program anything**, however, you will have to change the values of input parameters in the code cells. Of course, you are encouraged to modify the code in order to explore the data analysis methods. What can go wrong?\n",
    "\n",
    "The advantage of jupyter notebooks is that it is a combination of a usual textbook and data-analysis software. The intent of the book is not to make a cool graphic user interface with a fast data analysis but to make it obvious what numerical and physical means are used to extract quantitative values from these data.\n",
    "\n",
    "\n",
    "<font size = \"5\"> **Content** </font>\n",
    "\n",
    "This (note-)book chapter is divided in the following sections:\n",
    "\n",
    "**Chapter 1: [Introduction](CH1_00-Introduction.ipynb)**\n",
    "\n",
    "* [Python as it is used here](CH1_01-Introduction_Python.ipynb)\n",
    "* [Installation and Prerequisites](CH1_02-Prerequisites.ipynb)\n",
    "* [Matplotlib and Numpy for Micrographs](CH1_03-Data_Representation.ipynb)\n",
    "* [Open a (DM) file ](CH1_04-Open_File.ipynb)\n",
    "\n",
    "*Course Material*\n",
    "* [Course Organization](CH1_05-Course_Organization.ipynb)\n",
    "* [Overview](CH1_06-Overview.ipynb)\n",
    "* [Electron-Optics](CH1_07-Electron-Optics.ipynb)\n",
    "\n",
    "  "
   ]
  },
  {
   "cell_type": "markdown",
   "metadata": {},
   "source": [
    "**Navigation:**\n",
    "\n",
    "- <font size = \"3\">  **List of Content: [Front](../_MSE672_Intro_TEM.ipynb)** </font>"
   ]
  },
  {
   "cell_type": "code",
   "execution_count": null,
   "metadata": {},
   "outputs": [],
   "source": []
  }
 ],
 "metadata": {
  "kernelspec": {
   "display_name": "Python 3 (ipykernel)",
   "language": "python",
   "name": "python3"
  },
  "language_info": {
   "codemirror_mode": {
    "name": "ipython",
    "version": 3
   },
   "file_extension": ".py",
   "mimetype": "text/x-python",
   "name": "python",
   "nbconvert_exporter": "python",
   "pygments_lexer": "ipython3",
   "version": "3.12.0"
  },
  "toc": {
   "base_numbering": "1",
   "nav_menu": {},
   "number_sections": true,
   "sideBar": true,
   "skip_h1_title": false,
   "title_cell": "Table of Contents",
   "title_sidebar": "Contents",
   "toc_cell": false,
   "toc_position": {},
   "toc_section_display": true,
   "toc_window_display": false
  },
  "varInspector": {
   "cols": {
    "lenName": 16,
    "lenType": 16,
    "lenVar": 40
   },
   "kernels_config": {
    "python": {
     "delete_cmd_postfix": "",
     "delete_cmd_prefix": "del ",
     "library": "var_list.py",
     "varRefreshCmd": "print(var_dic_list())"
    },
    "r": {
     "delete_cmd_postfix": ") ",
     "delete_cmd_prefix": "rm(",
     "library": "var_list.r",
     "varRefreshCmd": "cat(var_dic_list()) "
    }
   },
   "types_to_exclude": [
    "module",
    "function",
    "builtin_function_or_method",
    "instance",
    "_Feature"
   ],
   "window_display": false
  },
  "vscode": {
   "interpreter": {
    "hash": "838e0debddb5b6f29d3d8c39ba50ae8c51920a564d3bac000e89375a158a81de"
   }
  }
 },
 "nbformat": 4,
 "nbformat_minor": 4
}
