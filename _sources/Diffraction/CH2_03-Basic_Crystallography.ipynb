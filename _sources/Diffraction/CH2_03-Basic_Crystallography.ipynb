{
 "cells": [
  {
   "cell_type": "markdown",
   "metadata": {},
   "source": [
    "\n",
    "<font size = \"5\"> **Chapter 2: [Diffraction](CH2_00-Diffraction.ipynb)** </font>\n",
    "\n",
    "<hr style=\"height:1px;border-top:4px solid #FF8200\" />\n",
    "\n",
    "# Basic Crystallography\n",
    "[Download](https://raw.githubusercontent.com/gduscher/MSE672-Introduction-to-TEM//main/Diffraction/CH2_03-Basic_Crystallography.ipynb)\n",
    " \n",
    "[![OpenInColab](https://colab.research.google.com/assets/colab-badge.svg)](\n",
    "    https://colab.research.google.com/github/gduscher/MSE672-Introduction-to-TEM/blob/main//Diffraction/CH2_03-Basic_Crystallography.ipynb)\n",
    " \n",
    "part of\n",
    "\n",
    "<font size = \"5\"> **[MSE672:  Introduction to Transmission Electron Microscopy](../_MSE672_Intro_TEM.ipynb)**</font>\n",
    "\n",
    "by Gerd Duscher and Khalid Hattar, Spring 2024\n",
    "\n",
    "Microscopy Facilities and Ion Beam Facility<br>\n",
    "Institute of Advanced Materials & Manufacturing<br>\n",
    "Materials Science & Engineering and Nuclear Engineering<br>\n",
    "The University of Tennessee, Knoxville\n",
    "\n",
    "Background and methods to analysis and quantification of data acquired with transmission electron microscopes.\n",
    "\n"
   ]
  },
  {
   "cell_type": "markdown",
   "metadata": {
    "slideshow": {
     "slide_type": "slide"
    }
   },
   "source": [
    "## Load relevant python packages\n",
    "### Check Installed Packages"
   ]
  },
  {
   "cell_type": "code",
   "execution_count": 1,
   "metadata": {},
   "outputs": [
    {
     "name": "stdout",
     "output_type": "stream",
     "text": [
      "done\n"
     ]
    }
   ],
   "source": [
    "import sys\n",
    "import importlib.metadata\n",
    "def test_package(package_name):\n",
    "    \"\"\"Test if package exists and returns version or -1\"\"\"\n",
    "    try:\n",
    "        version = importlib.metadata.version(package_name)\n",
    "    except importlib.metadata.PackageNotFoundError:\n",
    "        version = '-1'\n",
    "    return version\n",
    "\n",
    "if test_package('pyTEMlib') < '0.2024.1.0':\n",
    "    print('installing pyTEMlib')\n",
    "    !{sys.executable} -m pip install  --upgrade pyTEMlib -q\n",
    "if 'google.colab' in sys.modules:\n",
    "    !{sys.executable} -m pip install numpy==1.24.4\n",
    "print('done')"
   ]
  },
  {
   "cell_type": "markdown",
   "metadata": {
    "slideshow": {
     "slide_type": "slide"
    }
   },
   "source": [
    "### Load the plotting and figure packages\n",
    "Import the python packages that we will use:\n",
    "\n",
    "Beside the basic numerical (numpy) and plotting (pylab of matplotlib) libraries,\n",
    "* three dimensional plotting\n",
    "and some libraries from the book\n",
    "* kinematic scattering library."
   ]
  },
  {
   "cell_type": "code",
   "execution_count": 1,
   "metadata": {
    "slideshow": {
     "slide_type": "-"
    }
   },
   "outputs": [
    {
     "name": "stdout",
     "output_type": "stream",
     "text": [
      "You don't have igor2 installed.     If you wish to open igor files, you will need to install it     (pip install igor2) before attempting.\n",
      "You don't have gwyfile installed.     If you wish to open .gwy files, you will need to      install it (pip install gwyfile) before attempting.\n",
      "Symmetry functions of spglib enabled\n",
      "Qt dialogs are not available\n",
      "Using kinematic_scattering library version {_version_ }  by G.Duscher\n",
      "pyTEM version:  0.2023.8.0\n"
     ]
    }
   ],
   "source": [
    "%matplotlib widget\n",
    "import matplotlib.pylab as plt\n",
    "import numpy as np\n",
    "import sys\n",
    "if 'google.colab' in sys.modules:\n",
    "    from google.colab import output\n",
    "    output.enable_custom_widget_manager()\n",
    "    \n",
    "# 3D plotting package \n",
    "from mpl_toolkits.mplot3d import Axes3D # 3D plotting\n",
    "\n",
    "import ase\n",
    "\n",
    "# Import libraries from the pyTEMlib\n",
    "import pyTEMlib\n",
    "import pyTEMlib.kinematic_scattering as ks         # kinematic scattering Library\n",
    "                             # with atomic form factors from Kirkland's book\n",
    "# it is a good idea to show the version numbers at this point for archiving reasons.\n",
    "print('pyTEM version: ',pyTEMlib.__version__)"
   ]
  },
  {
   "cell_type": "markdown",
   "metadata": {
    "slideshow": {
     "slide_type": "slide"
    }
   },
   "source": [
    "\n",
    "## Define  Crystal\n",
    "\n",
    "A crystal is well defined by its unit cell and the atom positions within, the so called base.\n",
    "The base consists of which element sits where within the unit cell\n",
    "\n",
    "\n",
    "The unit cell fills the volume completely when translated in all three directions. Placing the unit cell in a global carthesian coordination system, we need the length of the sides and their angles for a complete description. This is depicted in the graph below.\n",
    "![unitcell_angles](images/unit_cell_angles.png)\n",
    "\n",
    "Figure taken from the wikipedia page on lattice constants.\n",
    "\n",
    "Mathematically it is more advantageous to describe the unit cell as matrix, the\n",
    "### Structure Matrix\n",
    "\n",
    "This matrix consists of rows of vectors that span the unit cell:\n",
    "$\\begin{bmatrix}\n",
    "  a_1 & a_2 & a_3 \\\\\n",
    "  b_1 & b_2 & b_3 \\\\\n",
    "  c_1 & c_2 & c_3 \\\\\n",
    "\\end{bmatrix} =\\left[\\vec{a},\\vec{b},\\vec{c}\\right]$.\n",
    "\n",
    "This structure matrix is also used to describe the super cells in materials simulations for example density functional theory.\n",
    "\n",
    "The representation of unit cells as structure matrices allows also for easy conversions as we will see in the following.\n"
   ]
  },
  {
   "cell_type": "code",
   "execution_count": 2,
   "metadata": {
    "slideshow": {
     "slide_type": "-"
    }
   },
   "outputs": [
    {
     "name": "stdout",
     "output_type": "stream",
     "text": [
      "structure matrix \n",
      " [[ 2.46  0.    0.  ]\n",
      " [-1.23  2.13  0.  ]\n",
      " [ 0.    0.    6.71]]\n",
      "elements: ['C', 'C', 'C', 'C']\n",
      "base \n",
      " [[0.    0.    0.   ]\n",
      " [0.    0.    0.5  ]\n",
      " [0.333 0.667 0.   ]\n",
      " [0.667 0.333 0.5  ]]\n"
     ]
    }
   ],
   "source": [
    "# Create graphite unit cell (or structure matrix)\n",
    "a = b = 2.46  # Angstrom\n",
    "c = 6.71  # Angstrom\n",
    "gamma = 120\n",
    "alpha = beta = 90\n",
    "\n",
    "## Create the structure matrix for a hexagonal system explicitly:\n",
    "structure_matrix = np.array([[a,0.,0.],  ## also called the structure matrix\n",
    "                    [np.cos(np.radians(gamma))*a,np.sin(np.radians(gamma))*a,0. ],\n",
    "                     [0.,0.,c]\n",
    "                    ])\n",
    "print('structure matrix \\n', np.round(structure_matrix,3))\n",
    "\n",
    "elements = ['C']*4\n",
    "base = [[0, 0, 0], [0, 0, 1/2], [1/3, 2/3, 0], [2/3, 1/3, 1/2]]\n",
    "print('elements:', elements)\n",
    "print('base \\n',np.round(base,3))"
   ]
  },
  {
   "cell_type": "markdown",
   "metadata": {},
   "source": [
    "### Store Information in ASE (atomic simulation environment) format"
   ]
  },
  {
   "cell_type": "code",
   "execution_count": 3,
   "metadata": {},
   "outputs": [
    {
     "data": {
      "text/plain": [
       "Atoms(symbols='C4', pbc=False, cell=[[2.46, 0.0, 0.0], [-1.2299999999999995, 2.130422493309719, 0.0], [0.0, 0.0, 6.71]])"
      ]
     },
     "execution_count": 3,
     "metadata": {},
     "output_type": "execute_result"
    }
   ],
   "source": [
    "atoms = ase.Atoms(elements, cell=structure_matrix, scaled_positions=base)\n",
    "atoms"
   ]
  },
  {
   "cell_type": "markdown",
   "metadata": {},
   "source": [
    "We can retrieve the information stored"
   ]
  },
  {
   "cell_type": "code",
   "execution_count": 4,
   "metadata": {},
   "outputs": [
    {
     "name": "stdout",
     "output_type": "stream",
     "text": [
      "structure matrix [nm]\n",
      " [[ 2.46  0.    0.  ]\n",
      " [-1.23  2.13  0.  ]\n",
      " [ 0.    0.    6.71]]\n",
      "elements \n",
      " C4\n",
      "base \n",
      " [[0.    0.    0.   ]\n",
      " [0.    0.    0.5  ]\n",
      " [0.333 0.667 0.   ]\n",
      " [0.667 0.333 0.5  ]]\n"
     ]
    }
   ],
   "source": [
    "print('structure matrix [nm]\\n',np.round(atoms.cell.array,3))\n",
    "print('elements \\n',atoms.get_chemical_formula())\n",
    "print('base \\n',np.round(atoms.get_scaled_positions(), 3))"
   ]
  },
  {
   "cell_type": "markdown",
   "metadata": {},
   "source": [
    "A convenient function is provided by the kinematic_scttering library (loaded with name ks)"
   ]
  },
  {
   "cell_type": "code",
   "execution_count": 5,
   "metadata": {},
   "outputs": [
    {
     "data": {
      "text/plain": [
       "array([[0.00000000e+00, 0.00000000e+00, 0.00000000e+00],\n",
       "       [0.00000000e+00, 0.00000000e+00, 3.35550000e+00],\n",
       "       [1.23386207e+00, 7.12370598e-01, 0.00000000e+00],\n",
       "       [3.04714108e-16, 1.42474120e+00, 3.35550000e+00]])"
      ]
     },
     "execution_count": 5,
     "metadata": {},
     "output_type": "execute_result"
    }
   ],
   "source": [
    "atoms = ks.structure_by_name('Graphite')\n",
    "atoms.positions"
   ]
  },
  {
   "cell_type": "markdown",
   "metadata": {},
   "source": [
    "### Volume of Unit Cell\n",
    "We will need the volume of the unit cell  for unit conversions later.\n",
    "\n",
    "Volume of the parallelepiped (https://en.wikipedia.org/wiki/Triple_product) : \n",
    "$\\vec{a} \\cdot \\vec{b} \\times \\vec{c} =  \\det \\begin{bmatrix}\n",
    "  a_1 & a_2 & a_3 \\\\\n",
    "  b_1 & b_2 & b_3 \\\\\n",
    "  c_1 & c_2 & c_3 \\\\\n",
    "\\end{bmatrix} ={\\rm det}\\left(\\vec{a},\\vec{b},\\vec{c}\\right)$\n",
    "\n",
    "We see that the structure matrix comes in handy for that calculation."
   ]
  },
  {
   "cell_type": "code",
   "execution_count": 6,
   "metadata": {},
   "outputs": [
    {
     "name": "stdout",
     "output_type": "stream",
     "text": [
      "volume of unit cell: 35.1660 Ang^3\n"
     ]
    }
   ],
   "source": [
    "volume = v = np.linalg.det(structure_matrix)\n",
    "print(f\"volume of unit cell: {volume:.4f} Ang^3\")"
   ]
  },
  {
   "cell_type": "markdown",
   "metadata": {},
   "source": [
    "The same procedure is provided by ase"
   ]
  },
  {
   "cell_type": "code",
   "execution_count": 7,
   "metadata": {},
   "outputs": [
    {
     "name": "stdout",
     "output_type": "stream",
     "text": [
      "volume of unit cell: 35.3925 Ang^3\n"
     ]
    }
   ],
   "source": [
    "print(f\"volume of unit cell: {atoms.cell.volume:.4f} Ang^3\")"
   ]
  },
  {
   "cell_type": "markdown",
   "metadata": {},
   "source": [
    "### Vector Algebra in Unit Cell \n",
    "We will use the linear algebra package of numpy (np.linalg) for our vector calculations.\n",
    "\n",
    "The length of a vector is called its norm.\n",
    "\n",
    "And the angle between two vectors is calculated by the dot product: $\\vec{a} \\cdot \\vec{b} = \\left\\| \\vec{a} \\right\\| \\left\\| \\vec{b} \\right\\| \\cos (\\theta) $\n",
    "\n",
    "> Note that python starts couting at 0 and so the second vector has index 1"
   ]
  },
  {
   "cell_type": "code",
   "execution_count": 8,
   "metadata": {},
   "outputs": [
    {
     "name": "stdout",
     "output_type": "stream",
     "text": [
      "length of second unit cell vector is 2.460 Ang\n",
      "angle between a and b is 120.0 degree\n"
     ]
    }
   ],
   "source": [
    "length_b = np.linalg.norm(structure_matrix[1])\n",
    "print(f'length of second unit cell vector is {length_b:.3f} Ang' ) \n",
    "\n",
    "gamma = np.arccos(np.dot(structure_matrix[0]/length_b, structure_matrix[1]/length_b))\n",
    "print(f'angle between a and b is {np.degrees(gamma):.1f} degree')"
   ]
  },
  {
   "cell_type": "markdown",
   "metadata": {
    "slideshow": {
     "slide_type": "slide"
    }
   },
   "source": [
    "### Plot the unit cell\n",
    "\n",
    "We use the visualization library of ase to plot structures."
   ]
  },
  {
   "cell_type": "code",
   "execution_count": 9,
   "metadata": {},
   "outputs": [
    {
     "data": {
      "text/plain": [
       "<Axes: >"
      ]
     },
     "execution_count": 9,
     "metadata": {},
     "output_type": "execute_result"
    },
    {
     "data": {
      "application/vnd.jupyter.widget-view+json": {
       "model_id": "3bb8d4659607475ab6ca5f3ddab8ecc4",
       "version_major": 2,
       "version_minor": 0
      },
      "image/png": "[encoded data removed]",
      "text/html": [
       "\n",
       "            <div style=\"display: inline-block;\">\n",
       "                <div class=\"jupyter-widgets widget-label\" style=\"text-align: center;\">\n",
       "                    Figure\n",
       "                </div>\n",
       "                <img src='data:image/png;base64,iVBORw0KGgoAAAANSUhEUgAAAoAAAAHgCAYAAAA10dzkAAAAOXRFWHRTb2Z0d2FyZQBNYXRwbG90bGliIHZlcnNpb24zLjguMiwgaHR0cHM6Ly9tYXRwbG90bGliLm9yZy8g+/7EAAAACXBIWXMAAA9hAAAPYQGoP6dpAABeNklEQVR4nO3dZ1gUB/89/LN0VECKjaYYK7GAgFhI1GjUaGLUGFu8lRh7A1ERVOyKoiAkWIiJGqNG/xpbjCUaOzbALlgSG2BB6Upn93mRR38xAjKww7A753NdvLh3+e6euWfDHGdmZxQqlUoFIiIiIpINHakDEBEREVHFYgEkIiIikhkWQCIiIiKZYQEkIiIikhkWQCIiIiKZYQEkIiIikhkWQCIiIiKZYQEkIiIikhkWQCIiIiKZYQEkIiIikhkWQCIiIiKZYQEkIiIikhkWQCIiIiKZYQEkIiIikhkWQCIiIiKZYQEkIiIikhkWQCIiIiKZYQEkIiIikhkWQCIiIiKZYQEkIiIikhkWQCIiIiKZYQEkIiIikhkWQCIiIiKZYQEkIiIikhkWQCIiIiKZYQEkIiIikhkWQCIiIiKZYQEkIiIikhkWQCIiIiKZYQEkIiIikhkWQCIiIiKZYQEkIiIikhkWQCIiIiKZYQEkIiIikhkWQCIiIiKZYQEkIiIikhkWQCIiIiKZYQEkIiIikhkWQCIiIiKZYQEkIiIikhkWQCIiIiKZYQEkIiIikhkWQCIiIiKZYQEkIiIikhkWQCIiIiKZYQEkIiIikhkWQCIiIiKZYQEkIiIikhkWQCIiIiKZYQEkIiIikhkWQCIiIiKZYQEkIiIikhkWQCIiIiKZYQEkIiIikhkWQCIiIiKZYQEkIiIikhkWQCIiIiKZYQEkIiIikhkWQCIiIiKZYQEkIiIikhkWQCIiIiKZYQEkIiIikhkWQCIiIiKZYQEkIiIikhkWQCIiIiKZYQEkIiIikhkWQCIiIiKZYQEkIiIikhkWQCIiIiKZYQEkIiIikhkWQCIiIiKZYQEkIiIikhkWQCIiIiKZYQEkIiIikhkWQCIiIiKZYQEkIiIikhkWQCIiIiKZYQEkIiIikhkWQCIiIiKZYQEkIiIikhkWQCIiIiKZYQEkIiIikhkWQCIiIiKZYQEkIiIikhkWQCIiIiKZYQEkIiIikhkWQCIiIiKZ0ZM6gCZTKpV49OgRTExMoFAopI5DREREpaBSqZCZmQlra2vo6MhzXxgLYDk8evQIdnZ2UscgIiKiMoiPj4etra3UMSTBAlgOJiYmAP75AJmamkqchoiIiEojIyMDdnZ2r7fjcsQCWA6vDvuampqyABIREWkYOZ++Jc8D30REREQyxgJIREREJDMsgEREREQyw3MAK5BKpcLx48eRl5eHGjVq4NmzZ6WevX//PqpWrfrW+QpWVlaoUaNGmfLUqVMHderUeevxx48f4/Hjx4Jf79mzZ3j+/Plbj5c1o7rzaUJGdefThIxyXM/FZdSE9ayvrw8zM7MSZ4v6+1ZQUAAzMzN4eHgIzkJEIlBRmaWnp6sAqNLT00v1+9OmTVNVqVJFBaBS/MyZM6fInHPmzJE8mybkY0Z55GNG9f3UqVOnyIxEFU3o9lsbKVQqlQpUJhkZGTAzM0N6enqpvgV88eJFuLi4YNy4cfjmm28E7QGcMWMGHjx4gKCgIBgaGr5+XBP2GFT2vS6VKSP3AJY/nyZnrOzrOTc3F9OnT0fDhg0xZ86cYmeL2gO4e/durFmzBpcuXYKTk5PgPETqJHT7rY1YAMuhLB+gkSNH4tdff8WdO3dgaWlZ6vf666+/4OjoiFmzZmH27NlljUxEVC5bt27FoEGDcOTIEXTu3LnUc/n5+WjRogVq1aqFY8eOyfryGyQ9FkB+CaTCLVy4EAUFBZg7d66guQYNGsDb2xtLlixBfHy8OOGIiN5hwIABaN++Pby9vVFQUFDqOX19faxYsQInTpzAzp07RUxIRKXBAljBatWqhdmzZ2P16tW4fv26oNlZs2bBxMQEfn5+IqUjIiqZQqFAWFgYbty4ge+//17QbPfu3dGzZ09MnToV2dnZIiUkotJgAZTApEmTUL9+fXh7e0PIEXhTU1MEBgZiy5YtiIyMFDEhEVHxXFxc8PXXXyMgIAApKSmCZkNCQpCQkICQkBCR0hFRabAASsDAwAAhISH4888/sXfvXkGznp6ecHFxgZeXF5RKpUgJiYhKtmjRIuTn5ws+naVRo0bw8vLC4sWLkZiYKE44InonFkCJ9OzZE926dcOUKVOQm5tb6jkdHR2EhYUhJiYGGzduFDEhEVHxateujYCAAKxatQqxsbGCZgMCAlC1alX4+/uLlI6I3oUFUCIKhQIhISG4f/8+wsLCBM22b98eAwcOhJ+fHzIyMkRKSERUskmTJqFevXqCT2cxMzPDokWL8PPPP+PcuXMiJiSi4rAASsjR0RHjx4/HggUL8OTJE0GzS5cuRUZGBhYvXixSOiKikhkaGiIkJASHDx/Gvn37BM0OHz4cTk5OPJ2FSCIsgBKbO3cuDA0NMWPGDEFz9vb2mD59OlasWIG///5bpHRERCX77LPP8PHHH8PHx0fQ6Sy6uroICwvDhQsXsGnTJhETElFRWAAlZm5ujgULFmDDhg2Ijo4WNDtt2jTUqlULU6dOFSkdEVHJFAoFVqxYgXv37uG7774TNPvhhx+if//+8PPzw4sXL0RKSERFYQGsBEaOHIlmzZrBy8tL0Hk0VapUwbJly7B7924cOXJExIRERMV7//33MW7cOMyfPx9Pnz4VNBsUFITU1FQEBgaKlI6IisICWAno6ekhNDQUZ86cwdatWwXN9u/fHx4eHoKvyk9EpE5z586Fvr4+Zs6cKWiubt26mDZtGoKDg3H37l2R0hHRf7EAVhIfffQR+vTpA19fX7x8+bLUcwqFAqGhoYiNjUVERISICYmIimdhYYH58+dj3bp1iImJETQ7ffp0WFlZYdq0aSKlI6L/YgGsRJYvX46kpCQEBQUJmnNxccHw4cMxe/ZswVflJyJSl9GjR8PR0VHw6SxVq1ZFUFAQdu7ciWPHjomYkIheYQGsROrXr48pU6YgKCgIDx8+FDRb1qvyExGpi56eHsLCwhAZGYn/9//+n6DZQYMGoV27djydhaiCsABWMv7+/njvvfcQFxcnaK5WrVqYPXs2Hjx4wGtqEZFkOnfujH79+uHOnTuC5hQKBcLCwlBQUIBHjx6JlI6IXlGohOynpzdkZGTAzMwM6enpMDU1VdvrKpVK6OgI7+ZlnSMiUqfy/C3i3zGqCGJtvzUJ/yurhMr6x49/NImoMijP3yL+HSOqGPwvjYiIiEhmWACJiIiIZIYFkIiIiEhmWACJiIiIZIYFkIiIiEhmWACJiIiIZIYFkIiIiEhmWACJiIiIZIYFkIiIiEhmWACJiIiIZIYFkIiIiEhmWACJiIiIZIYFkIiIiEhmWACJiIiIZIYFkIiIiEhmWAA12I0bN+Du7o5Hjx4JnvX398eMGTNESEVEVDpZWVn47LPPsHv3bsGzv/76K7p37w6lUqn+YEQywAKowWxsbHD37t0yFbkqVapg+fLluHPnjgjJiIjezdjYGPn5+ZgyZQpyc3MFzdaqVQuHDh3Cxo0bRUpHpN1YADVY9erVsXDhQvz000+4cOGCoNmpU6eiTp06mDJlikjpiIhKplAosGLFCjx48AChoaGCZj08PDBw4ED4+fkhIyNDnIBEWowFUMONGDECLVq0wKRJkwQdCjE2Nsby5cvx22+/4Y8//hAxIRFR8Zo2bYoJEyZg4cKFePz4saDZpUuXIiMjA4sXLxYpHZH2YgHUcLq6uggLC8P58+exZcsWQbP9+vXDBx98gMmTJyM/P1+khEREJZszZw4MDQ0Fn85ib2+P6dOnY8WKFfj7779FSkeknVgAtUDHjh3Rr18/TJ8+HS9evCj1nEKhQFhYGOLi4rBmzRoRExIRFc/c3BwLFy7Ehg0bEBUVJWh22rRpqFWrFqZOnSpSOiLtxAKoJZYtW4bk5GQsXbpU0JyzszNGjBiBOXPmIDk5WaR0REQlGzFiBJo3bw4vLy+oVKpSz1WpUgVBQUHYvXs3jhw5ImJCIu3CAqgl6tWrh6lTp2LZsmW4f/++oNmFCxeisLAQc+bMESccEdE76OnpITQ0FGfPnsUvv/wiaHbAgAFo3749vL29UVBQIFJCIu3CAqhF/Pz8YGlpiWnTpgmaq1mzJmbPno3Vq1fj2rVrIqUjIirZRx99hL59+8LX1xcvX74s9dyr01liY2MREREhYkIi7cECqEWqVauGpUuXYseOHThx4oSg2YkTJ+K9996Dt7e3oMMvRETqtGzZMjx//hxBQUGC5lxcXDB8+HDMnj0bKSkpIqUj0h4sgFpm8ODBaNOmDby8vFBYWFjqOQMDA6xYsQJHjx7Fnj17RExIRFS8+vXrY8qUKQgKCsKDBw8EzS5atAj5+fmYO3euOOGItAgLoJbR0dFBWFgYrly5gh9//FHQbI8ePdC9e/cyXZWfiEhd/P39YW5uDl9fX0FztWrVQkBAAFatWoUbN26IlI5IO7AAaqHWrVtj6NChmDlzJtLS0ko9p1AoEBISUqar8hMRqUu1atWwZMkS/L//9/9w8uRJQbOTJk2Cg4MDJk+ezNNZiEqgFQVw37596Ny5M+rUqYNq1arB1dUVe/fufefcggULYGdnB0NDQzg5OeHw4cMVkLZiBAYGIjs7GwsWLBA0V56r8hMRqcuQIUPQunVreHt7CzqdxdDQECEhITh8+DD27dsnYkIizaYVBTAqKgoffvghtm/fjvPnz6Nr16744osvcPny5WJnwsPDERQUhKVLl76e6dWrF+7du1dxwUVkbW2NmTNn4ttvv8WtW7cEzb66Kv/MmTNFSkdEVLJXp7NcunQJ69evFzT76aefomvXrvDx8eHpLETFUKi0dB+5g4MDJk6cCB8fnyKfb968Ob766iv4+fm9fqxFixbo06cP5s2bV6r3yMjIgJmZGdLT02FqaqqW3OqUk5MDR0dHNG3aFL///rug2TVr1mDs2LG4cOEC3NzcREpIRFSyoUOH4uDBg7hz5w7MzMxKPRcbG4sWLVogMDBQ8KWxSPtV9u13RdCKPYD/lZ+fj7S0NJibmxf5fE5ODm7cuAFXV9c3Hvfw8EBMTExFRKwQRkZGWL58Ofbv34/9+/cLmi3rVfmJiNQpMDAQL1++FHw6i6OjI8aNG4cFCxbgyZMnIqUj0lxaWQBDQkKgo6ODPn36FPl8cnIyVCrVW63f0tISSUlJxb5ubm4uMjIy3vip7Pr06YNOnTph1apVguZeXZX//PnziI6OFikdEVHJbGxsMGPGDGzYsEHQvc4BYO7cudDX18emTZtESkekufSkDqBuW7duxbx587Br1y5Ur169xN/V03t78RUKRbG/HxgYWOrDw5WFQqHA5s2bYWFhIXj2o48+wt27d1G3bl0RkhERlY6Pjw9GjBiBatWqCZqzsLDAxYsXYW9vL1IyIs2lVXsA161bh1GjRmH79u3o1q1bsb9naWkJhUKB1NTUNx5PTk6GlZVVsXP+/v5IT09//RMfH6+27GKqU6cODA0NyzTL8kdEUjM2NkatWrXKNFu3bt0S/2FPJFdaUQBVKhUCAgLg6+uLgwcPomfPniX+vpGRERwdHXH69Ok3Hj9z5gycnZ2LnTM0NISpqekbP0RERESaRisK4NChQ/H9999j69atsLa2xv3791//AMDGjRuhp6f3xv1xR40aheXLl2Pv3r24du0afH19ERcXB09PT2kWgoiIiKiCaMU5gKdOnUJSUhI+/vjjt55TqVRQKpUoLCx849usEydOREpKCsaOHYtnz56hadOm2Lt3Lxo0aFCR0YmIiIgqnNZeB7Ai8DpCREREmofbby3ZA0hE/0elUuHhw4eIiYnBxYsX8fTpU2RnZyM3Nxd6enowNjaGiYkJmjVrBhcXFzRr1gwGBgZSxyYiogrEAkikBW7evInNmzfjwoULiI6ORkpKCgCgevXqqF69OvT09KCnpwelUomCggJkZ2cjPDwcSqUSBgYGaNasGdzc3PDJJ5+gZ8+eRV4iiYiItAcPAZcDdyGTlPLz87Fnzx6sXLkSx48fh4mJCezt7WFnZwc7OzvY2tqWeOusvLw8JCYmIiEhAQ8fPkRCQgIeP34MGxsbjB07FiNGjCjzpTeIiCozbr9ZAMuFHyCSQnp6OlasWIE1a9bg6dOneO+999CuXTu0bNmy3Hvu4uPjERkZiYsXL0KlUqFv377w9fVFq1at1JSeiEh63H6zAJYLP0BU0Q4cOIBvvvkGKSkpcHFxgYeHB6ytrdX+PllZWbhw4QLOnj2L58+fw9fXF3PmzCnzBcWJiCoTbr9ZAMuFHyCqKGlpafDx8cH69evRpEkTDBgwAObm5qK/b2FhIf7880/88ccfaNCgATZu3Ag3NzfR35eISEzcfmvJhaCJtNmhQ4fg6OiIrVu3YsCAARg9enSFlD8A0NXVRdeuXTFlyhRkZWWhbdu2mDFjBvLy8irk/YmISBzcA1gO/BcEie2HH37AqFGj0Lhx4wrb61ecf+8N/Pjjj7Fjxw5UqVJFsjxERGXF7Tf3ABJVWiEhIRg5ciTat2+PUaNGSVr+gP/bGzhy5EgcPXoU3bt3R0ZGhqSZiIiobFgAiSqh8PBwTJkyBV26dMEXX3wBHZ3K859q48aNMWbMGMTExODTTz9Fdna21JGIiEigyrNVISIAwKZNmzBx4kR07NgRPXv2hEKhkDrSWxwcHDBy5EhcuHABX3zxBfLz86WOREREArAA0mtKpRJr167FyZMnBc/+/fffmDNnDnhKafnExcXhm2++QevWrfH5559XyvL3ioODA77++mscOnQIixcvljoOEQDgxIkT+P777wXPZWZmYubMmXj+/LkIqYgqHxZAek2hUGDDhg2YMGECCgoKBM3evn0b8+fPx65du0RKp/0KCgowbNgwWFhYoF+/fpW6/L3SpEkTdOnSBQsXLsSVK1ekjkOEw4cPY9KkSbh//76guVe3R5wzZ444wYgqGRZAek2hUCAsLAzXrl3D2rVrBc1+8skn6NGjB6ZMmYKcnByREmq3kJAQREdHY8CAATAwMJA6Tql17doVtWrVwtChQ3komCTn5+cHS0tLTJs2TdBczZo1MWfOHKxZswbXrl0TKR1R5cECSG9wdXWFp6cnAgICkJqaKmg2JCQECQkJWLFihUjptFdcXBwCAgLQsWNHODg4SB1HED09PQwcOBDXr1/noWCSXLVq1bBkyRLs2LEDJ06cEDQ7YcIENGjQAN7e3jydhbQeCyC9ZfHixcjNzcW8efMEzTVu3BgTJ07EokWL8OjRI5HSaR+VSoXhw4fDwsICn3zyidRxysTOzu71oeDY2Fip45DMffXVV3B3d4eXlxcKCwtLPWdgYICQkBAcPXoUe/bsETEhkfRYAOktderUwaxZsxAeHi54Yz579mwYGxvD399fpHTa58yZMzh37hw+//xzjTr0+19du3aFiYkJwsLCpI5CMqejo4OwsDBcuXIFP/74o6DZHj16oHv37jydhbQeCyAVydvbG/Xq1YOPj4+gQyHVq1fHokWLsHHjRpw/f17EhNpj5cqVqFWrFho3bix1lHLR09ODu7s7fv75Z6Snp0sdh2TO3d0dQ4cOxcyZM5GWllbqOYVCgZCQEDx8+BChoaGi5SOSGgsgFcnQ0BDBwcE4dOgQ9u/fL2j2m2++QcuWLeHl5QWlUilSQu3w9OlT7NixA23btq1UF3suq7Zt2yIvLw8bN26UOgoRAgMDkZ2djQULFgiaa9q0KSZMmIBFixbh8ePHIqUjkpbmb3FINL169ULnzp0xefJk5OXllXpOV1cXYWFhOH/+PLZs2SJiQs33448/QqFQoHXr1lJHUQszMzM0b94c4eHhPImeJGdtbY0ZM2bg22+/xa1btwTNzp49G4aGhpgxY4ZI6YikxQJIxVIoFAgNDcXff/+N7777TtBshw4d0K9fP0yfPh0vXrwQKaFmUyqVWL16NZydnVGlShWp46hN+/btcfv2bRw/flzqKETw8fGBra0tfHx8BM2Zm5tj4cKF2LBhA6KiokRKRyQdFkAqUbNmzTB27FjMnz8fSUlJgmaXLVuG5ORkLFmyRKR0mu327dtISEhAq1atpI6iVg0aNED16tVx5MgRqaMQwcjICMHBwdi/fz8OHDggaHbkyJFo0aIFvLy8uEebtA4LIL3TvHnzoKuri1mzZgmaq1evHqZNm4bly5cLviq/HMTExAD45xIq2kShUMDGxoZ7TajS6NOnDzp16oTJkycLuli5rq4uQkNDcfbsWfzyyy8iJiSqeCyA9E6WlpaYP38+fvjhB1y6dEnQrJ+fH6ysrARflV8OYmJiUKNGDa06/PuKnZ0doqOjudeEKoVXp7PcuXMHK1euFDTbqVMnfPHFF/D19cXLly9FSkhU8VgAqVTGjBmDpk2bCj4UUrVq1ddX5ec5YW+Kjo6GjY2N1DFEYWdnh9TUVDx8+FDqKEQAgBYtWmDUqFGYO3cunj17Jmh22bJleP78OZYuXSpSOqKKxwJIpaKnp4fQ0FCcOnUK27dvFzQ7ePBgtGnTRvBV+bWZUqnExYsXYWtrK3UUUbxarleHuYkqg/nz50OhUCAgIEDQnIODA6ZMmYJly5bxdBbSGiyAVGoff/wxevXqhWnTpiE7O7vUc6+uyn/16lX88MMPIibUHAkJCXj58iWsra2ljiIKMzMzmJqa4saNG1JHIXqtRo0amDt3LtauXYsrV64ImvX394e5uTl8fX1FSkdUsVgASZDg4GA8fvwYy5cvFzTXunVrDBs2DLNmzRJ0VX5t9erSOMbGxhInEY+RkRHPmaJKZ9y4cWjUqBG8vb0Fnc5SrVo1LF26FNu3b8fJkydFTEhUMVgASZAGDRpg8uTJCAwMFHyF/MDAQOTk5GDRokUipdMcr+4xqqenJ3ES8ejr6/NeqlTp6OvrIzQ0FMePH8eePXsEzX711Vdwd3fH5MmT+QUn0njau/Uh0cycORNubm6oXbu2oLk6depg27ZtWnfdu7IoKCgAAK24/VtxdHR0Xi8nUWXSrVs3bN68Gd26dRM0p6Ojg4iICBQUFEChUIiUjqhisACSYKampujXr1+ZZnv06KHmNJrJyMgIALS6IOXn579eTqLKZvDgwWWaa9mypZqTEElDe3c/EFVir879E3JRWk2Tn5+v1ec4EhFpMhZAIgm8OnyekpIicRJx5OfnIz09HXXq1JE6ChERFYEFkEgCJiYmaNCgAeLj46WOIorHjx+joKAArq6uUkchIqIisAASScTNzQ2JiYlSxxBFfHw89PT00KJFC6mjEBFREVgAiSTi4uKChIQErbw7Snx8PJo2bcovgRARVVIsgEQScXFxQV5eHpKSkqSOonaJiYlwc3OTOgYRERWDBZBIIq1atYKenh5u374tdRS1yszMxKNHj9C6dWupoxARUTFYAIkkYmpqit69e+Ps2bNadVeBc+fOQV9fH/3795c6ChERFYMFkEhC48ePx5MnT/DXX39JHUUtlEolzp07h0GDBsHc3FzqOEREVAwWQCIJdejQAY0bN0ZkZKTUUdQiNjYWycnJGD9+vNRRiIioBCyARBJSKBSYMGECrl69ivT0dKnjlNuZM2fg4uICFxcXqaMQEVEJWACJJPa///0PxsbGOHz4sNRRyuX+/fuIjY3FhAkTpI5CRETvwAJIJDEzMzMsWrQIp0+f1thzAfPy8rB161a4ublhyJAhUschIqJ3YAEkqgQmTpwIDw8PbNu2Dbm5uVLHEezgwYNISUnBhg0boKenJ3UcIiJ6BxZAokpAR0cH69evR2ZmJvbt2yd1HEHu37+P48ePY/78+XB0dJQ6DhERlQILIInqxYsXOHXqVJlmT58+jczMTDUnqrwaNGiAJUuW4NSpUxpzcejc3Fxs3boVLi4umDJlitRxiNROqVTi0KFDZbpW54MHDxAbGytCKqLyYwEkUS1evBg9e/bEkydPBM0lJyeja9euCAwMFClZ5TRx4kR89NFH2LBhAxISEqSOU6KCggKsW7cOmZmZPPRLWuvo0aPo3r079u/fL3h20KBBGD58OJRKpQjJiMqHBZBENXXqVOjr62PmzJmC5iwtLTFt2jQEBwfj7t27IqWrfHR0dLBr1y40adIEERERePr0qdSRilRYWIiNGzfi3r172LdvHw/9ktbq3LkzOnfujMmTJyMvL0/QbGBgIM6fP4/NmzeLlI6o7FgASVQWFhZYsGAB1q9fj5iYGEGzvr6+qFmzJqZOnSpSusrJ1NQUhw4dgq2tLcLDwyvdnsC8vDysW7cOcXFx+PXXX9GxY0epIxGJRqFQIDQ0FH///Te+++47QbMdOnTAl19+ienTp+PFixciJSQqGxZAEt2oUaPw/vvvw8vLS9B5NFWrVkVQUBB27dqFo0ePipiw8rGyssLJkyfRsGFDrFy5EnFxcVJHAgCkp6fj+++/x927d/Hbb7/h008/lToSkeiaNWuGsWPHYv78+UhKShI0GxQUhNTUVNmdzkKVn9YUQKVSiejoaFhZWWH37t3v/P3jx49DoVC89ePk5CR6VrnR09NDaGgoIiMjsW3bNkGzAwcORLt27eDt7Y2CggKRElZOVlZWOHbsGD744ANERERg69atyMnJkSSLSqVCdHQ0goKCkJGRgSNHjqBbt26SZCGSwrx586Crq4tZs2YJmqtXrx6mTp2K4OBg3Lt3T6R0RMJpRQF88OAB9PT04ObmhuTkZEGzV65cwb17917/lOVEX3q3zp07o3fv3pg2bRqysrJKPadQKBAWFoZr165h7dq1IiasnExNTXHw4EGsWbMG165dQ1BQEG7evFmhGdLT07Fu3Tps2rQJvXr1QmxsLNq1a1ehGYikZmlpiXnz5uGHH37ApUuXBM36+fnBysoK06ZNEykdkXBaUQCtra0RGxtbpsNk9vb2qFev3usfa2trERISACxfvhxJSUlYtmyZoDlXV1d8/fXXCAgIQEpKikjpKi+FQoHRo0fjxo0bcHZ2xpo1a7BlyxY8e/ZM1PfNzc3F6dOnERQUhKdPn2LXrl3YsmULLC0tRX1fospqzJgxaNq0aZlOZ1m6dCl+/fVXHDt2TMSERKWnUJXl4kaVmEKhwK5du9C7d+8Sf+/48ePo1KkTqlatCgMDA9SvXx/jxo3D8OHDi53Jzc194y4NGRkZsLOzQ3p6OkxNTdW1CFrNz88P3377LW7evAl7e/tSzz158gQNGzbE8OHDERYWJmLCyk2lUmHt2rXw8/NDamoqmjRpgvbt28PR0RG6urpqeY8nT54gMjIS0dHRyM3NxaBBgxAWFsbiRwTg8OHD6Nq1K7Zt24b+/fuXek6lUqF9+/Z4+fIlLl68qLb/XqlsMjIyYGZmJuvtt2wL4KNHj3Dp0iXY2NggKysLv//+O5YsWYJ169Zh2LBhRc7MnTsX8+bNe+txOX+AhMrMzESjRo3QsWNH/PLLL4Jmg4KCMGPGDFy9elX2lx3Jzs7G9u3bER4ejqioKFhYWKB169Zo2LAhbGxsYGRkVOrXKiwsRFJSEh4+fIiYmBjcvn0bVlZWGDVqFEaNGoW6deuKuCREmufzzz/H5cuXcfPmTRgbG5d6LioqCq1bt8aaNWswevRoERPSu7AAyrgAFsXT0xM3b97EuXPninyeewDVY8OGDfj6669x6tQpeHh4lHouNzcX77//Pt577z0cPHgQCoVCxJSa4+LFi1i1ahV++eUXZGVlQaFQoFatWrCxsYGtrS3Mzc2hp6cHfX19FBYWIj8/H9nZ2UhMTHz98+pz3a5dO0yYMAF9+/aFoaGhxEtGVDnduXMH77//PgICAhAQECBo1tPTE/v27cOdO3dgbm4uUkJ6FxZAFsA3LFq0CBs3bsStW7dK9fv8AJWNUqmEu7s7lEoloqKioKNT+lNR9+zZg969e/MSJEUoKCjAzZs3ER0djZiYGERFReHKlSvFfnO4QYMGcHNzg6urK1xcXODs7MzPMVEp+fr6Ijw8HLdu3YKdnV2p5x4/foxGjRphxIgRWLFihYgJqSTcfsu4ABYWFr51Dkbv3r2hq6uLX3/9tVTvxQ9Q2Z05cwbt27fHjz/+WOJ5l/+lUqnQtWtXPHjwANevX4eBgYGIKTVfYWEhXrx4gezsbOTk5EBfXx/GxsaoWrUq9/ARlUNGRgYaNmyILl26CL7Tx5IlSxAQEIBr166hSZMmIiWkknD7rSXfAlYqlUhLS0NaWhoA4OXLl0hLS3t9256NGzdCT08PJ06ceD3j6emJGTNmICoqCteuXYO/vz/27dsn+BpPVDbt2rXD4MGD4e/vj4yMjFLPKRQKrFixAnfv3hV8VX450tXVhZmZGWrXro169erBxsYGFhYWLH9E5WRqaorAwEBs2bIFZ86cETTr7e0Ne3t7+Pj4iJSO6N20ogA+fPgQ5ubmr8+nGDJkCMzNzbFlyxYA/xTEwsLCN76237lz59ff5nJzc8Px48dx8uRJODs7S7IMcrR06VK8ePECixYtEjT376vyV9Z75RKR9vP09ISLiwu8vLygVCpLPWdkZITg4GAcOHCA154lyWjdIeCKxF3I5bdgwQIsWLAAN27cQMOGDUs9l5ycjIYNG+KLL76Q5QWiiahyOH36ND744AOsX78enp6epZ5TqVTo0qULEhIScO3aNZ7OUsG4/daSPYCkuaZOnYo6depg6tSpguYsLS0xf/58/Pjjj7h48aJI6YiISubh4YGBAwfCz89P8OksoaGh+OuvvxAeHi5iQqKisQCSpIyNjbFs2TLs3bsXhw8fFjQ7ZswYODo6Cr4qPxGROi1duhQZGRlYvHixoLnmzZtjzJgxmDdvHpKSkkRKR1Q0PakDEH355Zc4deoULCwsBM3p6ekhLCwMp0+fRkFBAfT19UVKSERUPHt7eyxdurRMd8uZP38+cnNzBZ1DSKQOPAewHHgOARERkebh9puHgImIiIhkhwWQiIiISGZYAImIiIhkhgWQiIiISGZYAImIiIhkhgWQiIiISGZYAImIiIhkhgWQiIiISGZYAImIiIhkhgWQiIiISGZYAImIiIhkhgWQiIiISGZYAImIiIhkhgWQiIiISGZYAImIiIhkhgWQNE5qamqZ5lQqVZlniYjUJTs7G9nZ2WWa5d8wUhcWQNIo169fh52dHU6ePCl4dujQoejfvz9UKpUIyYiI3i0/Px9OTk5YunSp4Nl169ahUaNGSElJESEZyQ0LIGkUR0dHvP/++/D29kZhYaGg2QEDBuDIkSP47bffREpHRFQyfX199O3bF0FBQXj48KGg2R49eiA3Nxfz5s0TKR3JCQsgaRQdHR2EhYXh0qVLWL9+vaDZnj17omvXrvDx8UFubq5ICYmISjZjxgyYmZlh+vTpguZq166NWbNmYeXKlYiNjRUpHckFCyBpnDZt2mDIkCGYMWMG0tPTSz2nUCiwYsUK3L9/H2FhYSImJCIqnomJCQIDA7F161acOnVK0KyXlxfq1asHb29vns5C5cICSBppyZIlePnyJRYsWCBoztHREePHj8eCBQvw5MkTkdIREZVs6NChcHV1hZeXl6DTWQwNDRESEoLDhw9j3759IiYkbccCSBrJxsYGM2bMQFhYGG7fvi1odu7cuTA0NMSMGTNESkdEVDIdHR18++23uHTpEjZs2CBo9rPPPkOXLl3g4+ODvLw8cQKS1lOouA+5zDIyMmBmZob09HSYmppKHUd2srOz4ejoiGbNmgn+Ysfq1asxfvx4XLhwAa6uriIlJNJcKpUKiYmJiImJwZ07d5CVlYWcnByoVCoYGRnB2NgY9erVg4uLC+rXrw+FQiF1ZI00ZMgQHD58GHfu3BG0Hbl+/TqcnJywZMkSTJ06VcSE2onbbxbAcuEHSHo7duzAl19+iQMHDqB79+6lnisoKICzszNMTU1x+vRpbrxI9pRKJY4ePYqTJ08iKioK0dHReP78OQDAyMgIRkZG0NPTg0KhQH5+PvLy8pCVlQUAMDMzQ6tWreDq6or27dujR48e0NfXl3JxNEZCQgIaN26M8ePHIygoSNDsxIkT8dNPP+HOnTuoVauWSAm1E7ffLIDlwg+Q9FQqFTp16oSnT5/i6tWrgjY6f/75J7p06YItW7Zg0KBBIqYkqrxSUlKwfv16rFy5Evfu3YOpqSlsbW1f/9jb28PMzKzIfyRlZmYiPj4eCQkJiI+Px6NHj5CcnIyaNWtizJgxGDlyJGxtbSVYKs2yYMECLFiwADdu3EDDhg1LPZeSkoKGDRuib9++WLt2rYgJtQ+33yyA5cIPUOVw+fJluLi4ICQkBF5eXoJm+/bti6ioKNy8eRNVq1YVKSFR5XPp0iV8++23+OWXX1BYWIiWLVvCw8MD9erVK9ce8UePHiEyMhIxMTHIz89Hr169MGnSJHTs2FF94bVMdnY2mjRpgpYtW2Lv3r2CZsPDwzFp0iRER0ejVatWIiXUPtx+swCWCz9AlceYMWOwbds23LlzB1ZWVqWeu3v3Lpo2bQp/f3/MnTtXvIBElURWVhZmzZqF0NBQWFhYoG3btnB3d4eJiYla3ycnJwfR0dE4c+YMHj16hEGDBuG7776DpaWlWt9HW2zfvh39+/fHoUOH0LVr11LPFRQUwMnJCebm5jh58iRPZyklbr9ZAMuFH6DK49mzZ2jYsCEGDx6MVatWCZqdMWMGVqxYgVu3bsHe3l6khETSi4yMxLBhwxAfH49PPvkEHTp0gI6OuBeDUKlUiImJwa5du1C1alVERESgd+/eor6nJlKpVOjYsSOeP3+Oy5cvCzqd5ciRI/j444+xdetWDBgwQMSU2oPbb14GhrREjRo1MGfOHERERODq1auCZv39/VG9enX4+vqKlI5IWtnZ2fDx8cEHH3wApVKJKVOmoFOnTqKXP+CfC7C7urrC19cXNWvWRJ8+fTB48GAkJyeL/t6aRKFQIDQ0FHFxcVizZo2g2S5duuDzzz+Hr6/v6y/mEL0L9wCWA/8FUbnk5eWhRYsWsLa2xp9//inoUMhPP/0ET09PnDx5Eh988IGIKYkqVkpKCnr06IFLly5V2F6/4vx7b2DNmjVx9OhR1KtXT5IsldWoUaOwY8cO3LlzR9Dh8r/++guOjo6YNWsWZs+eLWJC7cDtNwtgufADVPkcOHAAPXr0wM6dO9GnT59SzymVSrRp0wYFBQWIioqCrq6uiCmJKsaTJ0/QuXNnxMfHY9SoUbCzs5M6EgAgOTkZa9asgZ6eHo4cOQJHR0epI1UaSUlJaNiwIf73v/8hPDxc0Oz06dPx3Xff4datW5VmXVdW3H7zEDBpmU8++QQ9evTAlClTkJOTU+o5HR0dhIWFlemq/ESV0fPnz9GpUyc8fvwY48ePr1SFwNLSEhMmTIBCoUCnTp3w119/SR2p0qhZsybmzJmD1atX49q1a4JmZ86cCVNTU/j5+YmUjrQJCyBpnZCQEMTHx2PFihWC5tq2bYshQ4ZgxowZSE9PFykdkfgyMjLQrVs3JCYmYuzYsahdu7bUkd5iZmaGsWPHQkdHBx999BESEhKkjlRpTJgwAQ0aNIC3tzeEHKQzNTVFYGAgtmzZgsjISBETkjZgASSt07hxY0ycOBG3bt0SPLtkyRKYmJiUaZaoshg1ahTi4uIwevRo1KxZU+o4xTIxMcHo0aORlZWFfv36obCwUOpIlYKBgQFCQkKQnJyMlJQUQbPDhg1D+/btcf36dZHSkbbgOYDlwHMIKq/CwsIyn8dXnlkiqe3cuRNffPEF/ve//8HFxUXqOKVy7949fPvttwgKCuJ9bf9/KpUKKpWqTF/Y4d+wd+P2m3sASUuV548f/3CSpnr+/DnGjBmDFi1aaNRdIRwcHNCxY0fMnDkTN2/elDpOpaBQKMr8bW3+DaPSYAEkItISEyZMQHZ2Nvr166dxd4T45JNPYG5uDk9PTx4KJqoALIBERFpgz5492LZtG/r06aORh7QMDAwwcOBAXLhwAaGhoVLHIdJ6LIBERFpgwYIFaNSokUYd+v0vBwcHtG3bFkuXLkVeXp7UcYi0GgsgEZGGi4qKQkxMDDp06KBxh37/68MPP8SzZ8+wa9cuqaMQaTUWQCIiDbdq1SpYWlqiadOmUkcpt9q1a6Nhw4ZYuXKl1FGItBoLIBGRBktOTsYvv/yCtm3bSnaPX3Vr3749Tp06JfhOGERUetrx14KISKY2bNiAwsJCuLu7Sx1FbZo3bw4zMzOsWrVK6ihEWosFkIhIg+3btw9NmjSBiYmJ1FHURldXF87Ozvjtt9+kjkKktVgAiYg0lFKpRExMDOrWrSt1FLWzt7dHYmIinj17JnUUIq3EAkhEpKH+/vtvZGZmwtbWVuooamdnZwcAiImJkTgJkXZiASQi0lCvytGrsqRNrKysUKVKFRZAIpFoTQFUKpWIjo6GlZUVdu/eXaqZBQsWwM7ODoaGhnBycsLhw4fFDUlEpEYxMTGwtLREtWrVpI6idgqFAra2toiOjpY6CpFW0pM6gDo8ePAADg4OUKlUpZ4JDw9HUFAQIiIi4OjoiC1btqBXr16IjY2Fg4ODiGmJiNTjypUrsLa2ljqGaKytrXHlyhWpYxBpJa3YA2htbY3Y2FjExcWVeiYiIgIzZ87E4MGD4eTkhKCgIDRs2BAbNmwQLygRkRplZGTA2NhY6hiiqVKlCjIzM6WOQaSVtGIPoL6+Ppo0aVLq38/JycGNGzfg6ur6xuMeHh4lnm+Sm5uL3Nzc1/87IyNDeFgiIjXJycnRysO/r+jr67/xN5eI1Ecr9gAKlZycDJVKBVNT0zcet7S0RFJSUrFzgYGBMDMze/2jjSdey41KpcLYsWMRFhYmePbs2bP44IMP8OLFCxGSEb1bfn4+dHV1pY4hGh0dHeTl5Ukdo9Jbv349Bg8eLHguKSkJnTt35nmWMiXLAviKnt7bO0BLupG6v78/0tPTX//Ex8eLGY8qgEKhgEKhwJw5c0os/0WpXbs2oqKisHTpUpHSEZXM0NAQBQUFUscQTWFhIYyMjKSOUemZmpril19+wYEDBwTNWVhYICkpCV5eXoLOoSftIMsCaGlpCYVCgdTU1DceT05OhpWVVbFzhoaGMDU1feOHNN/8+fOhUCgQEBAgaM7BwQFTp07FsmXLcP/+fXHCEZXAyMgI+fn5UscQTV5eHgwNDaWOUen17dsXHTt2hI+Pj6DPg56eHkJDQ3HmzBls3bpVxIRUGcmyABoZGcHR0RGnT59+4/EzZ87A2dlZolQkFSsrK8ybNw9r167F5cuXBc36+fnB0tISvr6+4oQjKkHNmjW1+lzk9PT0Ev9RTv9QKBQIDQ3F7du3Bd8/uXPnzujTpw98fX2RlZUlUkKqjLSiACqVSqSlpSEtLQ0A8PLlS6Slpb0+d2Tjxo3Q09PDiRMnXs+MGjUKy5cvx969e3Ht2jX4+voiLi4Onp6eEiwBSW3s2LFo0qQJvL29BR0KqVatGpYsWYLt27e/8fkiqgguLi5ISEjQ2sN3iYmJcHNzkzqGRmjZsiVGjhyJOXPmCL593vLly5GUlISgoCCR0lFlpBUF8OHDhzA3N4e5uTkAYMiQITA3N8eWLVsA/FMQCwsL3/gjOXHiREyZMgVjx46Fi4sLDh06hL1796JBgwaSLANJS19fHytWrMCJEyfw66+/Cpr96quv4O7uDi8vLxQWFoqUkOhtLi4uePnyJZKTk6WOonYFBQV49OgRXFxcpI6iMRYsWAAAmD17tqC5+vXrw8fHB0uXLsXDhw/FiEaVkEKlrf90rAAZGRkwMzNDeno6zwfUEp999hmuXbuGuLg4QddXO3/+PNq0aYOIiAiMGjVKxIRE/+fp06eoXbs2PD094eTkJHUctYqPj0dwcDAiIyPRrl07qeNojNDQUEyZMgUXL15Ey5YtSz2XmZmJRo0aoUOHDrI4H5Dbby3ZA0ikLsHBwXj06BGCg4MFzbm7u2Po0KGYOXPm61MRiMRWq1Yt1KlTRyuvSJCQkAAdHR2tK7ZiGz9+PBo1aiT4dBYTExMsWbIE27Ztw6lTp0RMSJUFCyDRvzRq1AheXl4IDAxEYmKioNnAwEBkZ2e/PgxDVBFat26Nu3fvSh1D7f7++280adIEVapUkTqKRnl1Osvx48exa9cuQbP/+9//4ObmxtNZZIIFkOg/Zs2ahapVq8LPz0/QnLW1NWbMmIFvv/0Wt27dEikd0ZsGDx6Me/fu4dGjR1JHUZuXL1/i6tWrGDJkiNRRNFL37t3Ro0cPTJkyBTk5OaWe09HRQVhYGC5dusTbosoACyDRf5iZmWHx4sXYtGkTzp49K2jWx8cHtra28PHxESkd0Zt69+6NmjVrIjIyUuooanPhwgUAwDfffCNxEs0VEhKChIQEhISECJpr27YtvvrqK8yYMQPp6ekipaPKgAWQqAhff/01nJ2d4eXlBaVSWeo5IyMjBAcHY//+/YKvyk9UFgYGBhgzZgxiYmIE7e2prJRKJc6ePYsvv/wSNWvWlDqOxmrcuDEmTZqExYsXC947vGTJErx48QILFy4UKR1VBiyAREXQ1dVFWFgYoqKisGnTJkGzffr0QadOnTB58mStvksDVR4jR45Efn6+VtzT9datW0hKSsK4ceOkjqLxAgICUKVKFfj7+wuas7W1hb+/P8LCwnDnzh2R0pHUWACJivHBBx9gwIAB8PPzQ2ZmZqnnXl2V/86dO1i5cqWICYn+YWtri169euHkyZOvL4CviVQqFY4ePYpmzZqhbdu2UsfReNWrV8eiRYuwceNGnD9/XtDslClTYG1tjSlTpoiUjqTGAkhUgqCgIKSmpiIwMFDQXIsWLTBq1CjMnTtX8FX5icpi4cKFSEtLw8GDB6WOUmZnz57FnTt3sHz5cigUCqnjaIXhw4ejZcuWgk9nMTY2xrJly/Dbb7/h0KFDIiYkqbAAEpXA3t4evr6+CA4OFnypjfnz50OhUCAgIECkdET/x9HREfPmzcPx48dx//59qeMIlpKSgr179+Kbb75Bt27dpI6jNV6dznL+/Hls3rxZ0Gy/fv3w4Ycf8nQWLcU7gZQDryQuDy9fvkSTJk3QunVrwbeJCwsLg4+Pj+Cr8hOVRUFBAdq0aYPExERMmTIF+vr6UkcqFZVKhTVr1uDFixeIjY3l31MR9O/fH5GRkbh16xaqVatW6rnLly+jVatWCAsLw8SJE0VMWLG4/eYeQKJ3qlq1KoKCgvDbb78J3gs4btw4NGrUiOcCUoXQ09PDxo0bkZKSgv3790sdp9TOnDmDW7du4ccff5TtxlhsQUFBSElJEfyPWCcnJ4wcORLfffcdLw6tZbgHsBz4Lwj5UKlUuH//PhwcHATPPnjwADY2NtDT0xMhGdHbli1bBl9fXwwcOBBt2rSROk6J4uLi8OOPP2L48OGIiIiQOo5Wu3v3LurXry94LiUlBQqFAubm5iKkkga33wC3SESloFAoylT+AKBu3bpqTkNUsqlTp+Lu3bv4/vvvYWRkVGnvp3v37l1s2LABXbt2RXh4uNRxtF5Zyh8AWFhYqDkJVQYsgEREWkahUGDlypXIyMjAxo0bkZ+fDzc3N6ljveH27dv48ccf4e7ujh07dmjM+YpE2oIFkIhIC+no6GDjxo0wMjLCunXr8PLlS3To0KFSXF7l8uXL2LRpEz766CPs3LkTxsbGUkcikh0WQCIiLaWrq4sffvgBlpaWWLZsGW7evIkBAwZIdi7Xy5cvsWvXLkRHR6N///74+eefYWBgIEkWIrnjt4CJiLSYQqFAUFAQDhw4gIyMDAQFBeHs2bOo6O//Xb9+HUFBQbh9+zY2bNiArVu3svwRSYgFkIhIBrp3747Y2FgMHDgQ27ZtQ0REBJ48eSL6+6ampmLTpk344Ycf0L59e8TGxmLYsGGV4lA0kZzxMjDlwK+RE5EmOnjwIEaMGIHExEQ0bNgQ7du3R/PmzaGrq6uW11cqlbh16xbOnDmDGzduwMTEBGFhYRg6dCiLH1UK3H6zAJYLP0BEpKny8vKwc+dOhIeHIzIyEtWrV4e7uzuaN2+OOnXqCC6DSqUSSUlJiIuLw9mzZ5GUlIRmzZph4sSJGDx4sKC7TxCJjdtvFsBy4QeIiLTBtWvXsHr1amzcuBEvX76Evr4+bGxsYG1tDTs7O9SuXRuGhobQ09ODQqFAfn4+8vPz8ezZMzx8+BCJiYlITExETk4ODAwM8OWXX2LcuHFo27Yt9/hRpcTtNwtgufADRETa5OXLl7h06RJiYmIQExODqKgo3L59G0qlstgZBwcHuLm5wcXF5fVP9erVKy40URlw+80CWC78ABGRtnvx4gXu3r2L7Oxs5OTkQKlUwtjYGEZGRqhbt65W3R6M5IPbb14HkIiISlCtWjW0aNFC6hhEpGa8DAwRERGRzLAAEhEREckMCyARERGRzLAAEhEREckMCyCRmsXGxmL58uWC5/Lz87FixQrcvHlThFRERKWTkpKCWbNmITs7W/Ds/v37sWPHDhFSkbqxABKp2blz5zBt2jRERkYKmissLMR3330HHx8fkZIREb1bcnIygoKCEBwcLHh269atGDduHNLS0tQfjNSKBZBIzTw9PeHi4gIvL68SL6D7X0ZGRggODsaBAwewf/9+ERMSERWvYcOG8PLyQmBgIBISEgTNBgYGIisrCwsWLBApHakLCyCRmuno6CAsLAwxMTH46aefBM327t0bH330ESZPnoy8vDyREhIRlWzWrFmoVq0a/Pz8BM3Z2NhgxowZ+Pbbb3Hr1i2R0pE6sAASiaB9+/YYNGgQ/P39kZGRUeo5hUKB0NBQ/PXXXwgPDxcxIRFR8czMzLB48WJs3rwZZ8+eFTTr4+MDW1tbns5SybEAEolk6dKlyMjIwKJFiwTNNW/eHGPGjMG8efOQlJQkUjoiopJ5enrC2dm5zKez7N+/HwcOHBAxIZUHCyCRSOzs7ODn5/d6j54Q8+fPh66uLgICAkRKR0RUMl1dXYSFhSEqKgo///yzoNk+ffqgU6dOmDx5MvLz80VKSOXBAkgkoqlTp6JWrVqYOnWqoDlLS0vMnTsXa9euxeXLl8UJR0T0Dh988AEGDBgAPz8/ZGZmlnru1eksd+7cwcqVK0VMSGXFAkgkoipVqmDZsmXYs2cPDh8+LGh27NixaNKkCby8vKBSqURKSERUsqCgIKSlpSEwMFDQXIsWLTBq1CjMnTsXz549EykdlRULIJHI+vfvDw8PD0yePBkFBQWlntPX18eKFStw8uRJXliViCRjb28PX19fBAcH4+7du4Jm58+fD4VCwdNZKiEWQCKRKRQKhIWFITY2FhEREYJmu3Xrhs8++wzTpk0r01X5iYjUwdfXFzVr1hR8OkuNGjVen85y5coVkdJRWbAAElWAVq1a4ZtvvkFAQACSk5MFzQYHB+PRo0dluio/EZE6VK1aFUFBQdi1axeOHj0qaHbcuHFo1KgRvL29eTpLJcICSFRBFi5ciIKCAsydO1fQXHmuyk9EpC4DBw5E+/bt4e3tXabTWY4fP46dO3eKmJCEYAEkqiC1atXC7NmzsXr1aty4cUPQbFmvyk9EpC6vvtl77do1rF27VtBs9+7d0bNnT0ydOhU5OTkiJSQhWACJKtCkSZNQv359TJ48WdChkPJclZ+ISF1cXV3x9ddfIyAgAKmpqYJmQ0JCkJCQgJCQEJHSkRAsgEQVyMDAACEhITh8+DB+++03QbOenp5o1aqV4KvyExGp0+LFi5Gbm4t58+YJmmvUqBG8vLywePFiJCYmipSOSosFkKiC9ezZE926dYOPjw9yc3NLPVeeq/ITEalL7dq1ERAQgPDwcMTGxgqaDQgIQJUqVeDv7y9SOiotFkCiCqZQKBASEoL79+8jPDxc0KyHh8frq/JnZWWJlJCIqGReXl6oV68epk2bJmjOzMwMixYtws8//4yoqCiR0lFp6EkdgEiOHB0dsXXrVnTs2FHwbFBQEK5fv44qVaqoPxgRUSkYGhpiw4YNqF69uuDZ4cOHQ19fH05OTmrPRaWnUPGiPGWWkZEBMzMzpKenw9TUVOo4REREVArcfvMQMBEREZHssAASERERyQwLIBEREZHMaE0BXLBgAezs7GBoaAgnJyccPny4xN8/fvw4FArFWz88KZWIiIi0nVZ8Czg8PBxBQUGIiIiAo6MjtmzZgl69eiE2NhYODg4lzl65cuWNE0ANDAzEjkukNo8ePcLVq1eRlpaG7Oxs5OXlwdDQEMbGxjAyMgIA5ObmIjs7G7m5udDT04OxsTFMTEzQrFkz1K1bFwqFQuKlICKiiqYVBTAiIgIzZ87E4MGDAQBOTk44ePAgNmzY8M4rldvb25fpa+xEFe3Fixc4duwYoqOjX/8kJSUV+bs6OjqluluIubk5XFxc4OrqChcXF3Tq1AmWlpbqjk5ERJWMxhfAnJwc3LhxA66urm887uHhgZiYmHfO29rawsDAAPXr18e4ceMwfPjwYn83Nzf3jTs3ZGRklD04USnFxsZi9erV2LBhA168eAETExPY2tqiZcuWsLKywpMnT3Dp0iWkpaXBwMAANjY2sLOzg62tLezs7GBubg49PT3o6upCpVIhPz8f2dnZSExMRHx8PBISEhAREYHU1FQYGBhg0KBBGDduHNzc3Lh3kIhIS2l8AUxOToZKpXrrOj6WlpaIjo4udq5Ro0bYt28fbGxskJWVhd9//x0jR46Erq4uhg0bVuRMYGCg4HsfEpVFfn4+du/ejZUrV+LEiRMwMzND27Zt4e7uDgsLC9y/fx+RkZE4evQodHR04OzsjHbt2sHe3h46OsWf2qtQKGBoaAhDQ0NUr14d77///uvn0tLSEBMTg99//x0//fQTnJ2dMWHCBAwcOJAXnSYi0jIafyHoxMRE2NraIiYmBq1atXr9eEBAAP744w+cP3++1K/l6emJmzdv4ty5c0U+X9QeQDs7O1lfSJLU7+LFixg6dChu3LiBBg0aoF27dmjRogX09PSQmZmJ7du34+rVq7CysoKHhwfc3NxQtWpVtb2/UqlEXFwcIiMjERcXB1tbW2zYsAEfffSR2t6DiEhKvBC0FuwBtLS0hEKhQGpq6huPJycnw8rKStBrNWzYEGfPni32+Vd7TojEkJeXh4ULF2Lx4sWoU6cOfHx8YG9vDwBQqVS4ePEifv31VygUCgwdOhROTk4l7u0rKx0dHbz//vt4//33kZSUhO3bt6Nz584YPXo0li1bBhMTE7W/JxERVSyNL4BGRkZwdHTE6dOn0blz59ePnzlzBp9++mmxc4WFhdDV1X3jsaioKDRr1ky0rETFebXX7+bNm/j444/RpUsX6On985/nv/f6OTk5oV+/fqhWrVqF5KpZsybGjh2LyMhI/PTTT9i/fz/3BhIRaQGNL4AAMGrUKMycORPOzs5wcHDAzz//jLi4OOzYsQMAsHHjRgwfPhx//vknOnToAOCfw712dnbo06cPjIyMsGXLFuzbtw9RUVFSLgrJ0ObNm+Hp6YnatWtj8uTJsLW1ff1cYmIi1qxZA5VKBU9PT0muU6mjo4MPPvgATZs2xbZt29C5c2cEBQVh2rRpFZ6FiIjUQysK4MSJE5GSkoKxY8fi2bNnaNq0Kfbu3YsGDRoA+OecpsLCQvz7dMfOnTtj5cqVWL16NbKzs+Hs7IyTJ0/C2dlZqsUgGVq1ahUmTJgANzc39O/f//VePwC4d+8eIiIiYGVlhdGjR0t+6NXKygpjx47FgQMH4Ovri9TUVCxatIjfFCYi0kAa/yUQKfEkUiqPVatWYfz48ejQoQM+//zzN87nu3//PlatWgU7OzuMGDECxsbGEiZ927Fjx7Bnzx74+vpi6dKlUschIhKE228t2QNIpGk2bdr0uvz17t37jb1ojx49QkREBGxtbTF69OhKeXeaTp06QUdHB0FBQTA3N4efn5/UkYiISACtuRcwkaa4cOECPD094e7u/lb5y8rKwvfffw8LCwuMGDGi3OUvKysL8fHx5Y1cpA4dOqBbt27w9/fHrl27RHkPItIOd+7cwYMHDwTPFRQU4NixYyIkIhZAogqUk5ODYcOGwcbGBv3793/r/Lk9e/YgOzsbI0aMUMvFl3fu3Ikff/wReXl55X6tonTv3h3NmzfH6NGjkZycLMp7EJFmUyqV6NGjB7y8vATPbt68GZ07d8alS5dESCZvLIBEFWjevHn466+/MGjQoLcuQxQbG4vz58+jd+/eMDc3V8v7devWDZmZmTh69KhaXu+/FAoF+vXrh6ysLEyYMEGU9yAizaajo4OFCxdiz549OHLkiKDZwYMHo2nTpvDy8gK/sqBeLIBEFeTChQsICgpC165dUadOnTeey8rKwrZt29C4cWO0adNGbe9Zo0YNdOzYEX/++edbF0tXFzMzM/Tp0wdbt27loWAiKlL//v3h4eEBb29vFBQUlHpOX18foaGhOHXq1OtLu5F6sAASVYDc3FwMGzYMtra2b1yw/JU9e/YgJycHAwcOVPtlVT7++GMYGRnht99+U+vr/puLiwsPBRNRsRQKBcLCwhAbG4uIiAhBsx9//DE+++wzTJ06FdnZ2SIllB8WQKIKsG3bNty8eRMDBw5869Dv8+fPceHCBXz66adqO/T7b0ZGRvj0009x8eJF3L17V+2vD/zfoeCMjAysWrVKlPcgIs3WqlUrDB8+HAEBAYL/oRgcHIzHjx9j+fLlIqWTHxZAogqwatUqNGnSBNbW1m89d+bMGRgZGcHd3V2093dzc4OdnR127twJpVIpynuYmZmhVatWWL16taBDPEQkH4sWLUJBQQHmzp0raK5hw4bw9vZGYGCgaFc2kBsWQCKRXbx4EefPn0f79u3fei4/Px/nz59H69atRb3en46ODvr27YuEhARcuHBBtPdp3749Hj9+jH379on2HkSkuWrVqoXZs2dj9erVuHHjhqDZWbNmwcTEhNcdVRMWQCKRrVq1ChYWFnB0dHzrucuXL+Ply5dFlkN1c3BwgIuLC37//Xfk5OSI8h62trZwcHDAypUrRXl9ItJ8kyZNQv369TF58mRB3+w1NTVFYGAgtmzZgjNnzoiYUB5YAIlElJaWhs2bN6NNmzZvnfsHAKdPn0bjxo1Rs2bNCsnz6aefIicnB3/88Ydo79GuXTscOXIEt2/fFu09iEhzGRgYIDg4GIcPHxb85TRPT0+0atUKXl5eop3OIhcsgEQiOnjwIHJycoo8vy89PR0PHjwQ9dy//zI3N0fnzp1x4sQJPHv2TJT3cHJygpGREXbu3CnK6xOR5vv000/RtWtX+Pj4IDc3t9RzOjo6CAsLQ3R0NDZu3ChiQu3HAkgkoujoaFhZWcHMzOyt516dyOzg4FChmT766COYmppiz549ory+vr4+bG1tERMTI8rrE5HmUygUWLFiBe7fv4+wsDBBsx4eHhg4cCD8/f2RmZkpUkLtxwJIJKLo6GjY2NgU+Vx8fDyqVq2K6tWrV2gmAwMD9OrVC9evX8etW7dEeQ9bW1tERUWJ8tpEpB0cHR0xfvx4LFy4EE+ePBE0u3TpUqSnp2Px4sUipdN+LIBEIlEqlbh48SJsbW2LfD4+Ph52dnZqv/BzaTg5OaF+/frYtWsXCgsL1f76dnZ2ePDgAVJSUtT+2kSkPebOnQsDAwPMnDlT0Jy9vT2mT5+OkJAQ/P333yKl024sgEQi+fvvv5GZmQl7e/sin09ISICdnV0Fp/qHQqFA37598fTpU1G+Tfeq9F68eFHtr01E2sPc3Bzz58/H+vXrER0dLWh22rRpqFWrFqZOnSpSOu3GAkgkkkuXLgFAkYeAMzMzkZGRUezewYpga2sLd3d3HDhwAC9fvlTra9eoUQNGRkav/z8gIirOqFGj8P7778Pb21vQZWGqVKmCoKAg7N69G3/++aeICbUTCyCRSNLS0qBQKFC1atW3nsvKygIAVKtWraJjvaFnz55QKpU4ePCgWl9XR0cH1apVQ1pamlpfl4i0j56eHkJDQxEZGYlt27YJmh0wYADat28Pb29v3oFIID2pAxBpq+zsbBgYGBR5jl9+fj6Af74xW9HS09Pf+N8ffvghjhw5gubNm8PY2Fht76Orq1vkjdsfP36Mx48fl+k1nz17hufPn7/xmJWVFWrUqFGm16tTpw7q1KmjtoxF5dP2jOrOpwkZuZ7Ln6+ojK6urhg3bhxycnKKfK/ijB07FkOGDEFAQAACAwPLlEWOWACJRJKXlwc9vaL/E3v1xYvinhfTf8/5U6lUqF27Nq5cuYLIyEi1vY+pqWmR1/eKiIjAvHnz1PY+5TFnzpwi70nKjKVX2fMBzKgOFZnv66+/LtPcvn37WAAFYAEkEomBgUGxhyRe3RVEikMW7dq1e+sxDw8PAECbNm3U9j6bNm2CoaHhW4+PHj0avXr1KtNrirEHsChlzSjWnqGiVJaM6s4HVP6MXM/lzwcUn1FHRwcWFhalfp0aNWrg2bNnqFWrVplyyBULIJFIjI2NkZeXB5VK9dZh4FeHfl8dCq5IRV2UujTPCVVYWFjkIeXiDiVVJsxYfpU9H8CM6lDZ81Hx+CUQIpGYm5tDpVIV+Q3bKlWqAABevHhR0bEqhFKpxIsXLyr8ItdERFQ6LIBEInFycgLwz/X+/svExASmpqZFPqcNnj17hpycHDg7O0sdhYiIisACSCSS9957DyYmJq/v+ftfdnZ2xT6n6V4V21atWkmchIiIisICSCQSHR0dtGrVqti9fLa2toiPjxd04VNN8fDhQ9StW1fQidxERFRxWACJROTq6orExMQin7Ozs8PLly+18mLJiYmJcHNzkzoGEREVgwWQSESurq54/vz5WxdfBvD6PsD37t2r6Fiiys/PR0JCAlxcXKSOQkRExWABJBJR9+7dYWRkhPPnz7/1nJmZGerWrVvkc5rs8uXLyMnJQd++faWOQkRExWABJBJR9erV8dVXX+HcuXOv7/7xbx4eHrh16xaSkpIkSCeOM2fOoEuXLmjUqJHUUYiIqBgsgEQiGzduHFJSUhAbG/vWc05OTqhatapab8Empfj4eNy7dw/jx4+XOgoREZWABZBIZK1atYK7u3uRJU9fXx9t2rTBhQsXkJeXJ0E69YqMjIS1tTU+/fRTqaMQEVEJWACJKsD48eNx8+bNIr8R3K5dO+Tk5Gj8uYDp6em4dOkSxo4dCz093mWSiKgyYwEkqgD9+/dHkyZNsG3btrfOBbS0tIS7uzv27duH1NRUiRKWj0qlwvbt22FmZoaxY8dKHYeIiN6BBZCoAhgaGmLjxo1ITEzEn3/++dbzn3/+OYyNjbF161aNvDB0TEwMrl+/joiICFhaWkodh4iI3oEFkKiCuLm5wdfXF3/88QcePXr0xnPGxsYYMGAAbt26hXPnzkmUsGzS09Oxa9cuDBo0CL1795Y6DhERlQILIFEFmjNnDho0aICtW7e+dSi4adOmcHd3x+7du5GSkiJRQmFeHfqtWrUqvvvuO6njEBFRKbEAElWgfx8K3rZtG5RK5RvP9+7dG8bGxvjhhx+QlZUlUcrSO3jwIA/9EhFpIBZAogrm5uaGjRs3IioqCrt3737jnD9jY2OMHj0aaWlpWLt2LXJzcyVMWrLjx4/j0KFDWLJkCQ/9EhFpGBZAIgkMHjwYq1atwsmTJ7Fr16439gTWqVMHo0ePxqNHjxAREYHs7GwJkxbt6NGj2L17N/z8/DB9+nSp4xARkUAsgEQSGTNmDFavXo1Tp05h69atKCgoeP1c3bp1MWbMGDx+/BgrV65ERkaGhEn/j1KpxO+//469e/di1qxZWLx4sdSRiIioDBQqTbzmRCWRkZEBMzMzpKenw9TUVOo4pKF++eUXDB06FLVr18bAgQNha2v7+rlHjx5hzZo1KCwsRL9+/eDs7CxZzufPn2Pbtm24c+cOli1bhqlTp0qWhYioPLj9ZgEsF36ASF0uXbqEoUOHIi4uDl26dMHHH3/8+m4amZmZ2LFjB65cuYKWLVuiX79+MDExqbBsSqUSp0+fxu+//45atWphw4YN6NSpU4W9PxGRunH7zQJYLvwAkTrl5eVh0aJFWLx4MWrXro3+/fvD3t4ewD+XW7l06RJ+/fVXAEDfvn3h7OwMHR1xz+J4+vQpduzYgTt37mDs2LEICgpCtWrVRH1PIiKxcfvNAlgu/ACRGF7tDbx+/Tree+89tGvXDi1btoSent4bewOtrKzQrl07uLu7o2rVqmp7f6VSidjYWJw5cwaxsbGwt7fnXj8i0ircfrMAlgs/QCSW/Px87N27FytXrsSxY8dgamqK1q1bw93dHZaWlnjw4AEiIyNx6dIlKBQKODs7o127drC3t4eurm6Z3jMtLQ1RUVE4d+4ckpOT4eLiggkTJmDAgAEwNjZW8xISEUmH228WwHLhB4gqQlxcHNasWYP169cjMzMTJiYmsLGxgY2NDWrWrImnT5/i0qVLSE1Nhb6+PmxsbGBnZwdbW1vY2dmhevXq0NfXh56eHpRKJfLz85GdnY3ExETEx8cjISEBiYmJSEtLg6GhIQYNGoRx48bBzc1N6kUnIhIFt98sgOXCDxBVpJcvX+L48eOIiYlBdHQ0oqOj8fjx4yJ/V0dH5627jBTFwsICbm5ucHV1hYuLCzp06AALCwt1RyciqlS4/WYBLBd+gEhqT548wZUrV5Ceno7s7Gzk5eXB0NAQxsbGMDIygkKhQE5ODrKzs5GTkwN9fX0YGxujWrVqaN68Oezs7KBQKKReDCKiCsXtN6AndQAiKrvatWujdu3aUscgIiINwzuBEBEREcmM1hTABQsWwM7ODoaGhnBycsLhw4dFmSEiIiLSdFpRAMPDwxEUFISlS5fi/Pnz6Nq1K3r16oV79+6pdYaIiIhIG2jFl0CaN2+Or776Cn5+fq8fa9GiBfr06YN58+apbea/eBIpERGR5uH2Wwu+BJKTk4MbN27A1dX1jcc9PDwQExOjthkAyM3NRW5u7uv/nZ6eDuCfDxIRERFphlfbbS3YB1ZmGl8Ak5OToVKp3mrwlpaWiI6OVtsMAAQGBha5d9DOzq4MyYmIiEhKmZmZMDMzkzqGJDS+AL6ip/f2orzr+mZCZ/z9/eHj4/P6f6elpaFu3bp4+PChrD5AGRkZsLOzQ3x8vKx2nXO55bPcclxmgMvN5ZaHV8sdGxsLa2trqeNIRuMLoKWlJRQKBVJTU994PDk5GVZWVmqbAQBDQ0MYGhq+9biZmZms/uN5xdTUlMstI3JcbjkuM8Dllhu5LreNjQ10dLTiu7BlovFLbmRkBEdHR5w+ffqNx8+cOQNnZ2e1zRARERFpC40vgAAwatQoLF++HHv37sW1a9fg6+uLuLg4eHp6AgA2btwIPT09nDhxotQzRERERNpK4w8BA8DEiRORkpKCsWPH4tmzZ2jatCn27t2LBg0aAACUSiUKCwvf+LbPu2ZKw9DQEHPmzCnysLA243JzubWdHJcZ4HJzueVBrsv9X1pxHUAiIiIiKj2tOARMRERERKXHAkhEREQkMyyARERERDLDAkhEREQkMyyAJViwYAHs7OxgaGgIJycnHD58WJSZykboMhw/fhwKheKtHycnp4oJrCZKpRLR0dGwsrLC7t27SzWjDetb6HJr+vret28fOnfujDp16qBatWpwdXXF3r173zmn6eu6LMut6esaAE6fPo2uXbvC2toaRkZGaNSoEYKDg985p+nruyzLrQ3r+98SEhJga2uL3r17v/N3NX19l4VWXAZGDOHh4QgKCkJERAQcHR2xZcsW9OrVC7GxsXBwcFDbTGVTnmW4cuXKG1eTNzAwEDuu2jx48AAODg6CbgyuDeu7LMv9iqau76ioKHz44YeYN28ezM3NsXnzZnzxxReIiooqdkOnDeu6LMv9iqauawC4du0a3NzcMHPmTNSuXRunTp3CuHHjULduXfTr16/IGW1Y32VZ7lc0eX2/kpGRgR49eiA3N/edv6sN67tMVFSkZs2aqQIDA994rHnz5qrZs2erdaayKcsyHDt2TAVAlZqaKnI68eTl5ani4uJUcXFxKgCqXbt2vXNGG9Z3WZZbG9b3f9WrV08VHBxc7PPasK6L8q7l1sZ1rVKpVE5OTlr/t7wo71pubVnfeXl5qi5duqgmTZqkGjZsmOrzzz8v8fe1dX2/Cw8BFyEnJwc3btyAq6vrG497eHggJiZGbTOVTXmXwdbWFhYWFnB1dcW6devEiikKfX19NGnSBE2aNCnV72vD+gaEL/e/afL6/rf8/HykpaXB3Ny8yOe1ZV3/17uW+9+0ZV3n5uZiy5YtiI+Px6BBg4r8HW1c36VZ7n/T9PU9cuRIVKtWDStWrHjn72rj+i4tHgIuQnJyMlQq1Vs3x7a0tER0dLTaZiqbsi5Do0aNsG/fPtjY2CArKwu///47Ro4cCV1dXQwbNkzs2JLQhvVdVtq2vkNCQqCjo4M+ffoU+by2rut3LTegXet6yZIlmDFjBiwsLLB58+Zi/9Gjbeu7tMsNaMf6nj17Nm7evIljx45BR+fd+7i0bX0LwQJYAj29t//vUSgUap+pbIQug7W1NaytrV//73bt2iExMRGrV6/WmD8aZaUN61sobVrfW7duxbx587Br1y5Ur169xN/VpnVd2uXWpnU9cuRIdO/eHVFRURgwYADWrVuHvn37Fvv72rK+hSy3pq/vffv2YcuWLTh79iyMjY0FzWrL+haCBbAIlpaWUCgUSE1NfePx5ORkWFlZqW2mslHnMjRs2BBnz55VZ7xKRRvWtzpp4vpet24dvL29sX37dnTr1q3Y39O2dV3a5S6OJq5r4J/1aGlpCScnJ1y5cgWhoaFFFiFtW9+lXe7iaNL6/uuvv/DgwQPY2dm9fiw/Px8AYGRkhAsXLqBFixZvzGjb+haC5wAWwcjICI6Ojjh9+vQbj585cwbOzs5qm6lsyroMhYWFbz0WFRWFZs2aqT1jZaEN67usNH19q1QqBAQEwNfXFwcPHkTPnj1L/H1tWddClxvQ/HVdnIyMDJiZmRX5nLas76KUtNyA5q/vYcOG4dq1a7h8+fLrn169eqFTp064fPkyGjdu/NaMNq/vd5Ls6yeVXFhYmKpatWqqPXv2qK5evaqaNm2aysDAQHXnzh2VSqVS/fTTTypdXV3V8ePHSz2jCcqy3EOGDFH5+/urLly4oLp69arKz89Ppaurq7p48aJUiyFYYWGhKjU1VZWamqoCoNq0aZMqNTVVlZubq1KptHd9l2W5NX19DxkyRFWzZk3V4cOHVffu3XvjR6XS3nVdluXW9HWtUqlUX375pSokJEQVGRmpunbtmiowMFClq6v7+hvv2rq+y7Lc2rC+/+u/3wLW1vVdFiyAxVAqlao5c+aorK2tVfr6+qoWLVqoDh48+Pr59evXqwCojh07VuoZTVCW5V6/fr3K1dVVVb16dZWhoaGqTZs2qsjISAnSl929e/dUAN76Wb9+vUql0t71XZbl1vT1Xbdu3SKX+dW/h7V1XZdluTV9XatUKtWKFStUbm5uKgsLC1W1atVUrVu3Vu3cufP189q6vsuy3Nqwvv/rvwVQW9d3WShUqjJcAZaIiIiINBbPASQiIiKSGRZAIiIiIplhASQiIiKSGRZAIiIiIplhASQiIiKSGRZAIiIiIplhASQiIiKSGRZAIiIiIplhASQiIiKSGRZAIiIiIplhASQiIiKSGRZAIiIiIplhASQiIiKSGRZAIiIiIplhASQiIiKSGRZAIiIiIplhASQiIiKSGRZAIiIiIplhASQiIiKSGRZAIiIiIplhASQiIiKSGRZAIiIiIplhASQiIiKSGRZAIiIiIplhASQiIiKSGRZAIiIiIplhASQiIiKSGRZAIiIiIplhASQiIiKSGRZAIiIiIplhASQiIiKSGRZAIiIiIplhASQiIiKSGRZAIiIiIplhASQiIiKSGRZAIiIiIplhASQiIiKSGRZAIiIiIplhASQiIiKSGRZAIiIiIplhASQiIiKSGRZAIiIiIplhASQiIiKSGRZAIiIiIplhASQiIiKSGRZAIiIiIplhASQiIiKSGRZAIiIiIplhASQiIiKSGRZAIiIiIplhASQiIiKSGRZAIiIiIplhASQiIiKSGRZAIiIiIplhASQiIiKSGRZAIiIiIplhASQiIiKSGRZAIiIiIplhASQiIiKSGRZAIiIiIplhASQiIiKSGRZAIiIiIpn5/wDCXttGIZusYgAAAABJRU5ErkJggg==' width=640.0/>\n",
       "            </div>\n",
       "        "
      ],
      "text/plain": [
       "Canvas(toolbar=Toolbar(toolitems=[('Home', 'Reset original view', 'home', 'home'), ('Back', 'Back to previous …"
      ]
     },
     "metadata": {},
     "output_type": "display_data"
    }
   ],
   "source": [
    "from ase.visualize.plot import plot_atoms\n",
    "\n",
    "plot_atoms(atoms, radii=0.3, rotation=('0x,1y,0z'))\n"
   ]
  },
  {
   "cell_type": "code",
   "execution_count": 14,
   "metadata": {},
   "outputs": [
    {
     "data": {
      "text/plain": [
       "<Popen: returncode: None args: ['C:\\\\Users\\\\gduscher\\\\AppData\\\\Local\\\\anacon...>"
      ]
     },
     "execution_count": 14,
     "metadata": {},
     "output_type": "execute_result"
    }
   ],
   "source": [
    "# This does not work in Google Colab\n",
    "\n",
    "from ase.visualize import view\n",
    "view(atoms*(4,4,1))"
   ]
  },
  {
   "cell_type": "code",
   "execution_count": 15,
   "metadata": {},
   "outputs": [
    {
     "data": {
      "text/html": [
       "<html>\n",
       "\n",
       " <head>\n",
       "\n",
       "  <title>ASE atomic visualization</title>\n",
       "\n",
       "  <link rel=\"stylesheet\" type=\"text/css\"\n",
       "\n",
       "   href=\"https://www.x3dom.org/x3dom/release/x3dom.css\">\n",
       "\n",
       "  </link>\n",
       "\n",
       "  <script type=\"text/javascript\"\n",
       "\n",
       "   src=\"https://www.x3dom.org/x3dom/release/x3dom.js\">\n",
       "\n",
       "  </script>\n",
       "\n",
       " </head>\n",
       "\n",
       " <body>\n",
       "\n",
       "  <X3D>\n",
       "\n",
       "   <Scene>\n",
       "\n",
       "    <Transform translation=\"0.00 0.00 0.00\">\n",
       "\n",
       "     <Shape>\n",
       "\n",
       "      <Appearance>\n",
       "\n",
       "       <Material diffuseColor=\"0.565 0.565 0.565\" specularColor=\"0.5 0.5 0.5\">\n",
       "\n",
       "       </Material>\n",
       "\n",
       "      </Appearance>\n",
       "\n",
       "      <Sphere radius=\"0.76\">\n",
       "\n",
       "      </Sphere>\n",
       "\n",
       "     </Shape>\n",
       "\n",
       "    </Transform>\n",
       "\n",
       "    <Transform translation=\"0.00 0.00 3.36\">\n",
       "\n",
       "     <Shape>\n",
       "\n",
       "      <Appearance>\n",
       "\n",
       "       <Material diffuseColor=\"0.565 0.565 0.565\" specularColor=\"0.5 0.5 0.5\">\n",
       "\n",
       "       </Material>\n",
       "\n",
       "      </Appearance>\n",
       "\n",
       "      <Sphere radius=\"0.76\">\n",
       "\n",
       "      </Sphere>\n",
       "\n",
       "     </Shape>\n",
       "\n",
       "    </Transform>\n",
       "\n",
       "    <Transform translation=\"1.23 0.71 0.00\">\n",
       "\n",
       "     <Shape>\n",
       "\n",
       "      <Appearance>\n",
       "\n",
       "       <Material diffuseColor=\"0.565 0.565 0.565\" specularColor=\"0.5 0.5 0.5\">\n",
       "\n",
       "       </Material>\n",
       "\n",
       "      </Appearance>\n",
       "\n",
       "      <Sphere radius=\"0.76\">\n",
       "\n",
       "      </Sphere>\n",
       "\n",
       "     </Shape>\n",
       "\n",
       "    </Transform>\n",
       "\n",
       "    <Transform translation=\"0.00 1.42 3.36\">\n",
       "\n",
       "     <Shape>\n",
       "\n",
       "      <Appearance>\n",
       "\n",
       "       <Material diffuseColor=\"0.565 0.565 0.565\" specularColor=\"0.5 0.5 0.5\">\n",
       "\n",
       "       </Material>\n",
       "\n",
       "      </Appearance>\n",
       "\n",
       "      <Sphere radius=\"0.76\">\n",
       "\n",
       "      </Sphere>\n",
       "\n",
       "     </Shape>\n",
       "\n",
       "    </Transform>\n",
       "\n",
       "    <Transform translation=\"-1.23 2.14 0.00\">\n",
       "\n",
       "     <Shape>\n",
       "\n",
       "      <Appearance>\n",
       "\n",
       "       <Material diffuseColor=\"0.565 0.565 0.565\" specularColor=\"0.5 0.5 0.5\">\n",
       "\n",
       "       </Material>\n",
       "\n",
       "      </Appearance>\n",
       "\n",
       "      <Sphere radius=\"0.76\">\n",
       "\n",
       "      </Sphere>\n",
       "\n",
       "     </Shape>\n",
       "\n",
       "    </Transform>\n",
       "\n",
       "    <Transform translation=\"-1.23 2.14 3.36\">\n",
       "\n",
       "     <Shape>\n",
       "\n",
       "      <Appearance>\n",
       "\n",
       "       <Material diffuseColor=\"0.565 0.565 0.565\" specularColor=\"0.5 0.5 0.5\">\n",
       "\n",
       "       </Material>\n",
       "\n",
       "      </Appearance>\n",
       "\n",
       "      <Sphere radius=\"0.76\">\n",
       "\n",
       "      </Sphere>\n",
       "\n",
       "     </Shape>\n",
       "\n",
       "    </Transform>\n",
       "\n",
       "    <Transform translation=\"0.00 2.85 0.00\">\n",
       "\n",
       "     <Shape>\n",
       "\n",
       "      <Appearance>\n",
       "\n",
       "       <Material diffuseColor=\"0.565 0.565 0.565\" specularColor=\"0.5 0.5 0.5\">\n",
       "\n",
       "       </Material>\n",
       "\n",
       "      </Appearance>\n",
       "\n",
       "      <Sphere radius=\"0.76\">\n",
       "\n",
       "      </Sphere>\n",
       "\n",
       "     </Shape>\n",
       "\n",
       "    </Transform>\n",
       "\n",
       "    <Transform translation=\"-1.23 3.56 3.36\">\n",
       "\n",
       "     <Shape>\n",
       "\n",
       "      <Appearance>\n",
       "\n",
       "       <Material diffuseColor=\"0.565 0.565 0.565\" specularColor=\"0.5 0.5 0.5\">\n",
       "\n",
       "       </Material>\n",
       "\n",
       "      </Appearance>\n",
       "\n",
       "      <Sphere radius=\"0.76\">\n",
       "\n",
       "      </Sphere>\n",
       "\n",
       "     </Shape>\n",
       "\n",
       "    </Transform>\n",
       "\n",
       "    <Transform translation=\"-2.47 4.27 0.00\">\n",
       "\n",
       "     <Shape>\n",
       "\n",
       "      <Appearance>\n",
       "\n",
       "       <Material diffuseColor=\"0.565 0.565 0.565\" specularColor=\"0.5 0.5 0.5\">\n",
       "\n",
       "       </Material>\n",
       "\n",
       "      </Appearance>\n",
       "\n",
       "      <Sphere radius=\"0.76\">\n",
       "\n",
       "      </Sphere>\n",
       "\n",
       "     </Shape>\n",
       "\n",
       "    </Transform>\n",
       "\n",
       "    <Transform translation=\"-2.47 4.27 3.36\">\n",
       "\n",
       "     <Shape>\n",
       "\n",
       "      <Appearance>\n",
       "\n",
       "       <Material diffuseColor=\"0.565 0.565 0.565\" specularColor=\"0.5 0.5 0.5\">\n",
       "\n",
       "       </Material>\n",
       "\n",
       "      </Appearance>\n",
       "\n",
       "      <Sphere radius=\"0.76\">\n",
       "\n",
       "      </Sphere>\n",
       "\n",
       "     </Shape>\n",
       "\n",
       "    </Transform>\n",
       "\n",
       "    <Transform translation=\"-1.23 4.99 0.00\">\n",
       "\n",
       "     <Shape>\n",
       "\n",
       "      <Appearance>\n",
       "\n",
       "       <Material diffuseColor=\"0.565 0.565 0.565\" specularColor=\"0.5 0.5 0.5\">\n",
       "\n",
       "       </Material>\n",
       "\n",
       "      </Appearance>\n",
       "\n",
       "      <Sphere radius=\"0.76\">\n",
       "\n",
       "      </Sphere>\n",
       "\n",
       "     </Shape>\n",
       "\n",
       "    </Transform>\n",
       "\n",
       "    <Transform translation=\"-2.47 5.70 3.36\">\n",
       "\n",
       "     <Shape>\n",
       "\n",
       "      <Appearance>\n",
       "\n",
       "       <Material diffuseColor=\"0.565 0.565 0.565\" specularColor=\"0.5 0.5 0.5\">\n",
       "\n",
       "       </Material>\n",
       "\n",
       "      </Appearance>\n",
       "\n",
       "      <Sphere radius=\"0.76\">\n",
       "\n",
       "      </Sphere>\n",
       "\n",
       "     </Shape>\n",
       "\n",
       "    </Transform>\n",
       "\n",
       "    <Transform translation=\"2.47 0.00 0.00\">\n",
       "\n",
       "     <Shape>\n",
       "\n",
       "      <Appearance>\n",
       "\n",
       "       <Material diffuseColor=\"0.565 0.565 0.565\" specularColor=\"0.5 0.5 0.5\">\n",
       "\n",
       "       </Material>\n",
       "\n",
       "      </Appearance>\n",
       "\n",
       "      <Sphere radius=\"0.76\">\n",
       "\n",
       "      </Sphere>\n",
       "\n",
       "     </Shape>\n",
       "\n",
       "    </Transform>\n",
       "\n",
       "    <Transform translation=\"2.47 0.00 3.36\">\n",
       "\n",
       "     <Shape>\n",
       "\n",
       "      <Appearance>\n",
       "\n",
       "       <Material diffuseColor=\"0.565 0.565 0.565\" specularColor=\"0.5 0.5 0.5\">\n",
       "\n",
       "       </Material>\n",
       "\n",
       "      </Appearance>\n",
       "\n",
       "      <Sphere radius=\"0.76\">\n",
       "\n",
       "      </Sphere>\n",
       "\n",
       "     </Shape>\n",
       "\n",
       "    </Transform>\n",
       "\n",
       "    <Transform translation=\"3.70 0.71 0.00\">\n",
       "\n",
       "     <Shape>\n",
       "\n",
       "      <Appearance>\n",
       "\n",
       "       <Material diffuseColor=\"0.565 0.565 0.565\" specularColor=\"0.5 0.5 0.5\">\n",
       "\n",
       "       </Material>\n",
       "\n",
       "      </Appearance>\n",
       "\n",
       "      <Sphere radius=\"0.76\">\n",
       "\n",
       "      </Sphere>\n",
       "\n",
       "     </Shape>\n",
       "\n",
       "    </Transform>\n",
       "\n",
       "    <Transform translation=\"2.47 1.42 3.36\">\n",
       "\n",
       "     <Shape>\n",
       "\n",
       "      <Appearance>\n",
       "\n",
       "       <Material diffuseColor=\"0.565 0.565 0.565\" specularColor=\"0.5 0.5 0.5\">\n",
       "\n",
       "       </Material>\n",
       "\n",
       "      </Appearance>\n",
       "\n",
       "      <Sphere radius=\"0.76\">\n",
       "\n",
       "      </Sphere>\n",
       "\n",
       "     </Shape>\n",
       "\n",
       "    </Transform>\n",
       "\n",
       "    <Transform translation=\"1.23 2.14 0.00\">\n",
       "\n",
       "     <Shape>\n",
       "\n",
       "      <Appearance>\n",
       "\n",
       "       <Material diffuseColor=\"0.565 0.565 0.565\" specularColor=\"0.5 0.5 0.5\">\n",
       "\n",
       "       </Material>\n",
       "\n",
       "      </Appearance>\n",
       "\n",
       "      <Sphere radius=\"0.76\">\n",
       "\n",
       "      </Sphere>\n",
       "\n",
       "     </Shape>\n",
       "\n",
       "    </Transform>\n",
       "\n",
       "    <Transform translation=\"1.23 2.14 3.36\">\n",
       "\n",
       "     <Shape>\n",
       "\n",
       "      <Appearance>\n",
       "\n",
       "       <Material diffuseColor=\"0.565 0.565 0.565\" specularColor=\"0.5 0.5 0.5\">\n",
       "\n",
       "       </Material>\n",
       "\n",
       "      </Appearance>\n",
       "\n",
       "      <Sphere radius=\"0.76\">\n",
       "\n",
       "      </Sphere>\n",
       "\n",
       "     </Shape>\n",
       "\n",
       "    </Transform>\n",
       "\n",
       "    <Transform translation=\"2.47 2.85 0.00\">\n",
       "\n",
       "     <Shape>\n",
       "\n",
       "      <Appearance>\n",
       "\n",
       "       <Material diffuseColor=\"0.565 0.565 0.565\" specularColor=\"0.5 0.5 0.5\">\n",
       "\n",
       "       </Material>\n",
       "\n",
       "      </Appearance>\n",
       "\n",
       "      <Sphere radius=\"0.76\">\n",
       "\n",
       "      </Sphere>\n",
       "\n",
       "     </Shape>\n",
       "\n",
       "    </Transform>\n",
       "\n",
       "    <Transform translation=\"1.23 3.56 3.36\">\n",
       "\n",
       "     <Shape>\n",
       "\n",
       "      <Appearance>\n",
       "\n",
       "       <Material diffuseColor=\"0.565 0.565 0.565\" specularColor=\"0.5 0.5 0.5\">\n",
       "\n",
       "       </Material>\n",
       "\n",
       "      </Appearance>\n",
       "\n",
       "      <Sphere radius=\"0.76\">\n",
       "\n",
       "      </Sphere>\n",
       "\n",
       "     </Shape>\n",
       "\n",
       "    </Transform>\n",
       "\n",
       "    <Transform translation=\"0.00 4.27 0.00\">\n",
       "\n",
       "     <Shape>\n",
       "\n",
       "      <Appearance>\n",
       "\n",
       "       <Material diffuseColor=\"0.565 0.565 0.565\" specularColor=\"0.5 0.5 0.5\">\n",
       "\n",
       "       </Material>\n",
       "\n",
       "      </Appearance>\n",
       "\n",
       "      <Sphere radius=\"0.76\">\n",
       "\n",
       "      </Sphere>\n",
       "\n",
       "     </Shape>\n",
       "\n",
       "    </Transform>\n",
       "\n",
       "    <Transform translation=\"0.00 4.27 3.36\">\n",
       "\n",
       "     <Shape>\n",
       "\n",
       "      <Appearance>\n",
       "\n",
       "       <Material diffuseColor=\"0.565 0.565 0.565\" specularColor=\"0.5 0.5 0.5\">\n",
       "\n",
       "       </Material>\n",
       "\n",
       "      </Appearance>\n",
       "\n",
       "      <Sphere radius=\"0.76\">\n",
       "\n",
       "      </Sphere>\n",
       "\n",
       "     </Shape>\n",
       "\n",
       "    </Transform>\n",
       "\n",
       "    <Transform translation=\"1.23 4.99 0.00\">\n",
       "\n",
       "     <Shape>\n",
       "\n",
       "      <Appearance>\n",
       "\n",
       "       <Material diffuseColor=\"0.565 0.565 0.565\" specularColor=\"0.5 0.5 0.5\">\n",
       "\n",
       "       </Material>\n",
       "\n",
       "      </Appearance>\n",
       "\n",
       "      <Sphere radius=\"0.76\">\n",
       "\n",
       "      </Sphere>\n",
       "\n",
       "     </Shape>\n",
       "\n",
       "    </Transform>\n",
       "\n",
       "    <Transform translation=\"0.00 5.70 3.36\">\n",
       "\n",
       "     <Shape>\n",
       "\n",
       "      <Appearance>\n",
       "\n",
       "       <Material diffuseColor=\"0.565 0.565 0.565\" specularColor=\"0.5 0.5 0.5\">\n",
       "\n",
       "       </Material>\n",
       "\n",
       "      </Appearance>\n",
       "\n",
       "      <Sphere radius=\"0.76\">\n",
       "\n",
       "      </Sphere>\n",
       "\n",
       "     </Shape>\n",
       "\n",
       "    </Transform>\n",
       "\n",
       "    <Transform translation=\"4.94 0.00 0.00\">\n",
       "\n",
       "     <Shape>\n",
       "\n",
       "      <Appearance>\n",
       "\n",
       "       <Material diffuseColor=\"0.565 0.565 0.565\" specularColor=\"0.5 0.5 0.5\">\n",
       "\n",
       "       </Material>\n",
       "\n",
       "      </Appearance>\n",
       "\n",
       "      <Sphere radius=\"0.76\">\n",
       "\n",
       "      </Sphere>\n",
       "\n",
       "     </Shape>\n",
       "\n",
       "    </Transform>\n",
       "\n",
       "    <Transform translation=\"4.94 0.00 3.36\">\n",
       "\n",
       "     <Shape>\n",
       "\n",
       "      <Appearance>\n",
       "\n",
       "       <Material diffuseColor=\"0.565 0.565 0.565\" specularColor=\"0.5 0.5 0.5\">\n",
       "\n",
       "       </Material>\n",
       "\n",
       "      </Appearance>\n",
       "\n",
       "      <Sphere radius=\"0.76\">\n",
       "\n",
       "      </Sphere>\n",
       "\n",
       "     </Shape>\n",
       "\n",
       "    </Transform>\n",
       "\n",
       "    <Transform translation=\"6.17 0.71 0.00\">\n",
       "\n",
       "     <Shape>\n",
       "\n",
       "      <Appearance>\n",
       "\n",
       "       <Material diffuseColor=\"0.565 0.565 0.565\" specularColor=\"0.5 0.5 0.5\">\n",
       "\n",
       "       </Material>\n",
       "\n",
       "      </Appearance>\n",
       "\n",
       "      <Sphere radius=\"0.76\">\n",
       "\n",
       "      </Sphere>\n",
       "\n",
       "     </Shape>\n",
       "\n",
       "    </Transform>\n",
       "\n",
       "    <Transform translation=\"4.94 1.42 3.36\">\n",
       "\n",
       "     <Shape>\n",
       "\n",
       "      <Appearance>\n",
       "\n",
       "       <Material diffuseColor=\"0.565 0.565 0.565\" specularColor=\"0.5 0.5 0.5\">\n",
       "\n",
       "       </Material>\n",
       "\n",
       "      </Appearance>\n",
       "\n",
       "      <Sphere radius=\"0.76\">\n",
       "\n",
       "      </Sphere>\n",
       "\n",
       "     </Shape>\n",
       "\n",
       "    </Transform>\n",
       "\n",
       "    <Transform translation=\"3.70 2.14 0.00\">\n",
       "\n",
       "     <Shape>\n",
       "\n",
       "      <Appearance>\n",
       "\n",
       "       <Material diffuseColor=\"0.565 0.565 0.565\" specularColor=\"0.5 0.5 0.5\">\n",
       "\n",
       "       </Material>\n",
       "\n",
       "      </Appearance>\n",
       "\n",
       "      <Sphere radius=\"0.76\">\n",
       "\n",
       "      </Sphere>\n",
       "\n",
       "     </Shape>\n",
       "\n",
       "    </Transform>\n",
       "\n",
       "    <Transform translation=\"3.70 2.14 3.36\">\n",
       "\n",
       "     <Shape>\n",
       "\n",
       "      <Appearance>\n",
       "\n",
       "       <Material diffuseColor=\"0.565 0.565 0.565\" specularColor=\"0.5 0.5 0.5\">\n",
       "\n",
       "       </Material>\n",
       "\n",
       "      </Appearance>\n",
       "\n",
       "      <Sphere radius=\"0.76\">\n",
       "\n",
       "      </Sphere>\n",
       "\n",
       "     </Shape>\n",
       "\n",
       "    </Transform>\n",
       "\n",
       "    <Transform translation=\"4.94 2.85 0.00\">\n",
       "\n",
       "     <Shape>\n",
       "\n",
       "      <Appearance>\n",
       "\n",
       "       <Material diffuseColor=\"0.565 0.565 0.565\" specularColor=\"0.5 0.5 0.5\">\n",
       "\n",
       "       </Material>\n",
       "\n",
       "      </Appearance>\n",
       "\n",
       "      <Sphere radius=\"0.76\">\n",
       "\n",
       "      </Sphere>\n",
       "\n",
       "     </Shape>\n",
       "\n",
       "    </Transform>\n",
       "\n",
       "    <Transform translation=\"3.70 3.56 3.36\">\n",
       "\n",
       "     <Shape>\n",
       "\n",
       "      <Appearance>\n",
       "\n",
       "       <Material diffuseColor=\"0.565 0.565 0.565\" specularColor=\"0.5 0.5 0.5\">\n",
       "\n",
       "       </Material>\n",
       "\n",
       "      </Appearance>\n",
       "\n",
       "      <Sphere radius=\"0.76\">\n",
       "\n",
       "      </Sphere>\n",
       "\n",
       "     </Shape>\n",
       "\n",
       "    </Transform>\n",
       "\n",
       "    <Transform translation=\"2.47 4.27 0.00\">\n",
       "\n",
       "     <Shape>\n",
       "\n",
       "      <Appearance>\n",
       "\n",
       "       <Material diffuseColor=\"0.565 0.565 0.565\" specularColor=\"0.5 0.5 0.5\">\n",
       "\n",
       "       </Material>\n",
       "\n",
       "      </Appearance>\n",
       "\n",
       "      <Sphere radius=\"0.76\">\n",
       "\n",
       "      </Sphere>\n",
       "\n",
       "     </Shape>\n",
       "\n",
       "    </Transform>\n",
       "\n",
       "    <Transform translation=\"2.47 4.27 3.36\">\n",
       "\n",
       "     <Shape>\n",
       "\n",
       "      <Appearance>\n",
       "\n",
       "       <Material diffuseColor=\"0.565 0.565 0.565\" specularColor=\"0.5 0.5 0.5\">\n",
       "\n",
       "       </Material>\n",
       "\n",
       "      </Appearance>\n",
       "\n",
       "      <Sphere radius=\"0.76\">\n",
       "\n",
       "      </Sphere>\n",
       "\n",
       "     </Shape>\n",
       "\n",
       "    </Transform>\n",
       "\n",
       "    <Transform translation=\"3.70 4.99 0.00\">\n",
       "\n",
       "     <Shape>\n",
       "\n",
       "      <Appearance>\n",
       "\n",
       "       <Material diffuseColor=\"0.565 0.565 0.565\" specularColor=\"0.5 0.5 0.5\">\n",
       "\n",
       "       </Material>\n",
       "\n",
       "      </Appearance>\n",
       "\n",
       "      <Sphere radius=\"0.76\">\n",
       "\n",
       "      </Sphere>\n",
       "\n",
       "     </Shape>\n",
       "\n",
       "    </Transform>\n",
       "\n",
       "    <Transform translation=\"2.47 5.70 3.36\">\n",
       "\n",
       "     <Shape>\n",
       "\n",
       "      <Appearance>\n",
       "\n",
       "       <Material diffuseColor=\"0.565 0.565 0.565\" specularColor=\"0.5 0.5 0.5\">\n",
       "\n",
       "       </Material>\n",
       "\n",
       "      </Appearance>\n",
       "\n",
       "      <Sphere radius=\"0.76\">\n",
       "\n",
       "      </Sphere>\n",
       "\n",
       "     </Shape>\n",
       "\n",
       "    </Transform>\n",
       "\n",
       "   </Scene>\n",
       "\n",
       "  </X3D>\n",
       "\n",
       " </body>\n",
       "\n",
       "</html>\n",
       "\n"
      ],
      "text/plain": [
       "<IPython.core.display.HTML object>"
      ]
     },
     "execution_count": 15,
     "metadata": {},
     "output_type": "execute_result"
    }
   ],
   "source": [
    "from ase.visualize import view\n",
    "view(atoms*(3,3,1), viewer = 'x3d')"
   ]
  },
  {
   "cell_type": "markdown",
   "metadata": {},
   "source": [
    "## Reciprocal Lattice \n",
    "The unit cell in reciprocal space"
   ]
  },
  {
   "cell_type": "code",
   "execution_count": 10,
   "metadata": {},
   "outputs": [
    {
     "name": "stdout",
     "output_type": "stream",
     "text": [
      "reciprocal lattice [1/Ang.]:\n",
      "[[0.4052 0.234  0.    ]\n",
      " [0.     0.4679 0.    ]\n",
      " [0.     0.     0.149 ]]\n"
     ]
    }
   ],
   "source": [
    "reciprocal_lattice = np.linalg.inv(atoms.cell.array).T # transposed of inverted unit_cell\n",
    "\n",
    "print('reciprocal lattice [1/Ang.]:')\n",
    "print(np.round(reciprocal_lattice,4))"
   ]
  },
  {
   "cell_type": "markdown",
   "metadata": {},
   "source": [
    "The same function is provided in ase package of Cell."
   ]
  },
  {
   "cell_type": "code",
   "execution_count": 17,
   "metadata": {},
   "outputs": [
    {
     "name": "stdout",
     "output_type": "stream",
     "text": [
      "reciprocal lattice [1/Ang.]:\n",
      "[[ 0.4052  0.234   0.    ]\n",
      " [-0.      0.4679  0.    ]\n",
      " [ 0.      0.      0.149 ]]\n"
     ]
    }
   ],
   "source": [
    "print('reciprocal lattice [1/Ang.]:')\n",
    "print(np.round(atoms.cell.reciprocal(),4))"
   ]
  },
  {
   "cell_type": "markdown",
   "metadata": {},
   "source": [
    "### Reciprocal Lattice Vectors\n",
    "From your crystallography book and lecture you are probably used to the following expression for the reciprocal lattice vectors ($\\vec{a}^*, \\vec{b}^*, \\vec{c}^*$)\n",
    "\n",
    "$ \\begin{align}\n",
    "  \\vec{a}^* &=  \\frac{\\vec{b} \\times \\vec{c}}{\\vec{a} \\cdot \\left(\\vec{b} \\times \\vec{c}\\right)} \\\\\n",
    "  \\vec{b}^* &=  \\frac{\\vec{c} \\times \\vec{a}}{\\vec{b} \\cdot \\left(\\vec{c} \\times \\vec{a}\\right)} \\\\\n",
    "  \\vec{c}^* &=  \\frac{\\vec{a} \\times \\vec{b}}{\\vec{c} \\cdot \\left(\\vec{a} \\times \\vec{b}\\right)}\n",
    "\\end{align}$\\\n",
    "\n",
    "Where we see that the denominators of the above vector equations are the volume of the unit cell.\n",
    "\n",
    "In physics book, you will see an additional factor of 2$\\pi$, which is generally omitted in materials science and microscopy."
   ]
  },
  {
   "cell_type": "code",
   "execution_count": 18,
   "metadata": {},
   "outputs": [
    {
     "name": "stdout",
     "output_type": "stream",
     "text": [
      "[ 0.405  0.234 -0.   ]\n",
      "[0.    0.468 0.   ]\n",
      "[ 0.    -0.     0.149]\n",
      "Compare to:\n",
      "[[0.405 0.234 0.   ]\n",
      " [0.    0.468 0.   ]\n",
      " [0.    0.    0.149]]\n"
     ]
    }
   ],
   "source": [
    "## Now let's test whether this is really equivalent to the matrix expression above.\n",
    "a,b,c = atoms.cell\n",
    "\n",
    "a_recip = np.cross(b, c)/np.dot(a, np.cross(b, c))\n",
    "print (np.round(a_recip, 3))\n",
    "b_recip = np.cross(c, a)/np.dot(a, np.cross(b, c))\n",
    "print (np.round(b_recip, 3))\n",
    "c_recip = np.cross(a, b)/np.dot(a, np.cross(b, c))\n",
    "print (np.round(c_recip, 3))\n",
    "\n",
    "print('Compare to:')\n",
    "print(np.round(reciprocal_lattice, 3))"
   ]
  },
  {
   "cell_type": "markdown",
   "metadata": {},
   "source": [
    "## Conclusion\n",
    "\n",
    "With these definitions we have everything to define a crystal and to analyse diffraction and imaging data of crystalline specimens.\n",
    "\n",
    "Crystallography deals with the application of symmetry and group theory of symmetry to crystal structures.\n",
    "If you want to play around with symmetry and space groups, you can install the [spglib](http://atztogo.github.io/spglib/python-spglib.html#python-spglib). The spglib is especially helpfull for determination of reduced unit cells (the smallest possible ones, instead of the ones with the full symmetry).\n",
    "\n",
    "A number of common crystal structures are defined in the kinematic_scattering libary of the pyTEMlib package under the function ''structure_by_name''. Try them out in this notebook."
   ]
  },
  {
   "cell_type": "code",
   "execution_count": 19,
   "metadata": {},
   "outputs": [
    {
     "name": "stdout",
     "output_type": "stream",
     "text": [
      "Help on function structure_by_name in module pyTEMlib.crystal_tools:\n",
      "\n",
      "structure_by_name(crystal_name)\n",
      "    Provides crystal structure in ase.Atoms format.\n",
      "    Additional information is stored in the info attribute as a dictionary\n",
      "\n",
      "\n",
      "    Parameter\n",
      "    ---------\n",
      "    crystal_name: str\n",
      "        Please note that the chemical expressions are not case-sensitive.\n",
      "\n",
      "    Returns\n",
      "    -------\n",
      "    atoms: ase.Atoms\n",
      "        structure\n",
      "\n",
      "    Example\n",
      "    -------\n",
      "    >> #  for a list of pre-defined crystal structures\n",
      "    >> import pyTEMlib.crystal_tools\n",
      "    >> print(pyTEMlib.crystal_tools.crystal_data_base.keys())\n",
      "    >>\n",
      "    >> atoms = pyTEMlib.crystal_tools.structure_by_name('Silicon')\n",
      "    >> print(atoms)\n",
      "    >> print(atoms.info)\n",
      "\n"
     ]
    }
   ],
   "source": [
    "# As ususal the help function will show you the usage of a function:\n",
    "help(ks.structure_by_name)"
   ]
  },
  {
   "cell_type": "markdown",
   "metadata": {},
   "source": [
    "Here are all the predifined crystal structures.\n",
    "\n",
    "> Check out the [building tutorial of ase](https://wiki.fysik.dtu.dk/ase/ase/build/build.html) for more fun structures like nanotubes "
   ]
  },
  {
   "cell_type": "code",
   "execution_count": 20,
   "metadata": {},
   "outputs": [
    {
     "name": "stdout",
     "output_type": "stream",
     "text": [
      "dict_keys(['aluminum', 'al', 'aluminium', 'gold', 'au', 'silver', 'ag', 'copper', 'cu', 'diamond', 'germanium', 'ge', 'silicon', 'si', 'gaas', 'fcc fe', 'iron', 'bcc fe', 'alpha iron', 'srtio3', 'strontium titanate', 'graphite', 'cscl', 'cesium chlorid', 'mgo', 'titanium nitride', 'zno wurzite', 'zno', 'wzno', 'gan', 'gan wurzite', 'wgan', 'gallium nitride', 'tio2', 'mos2', 'ws2', 'wse2', 'mose2', 'zno hexagonal', 'pdse2'])\n"
     ]
    }
   ],
   "source": [
    "print(ks.crystal_data_base.keys())"
   ]
  },
  {
   "cell_type": "markdown",
   "metadata": {},
   "source": [
    "Now use one name of above structures and redo this notebook"
   ]
  },
  {
   "cell_type": "markdown",
   "metadata": {},
   "source": [
    "## Navigation\n",
    "\n",
    "- <font size = \"3\">  **Back: [Basic Crystallography](CH2_03-Basic_Crystallography.ipynb)** </font>\n",
    "- <font size = \"3\">  **Next: [Structure Factors](CH2_04-Structure_Factors.ipynb)** </font>\n",
    "- <font size = \"3\">  **Chapter 2: [Diffraction](CH2_00-Diffraction.ipynb)** </font>\n",
    "- <font size = \"3\">  **List of Content: [Front](../_MSE672_Intro_TEM.ipynb)** </font>"
   ]
  },
  {
   "cell_type": "markdown",
   "metadata": {},
   "source": [
    "## Appendix: Read POSCAR\n",
    "\n",
    "Load and draw a  crystal structure  from a POSCAR file\n",
    " "
   ]
  },
  {
   "cell_type": "markdown",
   "metadata": {},
   "source": [
    "### The function "
   ]
  },
  {
   "cell_type": "code",
   "execution_count": 21,
   "metadata": {},
   "outputs": [],
   "source": [
    "from ase.io import read, write\n",
    "import pyTEMlib.file_tools as ft\n",
    "import os\n",
    "\n",
    "def read_poscar(): # open file dialog to select poscar file\n",
    "    file_name = ft.open_file_dialog_qt('POSCAR (POSCAR*.txt);;All files (*)')\n",
    "    #use ase package to read file\n",
    "    \n",
    "    base = os.path.basename(file_name)\n",
    "    base_name = os.path.splitext(base)[0]\n",
    "    crystal = read(file_name, format='vasp', parallel=False)\n",
    "    \n",
    "    return crystal"
   ]
  },
  {
   "cell_type": "code",
   "execution_count": 22,
   "metadata": {},
   "outputs": [
    {
     "ename": "TypeError",
     "evalue": "expected str, bytes or os.PathLike object, not NoneType",
     "output_type": "error",
     "traceback": [
      "\u001b[1;31m---------------------------------------------------------------------------\u001b[0m",
      "\u001b[1;31mTypeError\u001b[0m                                 Traceback (most recent call last)",
      "Cell \u001b[1;32mIn[22], line 1\u001b[0m\n\u001b[1;32m----> 1\u001b[0m atoms \u001b[38;5;241m=\u001b[39m \u001b[43mread_poscar\u001b[49m\u001b[43m(\u001b[49m\u001b[43m)\u001b[49m\n\u001b[0;32m      2\u001b[0m atoms\n",
      "Cell \u001b[1;32mIn[21], line 9\u001b[0m, in \u001b[0;36mread_poscar\u001b[1;34m()\u001b[0m\n\u001b[0;32m      6\u001b[0m file_name \u001b[38;5;241m=\u001b[39m ft\u001b[38;5;241m.\u001b[39mopen_file_dialog_qt(\u001b[38;5;124m'\u001b[39m\u001b[38;5;124mPOSCAR (POSCAR*.txt);;All files (*)\u001b[39m\u001b[38;5;124m'\u001b[39m)\n\u001b[0;32m      7\u001b[0m \u001b[38;5;66;03m#use ase package to read file\u001b[39;00m\n\u001b[1;32m----> 9\u001b[0m base \u001b[38;5;241m=\u001b[39m \u001b[43mos\u001b[49m\u001b[38;5;241;43m.\u001b[39;49m\u001b[43mpath\u001b[49m\u001b[38;5;241;43m.\u001b[39;49m\u001b[43mbasename\u001b[49m\u001b[43m(\u001b[49m\u001b[43mfile_name\u001b[49m\u001b[43m)\u001b[49m\n\u001b[0;32m     10\u001b[0m base_name \u001b[38;5;241m=\u001b[39m os\u001b[38;5;241m.\u001b[39mpath\u001b[38;5;241m.\u001b[39msplitext(base)[\u001b[38;5;241m0\u001b[39m]\n\u001b[0;32m     11\u001b[0m crystal \u001b[38;5;241m=\u001b[39m read(file_name, \u001b[38;5;28mformat\u001b[39m\u001b[38;5;241m=\u001b[39m\u001b[38;5;124m'\u001b[39m\u001b[38;5;124mvasp\u001b[39m\u001b[38;5;124m'\u001b[39m, parallel\u001b[38;5;241m=\u001b[39m\u001b[38;5;28;01mFalse\u001b[39;00m)\n",
      "File \u001b[1;32m<frozen ntpath>:270\u001b[0m, in \u001b[0;36mbasename\u001b[1;34m(p)\u001b[0m\n",
      "File \u001b[1;32m<frozen ntpath>:241\u001b[0m, in \u001b[0;36msplit\u001b[1;34m(p)\u001b[0m\n",
      "\u001b[1;31mTypeError\u001b[0m: expected str, bytes or os.PathLike object, not NoneType"
     ]
    }
   ],
   "source": [
    "atoms = read_poscar()\n",
    "atoms"
   ]
  },
  {
   "cell_type": "code",
   "execution_count": null,
   "metadata": {},
   "outputs": [],
   "source": []
  }
 ],
 "metadata": {
  "kernelspec": {
   "display_name": "Python 3 (ipykernel)",
   "language": "python",
   "name": "python3"
  },
  "language_info": {
   "codemirror_mode": {
    "name": "ipython",
    "version": 3
   },
   "file_extension": ".py",
   "mimetype": "text/x-python",
   "name": "python",
   "nbconvert_exporter": "python",
   "pygments_lexer": "ipython3",
   "version": "3.12.0"
  },
  "toc": {
   "base_numbering": "3",
   "nav_menu": {
    "height": "318px",
    "width": "307px"
   },
   "number_sections": true,
   "sideBar": true,
   "skip_h1_title": false,
   "title_cell": "Table of Contents",
   "title_sidebar": "Contents",
   "toc_cell": false,
   "toc_position": {
    "height": "calc(100% - 180px)",
    "left": "10px",
    "top": "150px",
    "width": "288px"
   },
   "toc_section_display": true,
   "toc_window_display": false
  },
  "vscode": {
   "interpreter": {
    "hash": "838e0debddb5b6f29d3d8c39ba50ae8c51920a564d3bac000e89375a158a81de"
   }
  }
 },
 "nbformat": 4,
 "nbformat_minor": 4
}
