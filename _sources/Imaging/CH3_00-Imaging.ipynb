{
 "cells": [
  {
   "cell_type": "markdown",
   "metadata": {},
   "source": [
    "\n",
    "<font size = \"5\"> **Chapter 3: [Imaging](CH3_00-Imaging.ipynb)** </font>\n",
    "\n",
    "\n",
    "<hr style=\"height:1px;border-top:4px solid #FF8200\" />\n",
    "\n",
    "# Chapter 3: Imaging\n",
    "\n",
    "part of \n",
    "\n",
    "<font size = \"5\"> **[MSE672:  Introduction to Transmission Electron Microscopy](../_MSE672_Intro_TEM.ipynb)**</font>\n",
    "\n",
    "\n",
    "by Gerd Duscher, Spring 2023\n",
    "\n",
    "Microscopy Facilities<br>\n",
    "Institute of Advanced Materials & Manufacturing<br>\n",
    "Materials Science & Engineering<br>\n",
    "The University of Tennessee, Knoxville\n",
    "\n",
    "Background and methods to analysis and quantification of data acquired with transmission electron microscopes."
   ]
  },
  {
   "cell_type": "markdown",
   "metadata": {},
   "source": [
    "The Imaging chapter has the following sections:\n",
    "* [Resolution Limit](CH3_01-Resolution.ipynb)\n",
    "\n",
    "**Phase Contrast Imaging**\n",
    "<!---* [Introduction to Phase Contrast Imaging](CH3_02-Intro_HRTEM.ipynb)--->\n",
    "* [Contrast Transfer Function](CH3_03-CTF.ipynb)\n",
    "* [Linear Image Approximation](CH3_04-Linear_Image_Approximation.ipynb)\n",
    "* [Defocus Thickness Map](CH3_05-Defocus_Thickness.ipynb)\n",
    "* [Image Processing](CH3_06-Image_Processing.ipynb)\n",
    "<!--- * [HRTEM Image Analysis](CH3_07-Image_Analysis.ipynb)--->\n",
    " \n",
    "**Z-Contrast**\n",
    "* [Thermal-Diffuse Scattering](CH3_08-Thermal_Diffuse_Scattering.ipynb)\n",
    "* [Z-Contrast Imaging](CH3_09-Z_Contrast)\n",
    "<!---\n",
    "* [Ronchigrams](CH3_10-Ronchigrams.ipynb)\n",
    "* [Find Atoms](CH3_11-Find_Atoms.ipynb)\n",
    "--->\n",
    " "
   ]
  },
  {
   "cell_type": "markdown",
   "metadata": {},
   "source": [
    "## Navigation\n",
    "- <font size = \"3\">  **Back Chapter 2: [Diffraction](../Diffraction/CH2_00-Diffraction.ipynb)** </font>\n",
    "- <font size = \"3\">  **Next: Chapter 4: [Spectroscopy](../Spectroscopy/CH4_00-Spectroscopy.ipynb)** </font>\n",
    "- <font size = \"3\">  **List of Content: [Front](../_MSE672_Intro_TEM.ipynb)** </font>"
   ]
  }
 ],
 "metadata": {
  "kernelspec": {
   "display_name": "Python 3 (ipykernel)",
   "language": "python",
   "name": "python3"
  },
  "language_info": {
   "codemirror_mode": {
    "name": "ipython",
    "version": 3
   },
   "file_extension": ".py",
   "mimetype": "text/x-python",
   "name": "python",
   "nbconvert_exporter": "python",
   "pygments_lexer": "ipython3",
   "version": "3.10.10"
  },
  "toc": {
   "base_numbering": 1,
   "nav_menu": {},
   "number_sections": true,
   "sideBar": true,
   "skip_h1_title": false,
   "title_cell": "Table of Contents",
   "title_sidebar": "Contents",
   "toc_cell": false,
   "toc_position": {},
   "toc_section_display": true,
   "toc_window_display": false
  },
  "vscode": {
   "interpreter": {
    "hash": "838e0debddb5b6f29d3d8c39ba50ae8c51920a564d3bac000e89375a158a81de"
   }
  }
 },
 "nbformat": 4,
 "nbformat_minor": 4
}
