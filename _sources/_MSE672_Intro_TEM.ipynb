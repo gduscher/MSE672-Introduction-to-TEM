{
 "cells": [
  {
   "cell_type": "markdown",
   "metadata": {},
   "source": [
    "<font size = \"5\"> **MSE672:  Introduction to Transmission Electron Microscopy**</font>\n",
    "<hr style=\"height:1px;border-top:4px solid #FF8200\" />\n",
    "\n",
    "<table style=\"margin-right:auto;margin-left:0px\">\n",
    "  <tr>\n",
    "    <td colspan=\"2\"><center> Spring 2024 </center> </td>\n",
    "  </tr>\n",
    "  <tr>\n",
    "    <td>Gerd Duscher </td>\n",
    "    <td>Khalid Hattar</td>\n",
    "  </tr>\n",
    "  <tr>\n",
    "    <td>Microscopy Facilities</td> \n",
    "    <td> Tennessee Ion Beam Materials Laboratory </td>\n",
    "  </tr>\n",
    "  \n",
    "  <tr>\n",
    "    <td>Materials Science & Engineering</td>\n",
    "    <td> Nuclear Engineering</td>\n",
    "  </tr>\n",
    "  <tr>\n",
    "    <td>Institute of Advanced Materials & Manufacturing</td>\n",
    "    <td> </td>\n",
    "  </tr>\n",
    "  <tr>\n",
    "    <td colspan=\"2\"><center> The University of Tennessee, Knoxville</center> </td>\n",
    "  </tr>\n",
    "</table>\n",
    "\n",
    "\n",
    "# Foreword (ReadME)\n",
    "This course provides information on analysis of TEM data and the background of the nature of this information in the data.\n",
    "\n",
    "Please note, that there is **no programming** required, but the user should not be shy in changing the values of parameters.\n",
    "\n",
    "Therefore, two ways of usage are targeted, \n",
    "* Beginner\n",
    "    * Please start at the beginning and advance in the order of the notebooks given here.\n",
    "* Advanced, Inpatient or both:\n",
    "    * Go to the pyTEMlib notebooks (and give feedback if links are missing, please).\n",
    "\n",
    "\n",
    "You can [download all files](https://github.com/gduscher/MSE672-Introduction-to-TEM/archive/main.zip)\n",
    "from GitHub as a zip file."
   ]
  },
  {
   "cell_type": "markdown",
   "metadata": {},
   "source": []
  },
  {
   "cell_type": "markdown",
   "metadata": {},
   "source": [
    "## Libraries and Classes\n",
    "\n",
    "The functions introduced in this book are also organized in a package. The package is named [pyTEMlib](https://github.com/gduscher/pyTEMlib) and can be downloaded from GitHub (no pip installation at this point in time).\n",
    "\n",
    "\n",
    "For a more modern programming approach they could also be grouped in classes, but classes  put another layer between notebook and code, which is desirable for abstraction but not necessarily for understanding.\n",
    "\n",
    "So for the course of this book the functions will be made available in libraries, which can be wrapped in classes for a more monolithic program.\n",
    "\n",
    "A graphical user interface (GUI) was consciously omitted in this book to encourage the user to mess around in the code.\n",
    "So please change parameters and see what happens.\n",
    "\n",
    "## A word of caution:\n",
    "A notebook can become confusing if one does not go through it in a sequential way, because the values of parameters can be changed at any stage in any code cell without the other cells having any knowledge about the order in which the cells are activated.\n",
    "\n",
    "A program or function will not have that kind of confusing tendency, and therefore, once we understand a topic, a comprehensive function will be provided.\n"
   ]
  },
  {
   "cell_type": "code",
   "execution_count": null,
   "metadata": {},
   "outputs": [],
   "source": []
  }
 ],
 "metadata": {
  "kernelspec": {
   "display_name": "Python 3 (ipykernel)",
   "language": "python",
   "name": "python3"
  },
  "language_info": {
   "codemirror_mode": {
    "name": "ipython",
    "version": 3
   },
   "file_extension": ".py",
   "mimetype": "text/x-python",
   "name": "python",
   "nbconvert_exporter": "python",
   "pygments_lexer": "ipython3",
   "version": "3.12.0"
  },
  "toc": {
   "base_numbering": 1,
   "nav_menu": {},
   "number_sections": true,
   "sideBar": true,
   "skip_h1_title": false,
   "title_cell": "Table of Contents",
   "title_sidebar": "Contents",
   "toc_cell": false,
   "toc_position": {},
   "toc_section_display": true,
   "toc_window_display": true
  },
  "varInspector": {
   "cols": {
    "lenName": 16,
    "lenType": 16,
    "lenVar": 40
   },
   "kernels_config": {
    "python": {
     "delete_cmd_postfix": "",
     "delete_cmd_prefix": "del ",
     "library": "var_list.py",
     "varRefreshCmd": "print(var_dic_list())"
    },
    "r": {
     "delete_cmd_postfix": ") ",
     "delete_cmd_prefix": "rm(",
     "library": "var_list.r",
     "varRefreshCmd": "cat(var_dic_list()) "
    }
   },
   "types_to_exclude": [
    "module",
    "function",
    "builtin_function_or_method",
    "instance",
    "_Feature"
   ],
   "window_display": true
  },
  "vscode": {
   "interpreter": {
    "hash": "838e0debddb5b6f29d3d8c39ba50ae8c51920a564d3bac000e89375a158a81de"
   }
  }
 },
 "nbformat": 4,
 "nbformat_minor": 4
}
