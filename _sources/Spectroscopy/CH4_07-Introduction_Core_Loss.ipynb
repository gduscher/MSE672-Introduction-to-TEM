{
 "cells": [
  {
   "cell_type": "markdown",
   "metadata": {},
   "source": [
    "\n",
    "\n",
    "<font size = \"5\"> **Chapter 4: [Spectroscopy](CH4_00-Spectroscopy.ipynb)** </font>\n",
    "\n",
    "<hr style=\"height:1px;border-top:4px solid #FF8200\" />\n",
    "\n",
    "\n",
    "\n",
    "# Introduction to Core-Loss Spectroscopy\n",
    "<font size = \"5\">Working with X-Sections</font>\n",
    "\n",
    "[Download](https://raw.githubusercontent.com/gduscher/MSE672-Introduction-to-TEM/main/Spectroscopy/CH4_07-Introduction_Core_Loss.ipynb)\n",
    " \n",
    "[![Open In Colab](https://colab.research.google.com/assets/colab-badge.svg)](\n",
    "    https://colab.research.google.com/github/gduscher/MSE672-Introduction-to-TEM/blob/main/Spectroscopy/CH4_07-Introduction_Core_Loss.ipynb)\n",
    "\n",
    "\n",
    "part of \n",
    "\n",
    "<font size = \"5\"> **[MSE672:  Introduction to Transmission Electron Microscopy](../_MSE672_Intro_TEM.ipynb)**</font>\n",
    "\n",
    "by Gerd Duscher, Spring 2021\n",
    "\n",
    "Microscopy Facilities<br>\n",
    "Joint Institute of Advanced Materials<br>\n",
    "Materials Science & Engineering<br>\n",
    "The University of Tennessee, Knoxville\n",
    "\n",
    "Background and methods to analysis and quantification of data acquired with transmission electron microscopes."
   ]
  },
  {
   "cell_type": "markdown",
   "metadata": {},
   "source": [
    "## Core --Loss Spectroscopy\n",
    "\n",
    "As we can see in figure below the energies of the core shells are well defined and can be viewed as delta functions, unlike in the low loss region where the broad valence bands are the initial state. In both cases, however, we excite electrons into the conduction band.\n",
    "\n",
    "<img title=\"core-loss\" width=\"50%\" alt=\"core-loss\" src=\"images/core-loss.jpg\">\n",
    "*Excitation from a core-shell state up into the conduction band above the Fermi level.*\n",
    "\n",
    "If we look at the transition between two states $< \\Phi_f | H | \\Phi_i >$ the transition should be quite sharp. In the case of the low-loss spectrum, we have many initial (the valence) states and many final (the conduction) states. The spectrum will be a convolution of these states. \n",
    "\n",
    "The features of the core--loss edges are, therefore, much sharper than any details in the low--loss region. Because only the final states contribute to the features. These sharp features enable a wide variety of analysis to determine the chemical compositions and chemical bonding, probing the local conduction band of the sample.\n",
    "\n",
    "\n",
    "\n",
    "### Chemical Composition\n",
    "\n",
    "In this chapter we use the area under the ionization edge to determine the chemical composition of a (small) sample volume. \n",
    "The equation used to determine the number of atoms per unit volume $N$ (also called areal density) is:\n",
    "\\begin{equation}\n",
    "I_{edge}(\\beta, \\Delta E) = N I_{0}(\\beta) \\sigma_{edge}(\\beta, \\Delta E)\n",
    "\\end{equation}\n",
    "\n",
    "$I_0$ is the number of electrons hitting the sample, and so directly comparable to the beam current.\n",
    "\n",
    "The equation can be approximated assuming that the spectrum has not been corrected for single scattering:\n",
    "\\begin{equation} \n",
    "I_{edge}(\\beta, \\Delta E) = N I_{low-loss}(\\beta,\\Delta E) \\sigma_{edge}(\\beta, \\Delta E)\n",
    "\\end{equation}\n",
    "where $\\beta$ is the collection angle and $\\sigma_{edge}$ is the **partial** cross--section (for energy window $\\Delta E$) for the core--loss excitation.\n",
    "\n",
    "\n",
    "> \n",
    "> It is this cross-section $ \\sigma_{edge}$ that we want to explorein this notebook.\n",
    ">\n",
    "We will do the chemical composition in the [next notebook](CH4_08-Chemical_Composition.ipynb)\n",
    "\n",
    "\n",
    "\n",
    "## Load important packages\n",
    "\n",
    "### Check Installed Packages\n"
   ]
  },
  {
   "cell_type": "code",
   "execution_count": null,
   "metadata": {},
   "outputs": [],
   "source": [
    "import sys\n",
    "from pkg_resources import get_distribution, DistributionNotFound\n",
    "\n",
    "def test_package(package_name):\n",
    "    \"\"\"Test if package exists and returns version or -1\"\"\"\n",
    "    try:\n",
    "        version = get_distribution(package_name).version\n",
    "    except (DistributionNotFound, ImportError) as err:\n",
    "        version = '-1'\n",
    "    return version\n",
    "\n",
    "# Colab setup ------------------\n",
    "if 'google.colab' in sys.modules:\n",
    "    !pip install pyTEMlib -q\n",
    "# pyTEMlib setup ------------------\n",
    "else:\n",
    "    if test_package('pyTEMlib') < '0.2023.4.0':\n",
    "        print('installing pyTEMlib')\n",
    "        !{sys.executable} -m pip install  --upgrade pyTEMlib \n",
    "# ------------------------------\n",
    "print('done')"
   ]
  },
  {
   "cell_type": "markdown",
   "metadata": {},
   "source": [
    "### Import all relevant libraries\n",
    "\n",
    "Please note that the EELS_tools package from pyTEMlib is essential."
   ]
  },
  {
   "cell_type": "code",
   "execution_count": 1,
   "metadata": {},
   "outputs": [
    {
     "name": "stdout",
     "output_type": "stream",
     "text": [
      "Symmetry functions of spglib enabled\n",
      "pyTEM version:  0.2023.4.0\n"
     ]
    }
   ],
   "source": [
    "\n",
    "%matplotlib ipympl\n",
    "import matplotlib.pylab as plt\n",
    "import numpy as np\n",
    "\n",
    "import warnings\n",
    "warnings.filterwarnings('ignore')\n",
    "\n",
    "## We need to import a few important additional function from matplotlib, \n",
    "## because we want to demonstrate a few more hidden functionalities of the EELS_tools of pytTEMlib.\n",
    "from matplotlib.widgets import Cursor\n",
    "from matplotlib.patches import Rectangle\n",
    "from matplotlib.widgets import SpanSelector\n",
    "\n",
    "## import the configuration files of pyTEMlib (we need access to the data folder)\n",
    "import pyTEMlib\n",
    "import pyTEMlib.eels_tools as eels\n",
    "import pyTEMlib.interactive_eels as ieels\n",
    "\n",
    "# For archiving reasons it is a good idea to print the version numbers out at this point\n",
    "print('pyTEM version: ',pyTEMlib.__version__)"
   ]
  },
  {
   "cell_type": "markdown",
   "metadata": {},
   "source": [
    "## Load Cross-Sections\n",
    "\n",
    "\n",
    "The form factors are from:\n",
    "X-Ray Form Factor, Attenuation, and Scattering Tables\n",
    "NIST Standard Reference Database 66\n",
    "\n",
    " DOI: https://dx.doi.org/10.18434/T4HS32\n",
    "\n",
    "Detailed Tabulation of Atomic Form Factors, Photoelectric Absorption and Scattering Cross Section, and Mass Attenuation Coefficients for Z = 1-92 from E = 1-10 eV to E = 0.4-1.0 MeV\n",
    "C.T. Chantler,1 K. Olsen, R.A. Dragoset, J. Chang, A.R. Kishore, S.A. Kotochigova, and D.S. Zucker\n",
    "NIST, Physical Measurement Laboratory\n",
    "\n",
    "The cross sections are part of the pyTEMlib package and are stored as a pickled dictionary in the package data directory.\n",
    "\n",
    "Below are the lines for accessing the cross sections with eels_tools of pyTEMlib."
   ]
  },
  {
   "cell_type": "code",
   "execution_count": 21,
   "metadata": {},
   "outputs": [],
   "source": [
    "Xsections = eels.get_x_sections()"
   ]
  },
  {
   "cell_type": "markdown",
   "metadata": {},
   "source": [
    "## Plot Cross Sections\n",
    "\n",
    "Please add your favourite element ot the list of atomic numbers.\n",
    "\n",
    "With the code cell above we made the whole database of cross secitons available for this notebook."
   ]
  },
  {
   "cell_type": "code",
   "execution_count": 27,
   "metadata": {},
   "outputs": [
    {
     "data": {
      "image/png": "[encoded data removed]",
      "text/plain": [
       "<Figure size 640x480 with 1 Axes>"
      ]
     },
     "metadata": {},
     "output_type": "display_data"
    }
   ],
   "source": [
    "# -----Input ------------ #\n",
    "atomic_numbers = [58, 28]\n",
    "# ----------------------- #\n",
    "fig, ax = plt.subplots()\n",
    "for Z in atomic_numbers:\n",
    "    ax.plot(Xsections[str(Z)]['ene'], Xsections[str(Z)]['dat'], label = Xsections[str(Z)]['name'])\n",
    "\n",
    "ax.set_xlim(0,1500)\n",
    "ax.set_ylim(0,2.5e17)\n",
    "ax.set_xlabel('energy_loss (eV)')\n",
    "ax.set_ylabel('cross section (atoms/nm$^2$)')\n",
    "plt.legend();"
   ]
  },
  {
   "cell_type": "markdown",
   "metadata": {},
   "source": [
    "### List All Edges of an Element "
   ]
  },
  {
   "cell_type": "code",
   "execution_count": 28,
   "metadata": {},
   "outputs": [
    {
     "name": "stdout",
     "output_type": "stream",
     "text": [
      "Ce-O3:     19.8 eV \n",
      "Ce-O2:     19.8 eV \n",
      "Ce-O1:     37.8 eV \n",
      "Ce-N6:     85.9 eV \n",
      "Ce-N5:    110.0 eV \n",
      "Ce-N4:    110.0 eV \n",
      "Ce-N3:    207.2 eV \n",
      "Ce-N2:    223.3 eV \n",
      "Ce-N1:    289.6 eV \n",
      "Ce-M5:    883.3 eV \n",
      "Ce-M4:    901.3 eV \n",
      "Ce-M3:   1185.4 eV \n",
      "Ce-M2:   1272.8 eV \n",
      "Ce-M1:   1434.6 eV \n",
      "Ce-L3:   5723.4 eV \n",
      "Ce-L2:   6164.2 eV \n",
      "Ce-L1:   6548.8 eV \n",
      "Ce-K1:  40443.0 eV \n"
     ]
    }
   ],
   "source": [
    "element = str(58)\n",
    "for key in Xsections[element]:\n",
    "    if isinstance(Xsections[element][key], dict):\n",
    "        if 'onset' in Xsections[element][key]:\n",
    "            print(f\"{Xsections[element]['name']}-{key}: {Xsections[element][key]['onset']:8.1f} eV \")\n",
    "            \n"
   ]
  },
  {
   "cell_type": "markdown",
   "metadata": {},
   "source": [
    "Or ordered"
   ]
  },
  {
   "cell_type": "code",
   "execution_count": 31,
   "metadata": {},
   "outputs": [
    {
     "name": "stdout",
     "output_type": "stream",
     "text": [
      "All edges\n",
      " Ni-K1:   8332.8 eV \n",
      " Ni-L1:   1008.1 eV \n",
      " Ni-L2:    871.9 eV \n",
      " Ni-L3:    854.7 eV \n",
      " Ni-M1:    111.8 eV \n",
      " Ni-M2:     68.1 eV \n",
      " Ni-M3:     68.1 eV \n",
      " Ni-M4:      3.6 eV \n",
      " Ni-M5:      3.6 eV \n",
      "Major edges\n",
      " Ni-K1:   8332.8 eV \n",
      " Ni-L3:    854.7 eV \n",
      " Ni-M5:      3.6 eV \n"
     ]
    }
   ],
   "source": [
    "major_edges = ['K1', 'L3', 'M5', 'N5']\n",
    "all_edges = ['K1','L1','L2','L3','M1','M2','M3','M4','M5','N1', 'N2','N3','N4','N5','N6','N7','O1','O2','O3','O4','O5','O6','O7', 'P1', 'P2', 'P3']\n",
    "first_close_edges = ['K1', 'L3', 'M5', 'M3', 'N5', 'N3']\n",
    "\n",
    "element = str(28)\n",
    "\n",
    "def list_all_edges(Z):\n",
    "    element = str(Z)\n",
    "    print('All edges')\n",
    "    for key in all_edges:\n",
    "        if key in Xsections[element]:\n",
    "            if 'onset' in Xsections[element][key]:\n",
    "                print(f\" {Xsections[element]['name']}-{key}: {Xsections[element][key]['onset']:8.1f} eV \")\n",
    "\n",
    "def list_major_edges(Z):\n",
    "    element = str(Z)\n",
    "    print('Major edges')\n",
    "    for key in major_edges:\n",
    "        if key in Xsections[element]:\n",
    "            if 'onset' in Xsections[element][key]:\n",
    "                print(f\" {Xsections[element]['name']}-{key}: {Xsections[element][key]['onset']:8.1f} eV \")                      \n",
    "## Here with the function of the EELS_tools package                      \n",
    "list_all_edges(element)\n",
    "list_major_edges(element)"
   ]
  },
  {
   "cell_type": "markdown",
   "metadata": {},
   "source": [
    "### Plotting all edges of an element in view\n",
    "\n",
    "Now, let's do it graphically"
   ]
  },
  {
   "cell_type": "code",
   "execution_count": 35,
   "metadata": {},
   "outputs": [
    {
     "data": {
      "image/png": "[encoded data removed]",
      "text/plain": [
       "<Figure size 640x480 with 1 Axes>"
      ]
     },
     "metadata": {},
     "output_type": "display_data"
    }
   ],
   "source": [
    "major_edges = ['K1', 'L3', 'M5', 'N5']\n",
    "all_edges = ['K1','L1','L2','L3','M1','M2','M3','M4','M5','N1', 'N2','N3','N4','N5','N6','N7','O1','O2','O3','O4','O5','O6','O7', 'P1', 'P2', 'P3']\n",
    "first_close_edges = ['K1', 'L3', 'M5', 'M3', 'N5', 'N3']\n",
    "\n",
    "def get_Z(Z):\n",
    "    \"\"\"\n",
    "    returns the atomic number independent of input as a string or number\n",
    "    \n",
    "    input:\n",
    "    Z: atomic number of chemical symbol (0 if not valid)\n",
    "    \"\"\"\n",
    "    Xsections = eels.get_x_sections()\n",
    "    \n",
    "    Z_out = 0\n",
    "    if str(Z).isdigit(): \n",
    "        Z_out = Z\n",
    "    elif isinstance(Z, str):\n",
    "        for key in Xsections:\n",
    "            if Xsections[key]['name'].lower() == Z.lower(): ## Well one really should know how to write elemental \n",
    "                Z_out = int(key)\n",
    "    return Z_out\n",
    "\n",
    "\n",
    "class ElementalEdges(object):\n",
    "    def __init__(self, ax, Z):\n",
    "        self.ax = ax\n",
    "        self.labels = None\n",
    "        self.lines = None\n",
    "        \n",
    "        self.Z = get_Z(Z)\n",
    "        self.color = 'black'\n",
    "        self.Xsections = eels.get_x_sections()\n",
    "        self.cid = ax.figure.canvas.mpl_connect('draw_event', self.onresize)\n",
    "        \n",
    "        #self.update()\n",
    "    def set_edge(self,Z):\n",
    "        self.Z = get_Z(Z)\n",
    "        \n",
    "            \n",
    "        self.update()\n",
    "    def onresize(self, event):\n",
    "        self.update()\n",
    "        \n",
    "    def update(self):\n",
    "        \n",
    "        if self.labels != None:\n",
    "            for label in self.labels:\n",
    "                label.remove()\n",
    "        if self.lines != None:\n",
    "            for line in self.lines:\n",
    "                line.remove()\n",
    "        if self.Z>0:\n",
    "            self.labels = [] ; self.lines =[] \n",
    "            x_min, x_max = self.ax.get_xlim()\n",
    "            y_min, y_max = self.ax.get_ylim()\n",
    "            x_bounds = ax.get_xlim()\n",
    "            element = str(self.Z)\n",
    "            Xsections = self.Xsections\n",
    "            for key in all_edges:\n",
    "                if key in Xsections[element]:\n",
    "                    if 'onset' in Xsections[element][key]:\n",
    "                        x = Xsections[element][key]['onset']\n",
    "                        if x > x_min and x < x_max:\n",
    "                            if key in first_close_edges:\n",
    "                                label2 = self.ax.text(x, y_max,f\"{Xsections[element]['name']}-{key}\",\n",
    "                                                      verticalalignment='top', rotation = 0, color = self.color)\n",
    "                            else:\n",
    "                                label2 = self.ax.text(x, y_max,f\"\\n{Xsections[element]['name']}-{key}\",\n",
    "                                                      verticalalignment='top', color = self.color)\n",
    "                            line2 = self.ax.axvline(x,ymin = 0,ymax = 1,color=self.color)\n",
    "\n",
    "                            self.labels.append(label2)\n",
    "\n",
    "                            self.lines.append(line2)\n",
    "                    \n",
    "        \n",
    "    def disconnect(self):\n",
    "        if self.labels != None:\n",
    "            for label in self.labels:\n",
    "                label.remove()\n",
    "        if self.lines != None:\n",
    "            for line in self.lines:\n",
    "                line.remove()\n",
    "        self.labels = None\n",
    "        self.lines = None\n",
    "        self.ax.figure.canvas.mpl_disconnect(self.cid)\n",
    "    def reconnect(self):    \n",
    "        self.cid = ax.figure.canvas.mpl_connect('draw_event', self.onresize)\n",
    "        ax.figure.canvas.draw_idle()\n",
    "        \n",
    "fig, ax_Xsec = plt.subplots()                \n",
    "for Z in atomic_numbers:\n",
    "    ax_Xsec.plot(Xsections[str(Z)]['ene'], Xsections[str(Z)]['dat'], label = Xsections[str(Z)]['name'])\n",
    "ax_Xsec.set_xlim(100,1450)\n",
    "ax_Xsec.set_ylim(0,1e17)\n",
    "plt.legend();   \n",
    "Z = 58\n",
    "edges = ieels.ElementalEdges(ax_Xsec, 'Ce')\n"
   ]
  },
  {
   "cell_type": "markdown",
   "metadata": {},
   "source": [
    "Let's make the lines disappear"
   ]
  },
  {
   "cell_type": "code",
   "execution_count": 36,
   "metadata": {},
   "outputs": [],
   "source": [
    "edges.disconnect()"
   ]
  },
  {
   "cell_type": "markdown",
   "metadata": {},
   "source": [
    "and reappear in the plot above"
   ]
  },
  {
   "cell_type": "code",
   "execution_count": 37,
   "metadata": {},
   "outputs": [],
   "source": [
    "edges.set_edge(Z)"
   ]
  },
  {
   "cell_type": "markdown",
   "metadata": {},
   "source": [
    "Let's set another edge"
   ]
  },
  {
   "cell_type": "code",
   "execution_count": 13,
   "metadata": {},
   "outputs": [],
   "source": [
    "edges.set_edge(16)"
   ]
  },
  {
   "cell_type": "markdown",
   "metadata": {},
   "source": [
    "### Find Edges Listed in Xsection Dictionary\n",
    "\n",
    "please note that the two functions below are as ususal available in the EELS_tools of pyTEMlib"
   ]
  },
  {
   "cell_type": "code",
   "execution_count": 38,
   "metadata": {},
   "outputs": [
    {
     "name": "stdout",
     "output_type": "stream",
     "text": [
      "Major Edges within 7.0 eV of 284.0\n",
      "\n",
      " C -K1:    283.8 eV \n",
      " Ru-M5:    279.4 eV \n",
      "\n",
      "All Edges within 7.0 eV of 284.0\n",
      "\n",
      " C -K1:    283.8 eV \n",
      " Kr-M1:    288.3 eV \n",
      " Sr-M2:    279.8 eV \n",
      " Ru-M5:    279.4 eV \n",
      " Ru-M4:    283.6 eV \n",
      " Ce-N1:    289.6 eV \n",
      " Eu-N2:    283.9 eV \n",
      " Gd-N2:    288.5 eV \n",
      " Tb-N3:    285.0 eV \n",
      " Os-N4:    289.4 eV \n"
     ]
    }
   ],
   "source": [
    "def find_major_edges(edge_onset, maximal_chemical_shift = 5):\n",
    "    text = ''\n",
    "    for element in Xsections:\n",
    "        for key in Xsections[element]:\n",
    "            \n",
    "            #if isinstance(Xsections[element][key], dict):\n",
    "            if key in major_edges:\n",
    "                \n",
    "                #if 'onset' in Xsections[element][key]:\n",
    "                #print(key, Xsections[element][key])\n",
    "                if abs(Xsections[element][key]['onset'] - edge_onset) < maximal_chemical_shift:\n",
    "                    #print(element, Xsections[element]['name'], key, Xsections[element][key]['onset'])\n",
    "                    text = text+ f\"\\n {Xsections[element]['name']:2s}-{key}: {Xsections[element][key]['onset']:8.1f} eV \"\n",
    "                    \n",
    "    return text\n",
    "def find_all_edges(edge_onset, maximal_chemical_shift = 5):\n",
    "    text = ''\n",
    "    for element in Xsections:\n",
    "        for key in Xsections[element]:\n",
    "            \n",
    "            if isinstance(Xsections[element][key], dict):\n",
    "            \n",
    "                \n",
    "                if 'onset' in Xsections[element][key]:\n",
    "                \n",
    "                    if abs(Xsections[element][key]['onset'] - edge_onset) < maximal_chemical_shift:\n",
    "                        #print(element, Xsections[element]['name'], key, Xsections[element][key]['onset'])\n",
    "                        text = text+ f\"\\n {Xsections[element]['name']:2s}-{key}: {Xsections[element][key]['onset']:8.1f} eV \"\n",
    "                    \n",
    "    return text\n",
    "\n",
    "\n",
    "edge_onset = 284\n",
    "maximal_chemical_shift = 7\n",
    "print(f'Major Edges within {maximal_chemical_shift:.1f} eV of {edge_onset:.1f}')\n",
    "print(eels.find_major_edges(edge_onset, maximal_chemical_shift))\n",
    "print(f'\\nAll Edges within {maximal_chemical_shift:.1f} eV of {edge_onset:.1f}')\n",
    "print(eels.find_all_edges(edge_onset, maximal_chemical_shift))"
   ]
  },
  {
   "cell_type": "markdown",
   "metadata": {},
   "source": [
    "### Find Edges Depending on Cursor Postion"
   ]
  },
  {
   "cell_type": "code",
   "execution_count": 39,
   "metadata": {},
   "outputs": [
    {
     "data": {
      "image/png": "[encoded data removed]",
      "text/plain": [
       "<Figure size 640x480 with 1 Axes>"
      ]
     },
     "metadata": {},
     "output_type": "display_data"
    }
   ],
   "source": [
    "# We are using \n",
    "# from matplotlib.widgets import Cursor\n",
    "\n",
    "\n",
    "maximal_chemical_shift = 5\n",
    "fig, ax = plt.subplots()\n",
    "plt.title(f'Click with left for major and right mouse button for all \\n ionization edges within {maximal_chemical_shift:.1f} eV of cursor')\n",
    "maximal_chemical_shift = 5\n",
    "cursor = ieels.EdgesAtCursor(ax, Xsections['42']['ene'], Xsections['42']['dat'],maximal_chemical_shift)\n",
    "cursor.maximal_chemical_shift =maximal_chemical_shift\n",
    "cid =  plt.connect('motion_notify_event', cursor.mouse_move)\n",
    "\n",
    "ax.plot(Xsections['16']['ene'], Xsections['16']['dat']*2, label = 'S')\n",
    "ax.plot(Xsections['42']['ene'], Xsections['42']['dat'], 'r', label = 'Mo')\n",
    "ax.set_xlim(0,500)\n",
    "ax.set_ylim(0,2.5e17);\n",
    "\n",
    "\n"
   ]
  },
  {
   "cell_type": "markdown",
   "metadata": {},
   "source": [
    "## EELS cross sections\n",
    "### Determine Effective Collection Angle\n",
    "\n",
    "EELS cross sections are dependent on the momentum transfer (angle dependence), while photons cannot transfer any momentum. The angle dependence is given by the experimental set-up and can be calculated by the convolution of collection and convergence angle.\n",
    "\n",
    "Here we use the method of [Pierre Trebbia, Ultramicroscopy **24** (1988) pp.399-408](https://doi.org/10.1016/0304-3991(88)90130-1)\n"
   ]
  },
  {
   "cell_type": "code",
   "execution_count": 40,
   "metadata": {},
   "outputs": [],
   "source": [
    "def effective_collection_angle(ene,  alpha, beta, beamkV):\n",
    "    \"\"\" effective collection angle for convergent beam setup\n",
    "    \n",
    "    \n",
    "    \n",
    "    Original abstract of function y = effbeta(ene,  alpha, beta, beamkV)\n",
    "    # \n",
    "    #       This program computes etha(alpha,beta), that is the collection\n",
    "    #       efficiency associated to the following geometry :\n",
    "    #\n",
    "    #       alpha = half angle of illumination  (0 -> pi/2)\n",
    "    #       beta  = half angle of collection    (0 -> pi/2)\n",
    "    #                                           (pi/2 = 1570.795 mrad)\n",
    "    #\n",
    "    #           A constant angular distribution of incident electrons is assumed\n",
    "    #       for any incident angle (-alpha,alpha). These electrons impige the\n",
    "    #       target and a single energy loss event occurs, with a characteristic\n",
    "    #       angle theta-e (relativistic). The angular distribution of the\n",
    "    #       electrons after the target is analytically derived.\n",
    "    #           This program integrates this distribution from theta=0 up to\n",
    "    #       theta=beta with an adjustable angular step.\n",
    "    #           This program also computes beta* which is the theoretical\n",
    "    #       collection angle which would give the same value of etha(alpha,beta)\n",
    "    #       with a parallel incident beam.\n",
    "    #\n",
    "    #       subroutines and function subprograms required\n",
    "    #       ---------------------------------------------\n",
    "    #       none\n",
    "    #\n",
    "    #       comments\n",
    "    #       --------\n",
    "    #\n",
    "    #       The following parameters are asked as input :\n",
    "    #        accelerating voltage (kV), energy loss range (eV) for the study,\n",
    "    #        energy loss step (eV) in this range, alpha (mrad), beta (mrad).\n",
    "    #       The program returns for each energy loss step :\n",
    "    #        alpha (mrad), beta (mrad), theta-e (relativistic) (mrad),\n",
    "    #        energy loss (eV), etha (#), beta * (mrad)\n",
    "    #\n",
    "    #       author :\n",
    "    #       --------\n",
    "    #       Pierre TREBBIA\n",
    "    #       US 41 : \"Microscopie Electronique Analytique Quantitative\"\n",
    "    #       Laboratoire de Physique des Solides, Bat. 510\n",
    "    #       Universite Paris-Sud, F91405 ORSAY Cedex\n",
    "    #       Phone : (33-1) 69 41 53 68\n",
    "    #\n",
    "    #       \n",
    "    \"\"\"\n",
    "        \n",
    "       \n",
    "    z1 = beamkV*1000.  ;   # eV\n",
    "    z2 = ene[0];\n",
    "    z3 = ene[-1]\n",
    "    z4 = 100.0\n",
    "    z5 = alpha*0.001   # rad\n",
    "    z6 = beta*0.001    # rad\n",
    "    z7 = 500          # number of integration steps to be modified at will\n",
    "\n",
    "    # main loop on energy loss\n",
    "    \n",
    "    for  zx in range(int(z2),int(z3),int(z4)): #! zx = current energy loss\n",
    "        eta=0.0;\n",
    "        x0=float(zx)*(z1+511060.)/(z1*(z1+1022120.));  # x0 = relativistic theta-e\n",
    "        x1 = np.pi/(2.*x0);\n",
    "        x2=x0*x0+z5*z5;\n",
    "        x3=z5/x0*z5/x0;\n",
    "        x4=0.1*np.sqrt(x2);\n",
    "        dtheta=(z6-x4)/z7;\n",
    "    #\n",
    "    # calculation of the analytical expression\n",
    "    #\n",
    "    for zi in range(1, int(z7)):\n",
    "        theta=x4+dtheta*float(zi);\n",
    "        x5=theta*theta;\n",
    "        x6=4.*x5*x0*x0;\n",
    "        x7=x2-x5;\n",
    "        x8=np.sqrt(x7*x7+x6);\n",
    "        x9=(x8+x7)/(2.*x0*x0);\n",
    "        x10=2.*theta*dtheta*np.log(x9);\n",
    "        eta=eta+x10;\n",
    "\n",
    "          \n",
    "\n",
    "    eta=eta+x2/100.*np.log(1.+x3)   ;  # addition of the central contribution\n",
    "    x4=z5*z5*np.log(1.+x1*x1);         # normalisation\n",
    "    eta=eta/x4;\n",
    "    #\n",
    "    #        correction by geometrical factor (beta/alpha)**2\n",
    "    #\n",
    "    if (z6<z5):\n",
    "        x5=z5/z6;\n",
    "        eta=eta*x5*x5;\n",
    "\n",
    "    etha2=eta*100.;\n",
    "    #\n",
    "    #        calculation of beta *\n",
    "    #\n",
    "    x6=np.power((1.+x1*x1),eta);\n",
    "    x7=x0*np.sqrt(x6-1.);\n",
    "    y=x7*1000.;\n",
    "\n",
    "    \n",
    "    return y\n",
    "\n",
    "    "
   ]
  },
  {
   "cell_type": "code",
   "execution_count": 43,
   "metadata": {},
   "outputs": [
    {
     "name": "stdout",
     "output_type": "stream",
     "text": [
      "Convergence angle  30.00 mrad and collection angle 60.00 mrad \n",
      " results in effective collection angle of is 55.90 mrad\n"
     ]
    }
   ],
   "source": [
    "energy_scale = np.linspace(100,500,1000)\n",
    "alpha=30 \n",
    "beta=60\n",
    "eff_beta = eels.effective_collection_angle(energy_scale,  alpha=alpha, beta=beta, beam_kv=200000)\n",
    "print(f'Convergence angle  {alpha:.2f} mrad and collection angle {beta:.2f} mrad \\n '\n",
    "      f'results in effective collection angle of is {eff_beta:.2f} mrad')"
   ]
  },
  {
   "cell_type": "markdown",
   "metadata": {},
   "source": [
    "### Calculating EELS Cross Section\n",
    "\n",
    "EELS cross sections are dependent on the momentum transfer (angle dependence), while photons cannot transfer any momentum. The angle dependence of the cross-section is aproximated by the equation 4 in:\n",
    "[Egerton Ultramicroscopy 50 (1993) 13-28](https://doi.org/10.1016/0304-3991(93)90087-E)\n",
    "\n",
    "The units of atom density in  electron microscopy is atoms per nm$^2$.\n",
    "Cross sections are normally given in barns (a neutron scattering joke).\n",
    "\n",
    "A barn is 10$^{-28}$ m$^2$ which is then 1 barn = 10$^{-10}$ nm$^2$\n",
    "\n",
    "Therefore, to get a probability per nm$^2$ we have to divide the cross-section in barns by 10$^{10}$\n",
    "\n",
    "𝐼𝑒𝑑𝑔𝑒(𝛽,Δ𝐸)=𝑁𝐼𝑙𝑜𝑤−𝑙𝑜𝑠𝑠(𝛽,Δ𝐸)𝜎𝑒𝑑𝑔𝑒(𝛽,Δ𝐸)\n"
   ]
  },
  {
   "cell_type": "code",
   "execution_count": 44,
   "metadata": {},
   "outputs": [],
   "source": [
    "\n",
    "from scipy.interpolate import splev,splrep,splint\n",
    "#from scipy.integrate import quad\n",
    "from scipy.interpolate import interp1d\n",
    "from scipy.optimize import leastsq\n",
    "\n",
    "def xsec_xrpa(energy_scale, E0, Z, beta, shift=0 ):\n",
    "    \"\"\"\n",
    "    Calculate momentum-integrated cross-section for EELS from X-ray photoaborption  cross-sections.\n",
    "    \n",
    "    Input:\n",
    "    ------\n",
    "    energy_scale: energyscale of spectrum to be analyzed\n",
    "    E0: acceleration voltage in keV\n",
    "    Z: atomic number of element\n",
    "    beta: effective collection angle in mrad\n",
    "    shift: chemical shift of edge in eV\n",
    "    \"\"\"\n",
    " \n",
    "    beta = beta * 0.001;     #% collection half angle theta [rad]\n",
    "    #thetamax = self.parent.spec[0].convAngle * 0.001;  #% collection half angle theta [rad]\n",
    "    dispersion = energy_scale[1]-energy_scale[0]\n",
    "    \n",
    "    Xsections = eels.get_Xsections(Z)\n",
    "    enexs = Xsections['ene']\n",
    "    datxs = Xsections['dat']\n",
    "        \n",
    "    #####\n",
    "    ## Cross Section according to Egerton Ultramicroscopy 50 (1993) 13-28 equation (4)\n",
    "    #####\n",
    "\n",
    "    # Relativistic correction factors\n",
    "    T = 511060.0*(1.0-1.0/(1.0+E0/(511.06))**2)/2.0;\n",
    "    gamma=1+E0/511.06;\n",
    "    A = 6.5#e-14 *10**14\n",
    "    b = beta\n",
    "\n",
    "    thetaE = enexs/(2*gamma*T)\n",
    "\n",
    "    G = 2*np.log(gamma)-np.log((b**2+thetaE**2)/(b**2+thetaE**2/gamma**2))-(gamma-1)*b**2/(b**2+thetaE**2/gamma**2)\n",
    "    datxs = datxs*(A/enexs/T)*(np.log(1+b**2/thetaE**2)+G)/1e8\n",
    "\n",
    "    datxs = datxs * dispersion # from per eV to per dispersion\n",
    "    coeff = splrep(enexs,datxs,s=0) # now in areal density atoms / m^2\n",
    "    xsec = np.zeros(len(energy_scale ))\n",
    "    #shift = 0# int(ek -onsetXRPS)#/dispersion\n",
    "    lin = interp1d(enexs,datxs,kind='linear') # Linear instead of spline interpolation to avoid oscillations.\n",
    "    xsec = lin(energy_scale-shift)\n",
    "    \n",
    "    return xsec\n",
    "energy_scale = np.arange(100,600)\n",
    "B_Xsection = eels.xsec_xrpa(energy_scale, 200, 5,  10. )/1e10  \n",
    "N_Xsection = eels.xsec_xrpa(energy_scale, 200, 7,  10. )/1e10       #  xsec  is in barns = 10^28 m2 = 10^10 nm2\n"
   ]
  },
  {
   "cell_type": "markdown",
   "metadata": {},
   "source": [
    "### Plotting of Cross Sections\n",
    "please note that spectrum and cross sections are not on the same scale"
   ]
  },
  {
   "cell_type": "code",
   "execution_count": 45,
   "metadata": {},
   "outputs": [
    {
     "data": {
      "image/png": "[encoded data removed]",
      "text/plain": [
       "<Figure size 640x480 with 1 Axes>"
      ]
     },
     "metadata": {},
     "output_type": "display_data"
    }
   ],
   "source": [
    "S_Xsection  = eels.xsec_xrpa(energy_scale, 200, 16, 10. )/1e10  \n",
    "Mo_Xsection = eels.xsec_xrpa(energy_scale, 200, 42, 10. ,shift=0)/1e10       #  xsec  is in barns = 10^28 m2 = 10^10 nm2\n",
    "\n",
    "fig, ax1 = plt.subplots()\n",
    "\n",
    "ax1.plot(energy_scale, S_Xsection, label='S X-section' )\n",
    "ax1.plot(energy_scale, Mo_Xsection, label='Mo X-section' )\n",
    "ax1.set_xlabel('energy_loss [eV]')\n",
    "ax1.set_ylabel('probability [atoms/nm$^{2}$]')\n",
    "\n",
    "\n",
    "plt.legend();\n",
    "fig.tight_layout();"
   ]
  },
  {
   "cell_type": "markdown",
   "metadata": {},
   "source": [
    "## Summary\n",
    "\n",
    "The cross section is key to determine the chemical composition of an EELS spectrum. \n",
    "These cross sections are dependent on:\n",
    "- acceleration voltage\n",
    "- effective collection angle\n",
    "- element\n",
    "\n",
    "So these experimental parameters have to be provided for a calculations of cross sections.\n",
    "\n",
    "We will use these cross sections in the [chemical compostions notebook](CH4_08-Chemical_Composition.ipynb)"
   ]
  },
  {
   "cell_type": "markdown",
   "metadata": {},
   "source": [
    "## Navigation\n",
    "- <font size = \"3\">  **Up Chapter 4: [Imaging](CH4_00-Spectroscopy.ipynb)** </font>\n",
    "- <font size = \"3\">  **Back: [Dielectric Function](CH4_03-Drude.ipynb)** </font>\n",
    "- <font size = \"3\">  **Next: [Chemical Composition](CH4_08-Chemical_Composition.ipynb)** </font>\n",
    "- <font size = \"3\">  **List of Content: [Front](../_MSE672_Intro_TEM.ipynb)** </font>\n"
   ]
  },
  {
   "cell_type": "code",
   "execution_count": null,
   "metadata": {},
   "outputs": [],
   "source": []
  }
 ],
 "metadata": {
  "kernelspec": {
   "display_name": "tem",
   "language": "python",
   "name": "tem"
  },
  "language_info": {
   "codemirror_mode": {
    "name": "ipython",
    "version": 3
   },
   "file_extension": ".py",
   "mimetype": "text/x-python",
   "name": "python",
   "nbconvert_exporter": "python",
   "pygments_lexer": "ipython3",
   "version": "3.10.10"
  },
  "toc": {
   "base_numbering": "7",
   "nav_menu": {},
   "number_sections": true,
   "sideBar": true,
   "skip_h1_title": false,
   "title_cell": "Table of Contents",
   "title_sidebar": "Contents",
   "toc_cell": false,
   "toc_position": {
    "height": "calc(100% - 180px)",
    "left": "10px",
    "top": "150px",
    "width": "384px"
   },
   "toc_section_display": true,
   "toc_window_display": true
  },
  "vscode": {
   "interpreter": {
    "hash": "838e0debddb5b6f29d3d8c39ba50ae8c51920a564d3bac000e89375a158a81de"
   }
  }
 },
 "nbformat": 4,
 "nbformat_minor": 4
}
