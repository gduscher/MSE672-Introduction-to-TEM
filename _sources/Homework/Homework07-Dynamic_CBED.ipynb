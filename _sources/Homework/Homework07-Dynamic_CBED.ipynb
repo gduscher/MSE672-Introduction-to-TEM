{
 "cells": [
  {
   "attachments": {},
   "cell_type": "markdown",
   "metadata": {
    "slideshow": {
     "slide_type": "slide"
    }
   },
   "source": [
    "\n",
    "<font size = \"5\"> **Chapter 2: [Diffraction](../Diffraction/CH2_00-Diffraction.ipynb)** </font>\n",
    "\n",
    "<hr style=\"height:1px;border-top:4px solid #FF8200\" />\n",
    "\n",
    "# HW7:  Simulating CBED Pattern\n",
    "\n",
    "[Download](https://raw.githubusercontent.com/gduscher/MSE672-Introduction-to-TEM//main/Homework/Homework07-Dynamic_CBED.ipynb)\n",
    " \n",
    "[![Open In Colab](https://colab.research.google.com/assets/colab-badge.svg)](\n",
    "    https://colab.research.google.com/github/gduscher/MSE672-Introduction-to-TEM/blob/main/Homework/Homework07-Dynamic_CBED.ipynb)\n",
    "\n",
    "\n",
    "\n",
    "part of \n",
    "\n",
    "<font size = \"5\"> **[MSE672:  Introduction to Transmission Electron Microscopy](../_MSE672_Intro_TEM.ipynb)**</font>\n",
    "\n",
    "by Gerd Duscher, Spring 2022\n",
    "\n",
    "Microscopy Facilities<br>\n",
    "Institute of Advanced Materials & Manufacturing<br>\n",
    "Materials Science & Engineering<br>\n",
    "The University of Tennessee, Knoxville\n",
    "\n",
    "Background and methods to analysis and quantification of data acquired with transmission electron microscopes\n"
   ]
  },
  {
   "cell_type": "markdown",
   "metadata": {},
   "source": [
    "## Homework Assignment\n",
    "\n",
    "Simulate the silicon [001] CBED diffraction pattern from Lab 4 (use the one with the higher camera length.\n",
    "\n",
    "That homework has to be done on Google colab.\n",
    "\n",
    "Press the **Open In Colab** button above.\n",
    "\n",
    ">\n",
    ">Please note that you will have to activate the ``GPU`` under the Menu ``Runtime`` select ``Change runtime type`` \n",
    ">\n",
    "\n",
    "Questions:\n",
    "\n",
    "1. Set the convergence angle to the value you derived at in Homework 5 (please note, here it has to be in mrad not 1/nm))\n",
    "2. What thickness did you arrive at?\n",
    "3. How can you change the intensity in the middle of the zero disk?\n",
    "4. How is that related with the intensity in the center of the [220] disks?\n"
   ]
  },
  {
   "cell_type": "markdown",
   "metadata": {},
   "source": [
    "## Load relevant python packages\n",
    "### Check Installed Packages"
   ]
  },
  {
   "cell_type": "code",
   "execution_count": 5,
   "metadata": {},
   "outputs": [
    {
     "name": "stdout",
     "output_type": "stream",
     "text": [
      "done\n"
     ]
    }
   ],
   "source": [
    "import sys\n",
    "from pkg_resources import get_distribution, DistributionNotFound\n",
    "\n",
    "def test_package(package_name):\n",
    "    \"\"\"Test if package exists and returns version or -1\"\"\"\n",
    "    try:\n",
    "        version = get_distribution(package_name).version\n",
    "    except (DistributionNotFound, ImportError) as err:\n",
    "        version = '-1'\n",
    "    return version\n",
    "\n",
    "# Colab setup ------------------\n",
    "if 'google.colab' in sys.modules:\n",
    "    !pip install ase\n",
    "    !pip install abtem -q\n",
    "# pyTEMlib setup ------------------\n",
    "else:\n",
    "    if test_package('abtem') < '1.0.0b17':\n",
    "        print('installing abtem')\n",
    "        !{sys.executable} -m pip install  --upgrade abtem -q\n",
    "# ------------------------------\n",
    "print('done')"
   ]
  },
  {
   "cell_type": "markdown",
   "metadata": {
    "slideshow": {
     "slide_type": "slide"
    }
   },
   "source": [
    "### Import numerical and plotting python packages\n",
    "This notebook: only requires:\n",
    "* matplotlib: for plotting\n",
    "* numpy for numerical arrays\n",
    "* ase: for the structure\n",
    "* abtem: for the multislice calculation"
   ]
  },
  {
   "cell_type": "code",
   "execution_count": 7,
   "metadata": {
    "scrolled": false,
    "slideshow": {
     "slide_type": "-"
    }
   },
   "outputs": [
    {
     "name": "stdout",
     "output_type": "stream",
     "text": [
      "Populating the interactive namespace from numpy and matplotlib\n"
     ]
    }
   ],
   "source": [
    "import sys\n",
    "if 'google.colab' in sys.modules:\n",
    "    %pylab --no-import-all inline\n",
    "else:\n",
    "    %pylab --no-import-all notebook\n",
    "\n",
    "# import atomic simulation environment\n",
    "import ase\n",
    "import ase.build\n",
    "import ase.visualize\n",
    "\n",
    "# import abitio-tem library\n",
    "import abtem"
   ]
  },
  {
   "cell_type": "markdown",
   "metadata": {},
   "source": [
    "## Let's Make a Structure\n",
    ">\n",
    "> Here we make Si in the [001] direction \n",
    ">\n",
    "\n",
    "Change the input here"
   ]
  },
  {
   "cell_type": "code",
   "execution_count": 8,
   "metadata": {
    "scrolled": false
   },
   "outputs": [],
   "source": [
    "# ------------ Input ----------\n",
    "thickness = 220. #  in nm\n",
    "number_of_layers = 4  # per unit cell\n",
    "#------------------------------\n",
    "\n",
    "atoms = ase.build.bulk('Si', 'diamond', cubic=True)\n",
    "lattice_parameter = atoms.cell[2,2]\n",
    "layers = int(thickness / lattice_parameter *10)\n",
    "atoms *= (32, 32, layers)\n",
    "\n",
    "atoms.center()"
   ]
  },
  {
   "cell_type": "markdown",
   "metadata": {},
   "source": [
    "### Make the potential\n",
    "\n",
    "We are using the frozen phonon approximation to make a varied potential.\n",
    "\n",
    "Sigma is the averge deviation of positions from the symmetric sites (in Angstrom). Please do not change that value.\n",
    "\n",
    "Please note that I am using 1024 by 1024 pixels (set by the gpts variable)"
   ]
  },
  {
   "cell_type": "code",
   "execution_count": 10,
   "metadata": {},
   "outputs": [],
   "source": [
    "sigma = 0.1256\n",
    "frozen_phonons = abtem.FrozenPhonons(atoms, 12, {'Si': sigma}, seed=13, directions='xyz')\n",
    "\n",
    "einstein_potential = abtem.Potential(frozen_phonons, gpts=1024, \n",
    "                                     slice_thickness=lattice_parameter/number_of_layers, \n",
    "                                     projection='infinite', parametrization='kirkland', \n",
    "                                     precalculate=False)"
   ]
  },
  {
   "cell_type": "markdown",
   "metadata": {},
   "source": [
    "##  Definition of electron probe\n"
   ]
  },
  {
   "cell_type": "code",
   "execution_count": 17,
   "metadata": {},
   "outputs": [],
   "source": [
    "# -------- Input --------\n",
    "convergence_angle = 5  # in mrad\n",
    "device = 'gpu'\n",
    "# -----------------------\n",
    "\n",
    "probe = abtem.Probe(energy=200e3, semiangle_cutoff=convergence_angle,  device=device)\n",
    "probe.grid.match(einstein_potential)"
   ]
  },
  {
   "cell_type": "markdown",
   "metadata": {},
   "source": [
    "## Definition of detector\n",
    "\n",
    "We use a CCD camera equivalent with lots of pixels"
   ]
  },
  {
   "cell_type": "code",
   "execution_count": 18,
   "metadata": {
    "scrolled": true
   },
   "outputs": [],
   "source": [
    "detector = abtem.PixelatedDetector(max_angle='limit')"
   ]
  },
  {
   "cell_type": "markdown",
   "metadata": {},
   "source": [
    "## Multislice calculation\n",
    "If you get an error, then you have to either set the ``device`` variable in the code cell before last to ``'cpu'`` or you set the runtime of google colab to 'gpu' (under Menu point: Runtime - Change runtime type) "
   ]
  },
  {
   "cell_type": "code",
   "execution_count": null,
   "metadata": {},
   "outputs": [],
   "source": [
    "measurement = probe.build().multislice(einstein_potential, pbar=True, detector=detector)"
   ]
  },
  {
   "cell_type": "markdown",
   "metadata": {},
   "source": [
    "## Output"
   ]
  },
  {
   "cell_type": "code",
   "execution_count": null,
   "metadata": {},
   "outputs": [],
   "source": [
    "measurement.show(power=0.4)"
   ]
  },
  {
   "cell_type": "markdown",
   "metadata": {},
   "source": [
    "## Repeat \n",
    "\n",
    "Repeat with different thickness till you get the right pattern in the zero disk of the CBED pattern of homework 5 (return to the structure code cell)"
   ]
  },
  {
   "cell_type": "markdown",
   "metadata": {},
   "source": [
    "## Save the calculation\n",
    "\n",
    "We save the numpy array, you can download this file in google colab from the file menu on the left."
   ]
  },
  {
   "cell_type": "code",
   "execution_count": 19,
   "metadata": {},
   "outputs": [],
   "source": [
    "with open('Si011-slice0_1.npy', 'wb') as f:\n",
    "    np.save(f, measurement.array[0])"
   ]
  },
  {
   "cell_type": "code",
   "execution_count": null,
   "metadata": {},
   "outputs": [],
   "source": []
  }
 ],
 "metadata": {
  "kernelspec": {
   "display_name": "Python 3 (ipykernel)",
   "language": "python",
   "name": "python3"
  },
  "language_info": {
   "codemirror_mode": {
    "name": "ipython",
    "version": 3
   },
   "file_extension": ".py",
   "mimetype": "text/x-python",
   "name": "python",
   "nbconvert_exporter": "python",
   "pygments_lexer": "ipython3",
   "version": "3.9.7"
  },
  "livereveal": {
   "height": 768,
   "theme": "sky",
   "transition": "zoom",
   "width": 1024
  },
  "toc": {
   "base_numbering": "1",
   "nav_menu": {},
   "number_sections": true,
   "sideBar": true,
   "skip_h1_title": true,
   "title_cell": "Table of Contents",
   "title_sidebar": "Contents",
   "toc_cell": false,
   "toc_position": {
    "height": "calc(100% - 180px)",
    "left": "10px",
    "top": "150px",
    "width": "262px"
   },
   "toc_section_display": true,
   "toc_window_display": true
  }
 },
 "nbformat": 4,
 "nbformat_minor": 2
}
