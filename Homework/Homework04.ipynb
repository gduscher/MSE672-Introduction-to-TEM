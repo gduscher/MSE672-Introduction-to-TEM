{
 "cells": [
  {
   "attachments": {},
   "cell_type": "markdown",
   "metadata": {
    "slideshow": {
     "slide_type": "slide"
    }
   },
   "source": [
    "<font size = \"5\"> **Chapter 2: [Diffraction](../Diffraction/CH2_00-Diffraction.ipynb)** </font>\n",
    "\n",
    "<hr style=\"height:1px;border-top:4px solid #FF8200\" />\n",
    "\n",
    "#  Homework 4\n",
    "\n",
    "<font size = \"5\"> Analyzing Ring Diffraction Pattern </font>\n",
    "\n",
    "[Download](https://raw.githubusercontent.com/gduscher/MSE672-Introduction-to-TEM//main/Homework/Homework04.ipynb)\n",
    "\n",
    "\n",
    "[![OpenInColab](https://colab.research.google.com/assets/colab-badge.svg)](\n",
    "    https://colab.research.google.com/github/gduscher/MSE672-Introduction-to-TEM/blob/main/Homework/Homework04.ipynb)\n",
    "\n",
    "\n",
    "part of \n",
    "\n",
    "<font size = \"5\"> **[MSE672:  Introduction to Transmission Electron Microscopy](../_MSE672_Intro_TEM.ipynb)**</font>\n",
    "\n",
    "by Gerd Duscher, Spring 2025\n",
    "\n",
    "Microscopy Facilities<br>\n",
    "Institute of Advanced Materials & Manufacturing<br>\n",
    "Materials Science & Engineering<br>\n",
    "The University of Tennessee, Knoxville\n",
    "\n",
    "Background and methods to analysis and quantification of data acquired with transmission electron microscopes.\n"
   ]
  },
  {
   "cell_type": "markdown",
   "metadata": {},
   "source": [
    "## Overview\n",
    "This homework follows the notebook:\n",
    "[Analyzing Ring Diffraction Pattern](../Diffraction/CH2_05-Diffraction_Rings.ipynb)\n"
   ]
  },
  {
   "cell_type": "markdown",
   "metadata": {
    "slideshow": {
     "slide_type": "slide"
    }
   },
   "source": [
    "## Load relevant python packages\n",
    "### Check Installed Packages"
   ]
  },
  {
   "cell_type": "code",
   "execution_count": null,
   "metadata": {},
   "outputs": [],
   "source": [
    "import sys\n",
    "from pkg_resources import get_distribution, DistributionNotFound\n",
    "\n",
    "def test_package(package_name):\n",
    "    \"\"\"Test if package exists and returns version or -1\"\"\"\n",
    "    try:\n",
    "        version = get_distribution(package_name).version\n",
    "    except (DistributionNotFound, ImportError) as err:\n",
    "        version = '-1'\n",
    "    return version\n",
    "\n",
    "if test_package('pyTEMlib') < '0.2025.1.0':\n",
    "    print('installing pyTEMlib')\n",
    "    !{sys.executable} -m pip install  --upgrade pyTEMlib\n",
    "print('done')"
   ]
  },
  {
   "cell_type": "markdown",
   "metadata": {},
   "source": [
    "### Load the plotting and figure packages\n",
    "Import the python packages that we will use:\n",
    "\n",
    "Beside the basic numerical (numpy) and plotting (pylab of matplotlib) libraries,\n",
    "* three dimensional plotting\n",
    "and some libraries from the book\n",
    "* kinematic scattering library."
   ]
  },
  {
   "cell_type": "code",
   "execution_count": null,
   "metadata": {
    "slideshow": {
     "slide_type": "-"
    }
   },
   "outputs": [],
   "source": [
    "%matplotlib  widget\n",
    "import matplotlib.pyplot as plt\n",
    "import numpy as np\n",
    "\n",
    "# 3D and selection plotting package \n",
    "from mpl_toolkits.mplot3d import Axes3D # 3D plotting\n",
    "from matplotlib.widgets import  EllipseSelector\n",
    "\n",
    "\n",
    "# additional package \n",
    "import itertools \n",
    "import scipy.constants as const\n",
    "import os\n",
    "import sys\n",
    "\n",
    "if 'google.colab' in sys.modules:\n",
    "    from google.colab import output\n",
    "    output.enable_custom_widget_manager()\n",
    "    from google.colab import drive\n",
    "\n",
    "# Import libraries from the book\n",
    "import pyTEMlib\n",
    "import pyTEMlib.kinematic_scattering as ks         # Kinematic sCattering Library\n",
    "                             # with Atomic form factors from Kirklands book\n",
    "import pyTEMlib.file_tools as ft     \n",
    "\n",
    "# it is a good idea to show the version numbers at this point for archiving reasons.\n",
    "__notebook_version__ = '2025.02.10'\n",
    "\n",
    "print('pyTEM version: ', pyTEMlib.__version__)\n",
    "print('notebook version: ', __notebook_version__)"
   ]
  },
  {
   "cell_type": "markdown",
   "metadata": {
    "slideshow": {
     "slide_type": "slide"
    }
   },
   "source": [
    "\n",
    "## Load Ring-Diffraction Pattern\n",
    "\n",
    "\n",
    "### First we select the diffraction pattern\n",
    "\n",
    "In the second lab we used a sample of polycrystalline Aluminium. \n",
    "\n",
    "If you run this notebook on your own computer you should download your images from the [google drive for 2025 Lab Data](https://drive.google.com/drive/folders/1jZKyvi9r9gUcF5XD-D69MX5foZKHi3yN?usp=drive_link), if you run it on google colab you can go to the drive directory in the dialog below. \n",
    "\n",
    "\n",
    "> You must log into Google with your UTK account to be able to read these data.\n",
    ">\n",
    "\n",
    "Go to the folder of you data and select one  \n"
   ]
  },
  {
   "cell_type": "code",
   "execution_count": null,
   "metadata": {
    "slideshow": {
     "slide_type": "-"
    }
   },
   "outputs": [],
   "source": [
    "if 'google.colab' in sys.modules:\n",
    "    drive.mount(\"/content/drive\")\n",
    "fileWidget = ft.FileWidget()"
   ]
  },
  {
   "cell_type": "code",
   "execution_count": null,
   "metadata": {},
   "outputs": [],
   "source": [
    "diff_pattern = fileWidget.selected_dataset\n",
    "print(f\"alpha tilt {np.degrees(diff_pattern.metadata['experiment']['stage']['tilt']['alpha']):.2f}°\")  \n",
    "print(f\"beta tilt {np.degrees(diff_pattern.metadata['experiment']['stage']['tilt']['beta']):.2f}°\")  \n",
    "view = diff_pattern.plot()\n",
    "\n",
    "diff_pattern"
   ]
  },
  {
   "cell_type": "markdown",
   "metadata": {},
   "source": [
    "## Finding the center\n",
    "\n",
    "### Select the center yourself\n",
    "Select the center of the screen with the ellipse selection tool\n",
    "\n",
    "Note: we use the logarithm to plot the diffraction pattern (look for : \"np.log\"  in the code cell below, the number that follows is the gamma value, change it)"
   ]
  },
  {
   "cell_type": "code",
   "execution_count": null,
   "metadata": {},
   "outputs": [],
   "source": [
    "## Access the data of the loaded image\n",
    "\n",
    "#diff_pattern = np.array(main_dataset.sum(axis=0))\n",
    "diff_pattern = diff_pattern-diff_pattern.min()\n",
    "radius =  diff_pattern.shape[1]/4\n",
    "center = np.array([diff_pattern.shape[0]/2, diff_pattern.shape[1]/2])\n",
    "\n",
    "center= np.unravel_index(np.argmax(np.array(diff_pattern), axis=None), diff_pattern.shape)\n",
    "\n",
    "\n",
    "plt.figure(figsize=(8, 6))\n",
    "plt.imshow(np.log(3.+diff_pattern).T, origin = 'upper')\n",
    "current_axis = plt.gca()\n",
    "selector = EllipseSelector(current_axis, \n",
    "                           None,\n",
    "                           interactive=True , \n",
    "                           minspanx=5, minspany=5,\n",
    "                           spancoords='pixels')  # gca get current axis (plot)\n",
    "\n",
    "center = np.array(center)\n",
    "\n",
    "selector.extents = (center[0]-radius,center[0]+radius,center[1]-radius,center[1]+radius)\n",
    "\n",
    "plt.show()"
   ]
  },
  {
   "cell_type": "markdown",
   "metadata": {},
   "source": [
    "Get center coordinates from selection"
   ]
  },
  {
   "cell_type": "code",
   "execution_count": null,
   "metadata": {},
   "outputs": [],
   "source": [
    "xmin, xmax, ymin, ymax = selector.extents\n",
    "x_center, y_center = selector.center\n",
    "x_shift = x_center - diff_pattern.shape[0]/2\n",
    "y_shift = y_center - diff_pattern.shape[1]/2\n",
    "print(f'radius = {(xmax-xmin)/2:.0f} pixels')\n",
    "\n",
    "center = (x_center, y_center )\n",
    "print(f'new center = {center} [pixels]')\n",
    "\n",
    "out_tags ={}\n",
    "out_tags['center'] = center"
   ]
  },
  {
   "cell_type": "markdown",
   "metadata": {},
   "source": [
    "## Ploting Diffraction Pattern in Polar Coordinates\n",
    "\n",
    "### The Transformation Routine"
   ]
  },
  {
   "cell_type": "code",
   "execution_count": null,
   "metadata": {},
   "outputs": [],
   "source": [
    "from scipy.interpolate import interp1d\n",
    "from scipy.ndimage import map_coordinates\n",
    "\n",
    "\n",
    "def cartesian2polar(x, y, grid, r, t, order=3):\n",
    "\n",
    "    R,T = np.meshgrid(r, t)\n",
    "\n",
    "    new_x = R*np.cos(T)\n",
    "    new_y = R*np.sin(T)\n",
    "\n",
    "    ix = interp1d(x, np.arange(len(x)))\n",
    "    iy = interp1d(y, np.arange(len(y)))\n",
    "\n",
    "    new_ix = ix(new_x.ravel())\n",
    "    new_iy = iy(new_y.ravel())\n",
    "\n",
    "    \n",
    "    return map_coordinates(grid, np.array([new_ix, new_iy]),\n",
    "                            order=order).reshape(new_x.shape)\n",
    "\n",
    "def warp(diff,center):\n",
    "    # Define original polar grid\n",
    "    nx = diff.shape[0]\n",
    "    ny = diff.shape[1]\n",
    "\n",
    "    x = np.linspace(1, nx, nx, endpoint = True)-center[0]\n",
    "    y = np.linspace(1, ny, ny, endpoint = True)-center[1]\n",
    "    z = diff\n",
    "\n",
    "    # Define new polar grid\n",
    "    nr = int(min([center[0], center[1], diff.shape[0]-center[0], diff.shape[1]-center[1]])-1)\n",
    "    print(nr)\n",
    "    nt = 360*3\n",
    "\n",
    "\n",
    "    r = np.linspace(1, nr, nr)\n",
    "    t = np.linspace(0., np.pi, nt, endpoint = False)\n",
    "    return cartesian2polar(x,y, z, r, t, order=3).T"
   ]
  },
  {
   "cell_type": "markdown",
   "metadata": {},
   "source": [
    "### Now we transform\n",
    "\n",
    "If the center is correct a ring in carthesian coordinates is a line in polar coordinates\n",
    "\n",
    "A simple sum over all angles gives us then the diffraction profile (intensity profile of diffraction pattern)\n"
   ]
  },
  {
   "cell_type": "code",
   "execution_count": null,
   "metadata": {},
   "outputs": [],
   "source": [
    "center = np.array(center)\n",
    "out_tags={'center': center}\n",
    "\n",
    "polar_projection = warp(diff_pattern,center)\n",
    "below_zero = polar_projection<0.\n",
    "polar_projection[below_zero]=0.\n",
    "\n",
    "out_tags['polar_projection'] = polar_projection\n",
    "\n",
    "# Sum over all angles (axis 1)\n",
    "profile = polar_projection.sum(axis=1)\n",
    "\n",
    "out_tags['radial_average'] = profile\n",
    "\n",
    "scale = ft.get_slope(diff_pattern.dim_0.values)\n",
    "\n",
    "plt.figure()\n",
    "im = plt.imshow(np.log(1000+polar_projection),extent=(0,360,polar_projection.shape[0]*scale,scale),cmap=\"gray\")# , vmin=np.max(np.log2(1+diff_pattern))*0.5)\n",
    "plt.colorbar(im)\n",
    "ax = plt.gca()\n",
    "ax.set_aspect(\"auto\");\n",
    "plt.xlabel('angle [degree]');\n",
    "plt.ylabel('distance [1/nm]')\n",
    "\n",
    "plt.plot(profile/profile.max()*200,np.linspace(1,len(profile),len(profile))*scale,c='r');\n"
   ]
  },
  {
   "cell_type": "markdown",
   "metadata": {},
   "source": [
    "In the image above check: \n",
    "- Are the lines straight?\n",
    "  \n",
    "## Determine Bragg Peak\n",
    "\n",
    "Peak finding is actually not as simple as it looks"
   ]
  },
  {
   "cell_type": "code",
   "execution_count": null,
   "metadata": {},
   "outputs": [],
   "source": [
    "# --- Input ------\n",
    "scale = 1. \n",
    "# ----------------\n",
    "import scipy as sp\n",
    "import scipy.signal as signal\n",
    "\n",
    "\n",
    "\n",
    "# find_Bragg peaks in profile\n",
    "peaks, g= signal.find_peaks(profile,rel_height =1.1, width=7)  # np.std(second_deriv)*9)\n",
    "\n",
    "print('Peaks are at pixels:')\n",
    "print(peaks)\n",
    "\n",
    "out_tags['ring_radii_px'] = peaks\n",
    "\n",
    "\n",
    "plt.figure()\n",
    "\n",
    "plt.imshow(np.log2(1.+polar_projection),extent=(0,360,polar_projection.shape[0]*scale,scale),cmap='gray', vmin=np.max(np.log2(1+diff_pattern))*0.5)\n",
    "\n",
    "ax = plt.gca()\n",
    "ax.set_aspect(\"auto\");\n",
    "plt.xlabel('angle [degree]');\n",
    "plt.ylabel('distance [1/nm]')\n",
    "\n",
    "plt.plot(profile/profile.max()*200,np.linspace(1,len(profile),len(profile))*scale,c='r');\n",
    "\n",
    "for i in peaks:\n",
    "    if i*scale > 3.5:\n",
    "        plt.plot((0,360),(i*scale,i*scale), linestyle='--', c = 'steelblue')"
   ]
  },
  {
   "cell_type": "markdown",
   "metadata": {},
   "source": [
    "## Calculate Ring Pattern\n",
    "\n",
    "> Note that you will need to change the material\n",
    "\n",
    "\n",
    "see [Structure Factors notebook ](CH2_04-Structure_Factors.ipynb) for details."
   ]
  },
  {
   "cell_type": "code",
   "execution_count": null,
   "metadata": {},
   "outputs": [],
   "source": [
    "# -------Input  -----\n",
    "material = 'gold'\n",
    "# -------------------\n",
    "\n",
    "# Initialize the dictionary with all the input\n",
    "atoms = ks.structure_by_name(material)\n",
    "\n",
    "#ft.h5_add_crystal_structure(main_dataset.h5_dataset.file, atoms)\n",
    "\n",
    "\n",
    "#Reciprocal Lattice \n",
    "# We use the linear algebra package of numpy to invert the unit_cell \\\"matrix\\\"\n",
    "reciprocal_unit_cell = atoms.cell.reciprocal() # transposed of inverted unit_cell\n",
    "\n",
    "#INPUT\n",
    "hkl_max = 7#  maximum allowed Miller index\n",
    "\n",
    "acceleration_voltage = 200.0 *1000.0 #V\n",
    "wave_length  = ks.get_wavelength(acceleration_voltage)\n",
    "\n",
    "\n",
    "\n",
    "h  = np.linspace(-hkl_max,hkl_max,2*hkl_max+1)   # all to be evaluated single Miller Index\n",
    "hkl  = np.array(list(itertools.product(h,h,h) )) # all to be evaluated Miller indices\n",
    "g_hkl = np.dot(hkl,reciprocal_unit_cell)  \n",
    "\n",
    "# Calculate Structure Factors\n",
    "\n",
    "structure_factors = []\n",
    "\n",
    "base = atoms.positions # in Carthesian coordinates\n",
    "for j  in range(len(g_hkl)):\n",
    "    F = 0\n",
    "    for b in range(len(base)):\n",
    "        f = ks.feq(atoms[b].symbol,np.linalg.norm(g_hkl[j])) # Atomic form factor for element and momentum change (g vector)\n",
    "        F += f * np.exp(-2*np.pi*1j*(g_hkl[j]*base[b]).sum())        \n",
    "    structure_factors.append(F)\n",
    "F = structure_factors = np.array(structure_factors)\n",
    "\n",
    "# Allowed reflections have a non zero structure factor F (with a  bit of numerical error)\n",
    "allowed = np.absolute(structure_factors) > 0.001\n",
    "\n",
    "distances = np.linalg.norm(g_hkl, axis = 1)\n",
    "\n",
    "print(f' Of the evaluated {hkl.shape[0]} Miller indices {allowed.sum()} are allowed. ')\n",
    "# We select now all the \n",
    "zero = distances == 0.\n",
    "allowed = np.logical_and(allowed,np.logical_not(zero))\n",
    "\n",
    "F = F[allowed]\n",
    "g_hkl = g_hkl[allowed]\n",
    "hkl = hkl[allowed]\n",
    "distances = distances[allowed]\n",
    "\n",
    "sorted_allowed = np.argsort(distances)\n",
    "\n",
    "distances = distances[sorted_allowed]\n",
    "hkl = hkl[sorted_allowed]\n",
    "F = F[sorted_allowed]\n",
    "\n",
    "# How many have unique distances and what is their muliplicity\n",
    "\n",
    "unique, indices  = np.unique(distances, return_index=True)\n",
    "\n",
    "print(f' Of the {allowed.sum()} allowed Bragg reflections there are {len(unique)} families of reflections.')\n",
    "\n",
    "intensity = np.absolute(F[indices]**2*(np.roll(indices,-1)-indices))\n",
    "print('\\n index \\t  hkl \\t      1/d [1/Ang]       d [pm]     F      multip.  intensity' )\n",
    "family = []\n",
    "#out_tags['reflections'] = {}\n",
    "reflection = 0\n",
    "for j in range(len(unique)-1):\n",
    "    i = indices[j]    \n",
    "    i2 = indices[j+1]   \n",
    "    family.append(hkl[i+np.argmax(hkl[i:i2].sum(axis=1))])\n",
    "    index = '{'+f'{family[j][0]:.0f} {family[j][1]:.0f} {family[j][2]:.0f}'+'}'\n",
    "    print(f'{i:3g}\\t {index} \\t  {distances[i]:.4f}  \\t {1/distances[i]*100:.0f} \\t {np.absolute(F[i]):4.2f} \\t  {indices[j+1]-indices[j]:3g} \\t {intensity[j]:.2f}') \n",
    "    #out_tags['reflections'+str(reflection)]={}\n",
    "    out_tags['reflections-'+str(reflection)+'-index'] = index\n",
    "    out_tags['reflections-'+str(reflection)+'-recip_distances'] = distances[i]\n",
    "    out_tags['reflections-'+str(reflection)+'-structure_factor'] = np.absolute(F[i])\n",
    "    out_tags['reflections-'+str(reflection)+'-multiplicity'] = indices[j+1]-indices[j]\n",
    "    out_tags['reflections-'+str(reflection)+'-intensity'] = intensity[j]\n",
    "    reflection +=1"
   ]
  },
  {
   "cell_type": "markdown",
   "metadata": {},
   "source": [
    "## Comparison\n",
    "Comparison between experimental profile and kinematic theory\n",
    "\n",
    "The grain size will have an influence on the width of the diffraction rings\""
   ]
  },
  {
   "cell_type": "code",
   "execution_count": null,
   "metadata": {},
   "outputs": [],
   "source": [
    "# -------Input of grain size ----\n",
    "first_peak_pixel = 100\n",
    "first_peak_reciprocal_distance = 0.4247\n",
    "pixel_size = first_peak_reciprocal_distance/first_peak_pixel\n",
    "resolution  = 0 # 1/nm\n",
    "thickness = 100 # Ang\n",
    "# -------------------------------\n",
    "\n",
    "print(f'Pixel size is {pixel_size:.5f} 1/Ang')\n",
    "from scipy import signal\n",
    "\n",
    "width = (1/thickness + resolution) / scale\n",
    "# scale = ft.get_slope(main_dataset.dim_0.values)  *1.085*1.0/10\n",
    "scale = pixel_size\n",
    "intensity2 = intensity/intensity.max()*10\n",
    "\n",
    "gauss = signal.windows.gaussian(len(profile), std=width)\n",
    "simulated_profile = np.zeros(len(profile))\n",
    "rec_dist = np.linspace(1,len(profile),len(profile))*pixel_size\n",
    "\n",
    "\n",
    "plt.figure()\n",
    "plt.plot(rec_dist,profile/profile.max()*150, color='blue', label='experiment');\n",
    "for j in range(len(unique)-1):\n",
    "    if unique[j] < len(profile)*scale:\n",
    "        # plot lines\n",
    "        plt.plot([unique[j],unique[j]], [0, intensity2[j]],c='r')\n",
    "        # plot indices\n",
    "        index = '{'+f'{family[j][0]:.0f} {family[j][1]:.0f} {family[j][2]:.0f}'+'}' # pretty index string\n",
    "        plt.text(unique[j],-3, index, horizontalalignment='center',\n",
    "              verticalalignment='top', rotation = 'vertical', fontsize=8, color = 'red')\n",
    "        \n",
    "        # place Gaussian with appropriate width in profile\n",
    "        g = np.roll(gauss,int(-len(profile)/2+unique[j]/scale))* intensity2[j]*10#rec_dist**2*10\n",
    "        simulated_profile = simulated_profile + g\n",
    "plt.plot(np.linspace(1,len(profile),len(profile))*scale,simulated_profile/50, label='simulated');\n",
    "plt.xlabel('angle (1/$\\AA$)')\n",
    "plt.legend()\n",
    "plt.ylim(-.5,10)\n"
   ]
  },
  {
   "cell_type": "markdown",
   "metadata": {},
   "source": [
    "## Publication Quality Output\n",
    "\n",
    "Now we have all the ingredients to make a publication quality plot of the data."
   ]
  },
  {
   "cell_type": "code",
   "execution_count": null,
   "metadata": {},
   "outputs": [],
   "source": [
    "from matplotlib import patches\n",
    "\n",
    "plot_profile = profile.copy()\n",
    "plot_profile[:first_peak_pixel-20] = 0\n",
    "fig = plt.figure(figsize=(9, 6)) \n",
    "\n",
    "extent= np.array([-center[0], diff_pattern.shape[0]-center[0],-diff_pattern.shape[1]+center[1], center[1]])*scale\n",
    "\n",
    "plt.imshow(np.log(3.+diff_pattern).T,cmap='gray', extent=(extent*1.0)) #, vmin=np.max(np.log2(1+diff_pattern))*0.5)\n",
    "plt.xlabel(r'reciprocal distance [nm$^{-1}$]')\n",
    "ax = fig.gca()\n",
    "#ax.add_artist(circle1);\n",
    "plt.plot(np.linspace(1,len(profile),len(profile))*scale,plot_profile/plot_profile.max(), color='y');\n",
    "plt.plot((0,len(profile)*scale),(0,0),c='r')\n",
    "\n",
    "for j in range(len(unique)-1):\n",
    "    i = indices[j]   \n",
    "    if distances[i] < len(profile)*scale:\n",
    "        plt.plot([distances[i],distances[i]], [0, intensity2[j]/20],c='r')\n",
    "        arc = patches.Arc((0,0), distances[i]*2, distances[i]*2, angle=90.0, theta1=0.0, theta2=270.0, color='r', fill= False, alpha = 0.5)#, **kwargs)\n",
    "        ax.add_artist(arc);\n",
    "plt.scatter(0,0);\n",
    "\n",
    "for i in range(6):\n",
    "    index = '{'+f'{family[i][0]:.0f} {family[i][1]:.0f} {family[i][2]:.0f}'+'}' # pretty index string\n",
    "    plt.text(unique[i],-0.05, index, horizontalalignment='center',\n",
    "             verticalalignment='top', rotation = 'vertical', fontsize=8, color = 'white')"
   ]
  },
  {
   "cell_type": "markdown",
   "metadata": {},
   "source": [
    "## Homework\n",
    "\n",
    "Determine the pixel_size and for two different indicated camera lengths!\n",
    "\n",
    "Submit one notebook with your diffraction pattern\n",
    "\n",
    "**Optional:**\n",
    "> Plot the indicated camera length over the pixel size!\n"
   ]
  },
  {
   "cell_type": "code",
   "execution_count": null,
   "metadata": {},
   "outputs": [],
   "source": []
  }
 ],
 "metadata": {
  "celltoolbar": "Raw Cell Format",
  "kernelspec": {
   "display_name": "Python 3 (ipykernel)",
   "language": "python",
   "name": "python3"
  },
  "language_info": {
   "codemirror_mode": {
    "name": "ipython",
    "version": 3
   },
   "file_extension": ".py",
   "mimetype": "text/x-python",
   "name": "python",
   "nbconvert_exporter": "python",
   "pygments_lexer": "ipython3",
   "version": "3.12.8"
  },
  "livereveal": {
   "height": 768,
   "theme": "sky",
   "transition": "zoom",
   "width": 1024
  },
  "toc": {
   "base_numbering": "4",
   "nav_menu": {},
   "number_sections": true,
   "sideBar": true,
   "skip_h1_title": false,
   "title_cell": "Table of Contents",
   "title_sidebar": "Contents",
   "toc_cell": false,
   "toc_position": {
    "height": "616px",
    "left": "1093px",
    "top": "168.133px",
    "width": "288px"
   },
   "toc_section_display": true,
   "toc_window_display": false
  }
 },
 "nbformat": 4,
 "nbformat_minor": 4
}
