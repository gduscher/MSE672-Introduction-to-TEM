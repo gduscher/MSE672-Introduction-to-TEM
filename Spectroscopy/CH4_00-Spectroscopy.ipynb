{
 "cells": [
  {
   "cell_type": "markdown",
   "metadata": {},
   "source": [
    "\n",
    "<font size = \"5\"> **Chapter 4: [Spectroscopy](Ch4-Spectroscopy.ipynb)** </font>\n",
    "\n",
    "\n",
    "<hr style=\"height:1px;border-top:4px solid #FF8200\" />\n",
    "\n",
    "\n",
    "part of \n",
    "\n",
    "<font size = \"5\"> **[MSE672:  Introduction to Transmission Electron Microscopy](../_MSE672_Intro_TEM.ipynb)**</font>\n",
    "\n",
    "by Gerd Duscher, Spring 2023\n",
    "\n",
    "Microscopy Facilities<br>\n",
    "Institute of Advanced Materials & Manufacturing<br>\n",
    "Materials Science & Engineering<br>\n",
    "The University of Tennessee, Knoxville\n",
    "\n",
    "Background and methods to analysis and quantification of data acquired with transmission electron microscopes.\n",
    "\n",
    "\n",
    "The Spectroscopy chapter has the following sections:\n",
    "\n",
    "## Electron Energy-Loss Spectrosocpy\n",
    "* [Introduction to EELS](CH4_01-Introduction.ipynb)\n",
    "\n",
    "**Low-Loss EELS**\n",
    "* [Fitting the Zero-Loss Peak](CH4_02-Fit_Zero_Loss.ipynb)\n",
    "* [Analysing Low-Loss Spectra with Drude Theory](CH4_03-Drude.ipynb)\n",
    "* [Momentum Resolved EELS](CH4_03-Dispersion.ipynb)\n",
    "* [Simulation of Momentum Resolved EELS](CH4_04-Kroeger.ipynb)\n",
    "* [Calculating Dielectric Function I: Aluminum](CH4-05-DielectricDFT.ipynb)\n",
    "* [Calculating Dielectric Function II: Silicon](CH4_06-DielectricDFT2.ipynb)\n",
    "\n",
    "**Core-Loss EELS**\n",
    "* [Introduction to Core-Loss Spectroscopy](CH4_07-Introduction_Core_Loss.ipynb)\n",
    "* [Chemical Composition](CH4_08-Chemical_Composition.ipynb)\n",
    "* [Analysing Core-Loss Spectra](CH4_09-Analyse_Core_Loss.ipynb)\n",
    "* [Electron Energy-Loss Near-Edge Structure](CH4_10-ELNES.ipynb)\n",
    "\n",
    "## Energy Dispersive X-Ray Spectroscopy\n",
    "\n",
    "    \n",
    "* [Introduction to X-Ray](CH4_12-Introduction_X_Rays.ipynb)\n",
    "* [Bremsstrahlung](CH4_13-Bremsstrahlung.ipynb)\n",
    "* [Characteristic X-Rays](CH4_14-Characteristic_X_Rays.ipynb)\n",
    "* [Detector Response](CH4_15-Detector.ipynb)\n",
    "* [Analyze Spectrum](CH4_16-Analyze_Spectrum.ipynb)\n",
    "* [Quantify Spectrum](CH4_17-Quantify_Spectrum)\n"
   ]
  },
  {
   "cell_type": "markdown",
   "metadata": {},
   "source": [
    "## Navigation\n",
    "- <font size = \"3\">  **Back:  Chapter 3: [Imaging](Imaging.ipynb)** </font>\n",
    "- <font size = \"3\">  **List of Content: [Front](../_MSE672_Intro_TEM.ipynb)** </font>\n"
   ]
  },
  {
   "cell_type": "code",
   "execution_count": null,
   "metadata": {},
   "outputs": [],
   "source": []
  }
 ],
 "metadata": {
  "kernelspec": {
   "display_name": "Python 3 (ipykernel)",
   "language": "python",
   "name": "python3"
  },
  "language_info": {
   "codemirror_mode": {
    "name": "ipython",
    "version": 3
   },
   "file_extension": ".py",
   "mimetype": "text/x-python",
   "name": "python",
   "nbconvert_exporter": "python",
   "pygments_lexer": "ipython3",
   "version": "3.11.0"
  },
  "toc": {
   "base_numbering": 1,
   "nav_menu": {},
   "number_sections": true,
   "sideBar": true,
   "skip_h1_title": false,
   "title_cell": "Table of Contents",
   "title_sidebar": "Contents",
   "toc_cell": false,
   "toc_position": {},
   "toc_section_display": true,
   "toc_window_display": false
  }
 },
 "nbformat": 4,
 "nbformat_minor": 2
}
