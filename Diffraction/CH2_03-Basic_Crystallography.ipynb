{
 "cells": [
  {
   "cell_type": "markdown",
   "metadata": {},
   "source": [
    "\n",
    "<font size = \"5\"> **Chapter 2: [Diffraction](CH2_00-Diffraction.ipynb)** </font>\n",
    "\n",
    "<hr style=\"height:1px;border-top:4px solid #FF8200\" />\n",
    "\n",
    "# Basic Crystallography\n",
    "[Download](https://raw.githubusercontent.com/gduscher/MSE672-Introduction-to-TEM//main/Diffraction/CH2_03-Basic_Crystallography.ipynb)\n",
    " \n",
    "[![OpenInColab](https://colab.research.google.com/assets/colab-badge.svg)](\n",
    "    https://colab.research.google.com/github/gduscher/MSE672-Introduction-to-TEM/blob/main//Diffraction/CH2_03-Basic_Crystallography.ipynb)\n",
    " \n",
    "part of\n",
    "\n",
    "<font size = \"5\"> **[MSE672:  Introduction to Transmission Electron Microscopy](../_MSE672_Intro_TEM.ipynb)**</font>\n",
    "\n",
    "**Spring 2025**<br>\n",
    "by Gerd Duscher\n",
    "\n",
    "Microscopy Facilities<br>\n",
    "Institute of Advanced Materials & Manufacturing<br>\n",
    "Materials Science & Engineering<br>\n",
    "The University of Tennessee, Knoxville\n",
    "\n",
    "Background and methods to analysis and quantification of data acquired with transmission electron microscopes.\n",
    "\n"
   ]
  },
  {
   "cell_type": "markdown",
   "metadata": {
    "slideshow": {
     "slide_type": "slide"
    }
   },
   "source": [
    "## Load relevant python packages\n",
    "### Check Installed Packages"
   ]
  },
  {
   "cell_type": "code",
   "execution_count": null,
   "metadata": {},
   "outputs": [],
   "source": [
    "import sys\n",
    "import importlib.metadata\n",
    "def test_package(package_name):\n",
    "    \"\"\"Test if package exists and returns version or -1\"\"\"\n",
    "    try:\n",
    "        version = importlib.metadata.version(package_name)\n",
    "    except importlib.metadata.PackageNotFoundError:\n",
    "        version = '-1'\n",
    "    return version\n",
    "\n",
    "if test_package('pyTEMlib') < '0.2024.1.0':\n",
    "    print('installing pyTEMlib')\n",
    "    !{sys.executable} -m pip install  --upgrade pyTEMlib -q\n",
    "print('done')"
   ]
  },
  {
   "cell_type": "markdown",
   "metadata": {
    "slideshow": {
     "slide_type": "slide"
    }
   },
   "source": [
    "### Load the plotting and figure packages\n",
    "Import the python packages that we will use:\n",
    "\n",
    "Beside the basic numerical (numpy) and plotting (pylab of matplotlib) libraries,\n",
    "* three dimensional plotting\n",
    "and some libraries from the book\n",
    "* kinematic scattering library."
   ]
  },
  {
   "cell_type": "code",
   "execution_count": 10,
   "metadata": {
    "slideshow": {
     "slide_type": "-"
    }
   },
   "outputs": [
    {
     "name": "stdout",
     "output_type": "stream",
     "text": [
      "pyTEM version:  0.2024.09.0\n"
     ]
    }
   ],
   "source": [
    "%matplotlib widget\n",
    "import matplotlib.pylab as plt\n",
    "import numpy as np\n",
    "import sys\n",
    "if 'google.colab' in sys.modules:\n",
    "    from google.colab import output\n",
    "    output.enable_custom_widget_manager()\n",
    "    \n",
    "# 3D plotting package \n",
    "from mpl_toolkits.mplot3d import Axes3D # 3D plotting\n",
    "\n",
    "import ase\n",
    "\n",
    "# Import libraries from the pyTEMlib\n",
    "import pyTEMlib\n",
    "import pyTEMlib.kinematic_scattering as ks         # kinematic scattering Library\n",
    "                             # with atomic form factors from Kirkland's book\n",
    "# it is a good idea to show the version numbers at this point for archiving reasons.\n",
    "print('pyTEM version: ',pyTEMlib.__version__)"
   ]
  },
  {
   "cell_type": "markdown",
   "metadata": {
    "slideshow": {
     "slide_type": "slide"
    }
   },
   "source": [
    "\n",
    "## Define  Crystal\n",
    "\n",
    "A crystal is well defined by its unit cell and the atom positions within, the so called base.\n",
    "The base consists of which element sits where within the unit cell\n",
    "\n",
    "\n",
    "The unit cell fills the volume completely when translated in all three directions. Placing the unit cell in a global carthesian coordination system, we need the length of the sides and their angles for a complete description. This is depicted in the graph below.\n",
    "![unitcell_angles](images/unit_cell_angles.png)\n",
    "\n",
    "Figure taken from the wikipedia page on lattice constants.\n",
    "\n",
    "Mathematically it is more advantageous to describe the unit cell as matrix, the\n",
    "### Structure Matrix\n",
    "\n",
    "This matrix consists of rows of vectors that span the unit cell:\n",
    "$\\begin{bmatrix}\n",
    "  a_1 & a_2 & a_3 \\\\\n",
    "  b_1 & b_2 & b_3 \\\\\n",
    "  c_1 & c_2 & c_3 \\\\\n",
    "\\end{bmatrix} =\\left[\\vec{a},\\vec{b},\\vec{c}\\right]$.\n",
    "\n",
    "This structure matrix is also used to describe the super cells in materials simulations for example density functional theory.\n",
    "\n",
    "The representation of unit cells as structure matrices allows also for easy conversions as we will see in the following.\n"
   ]
  },
  {
   "cell_type": "code",
   "execution_count": null,
   "metadata": {
    "slideshow": {
     "slide_type": "-"
    }
   },
   "outputs": [],
   "source": [
    "# Create graphite unit cell (or structure matrix)\n",
    "a = b = 2.46  # Angstrom\n",
    "c = 6.71  # Angstrom\n",
    "gamma = 120\n",
    "alpha = beta = 90\n",
    "\n",
    "## Create the structure matrix for a hexagonal system explicitly:\n",
    "structure_matrix = np.array([[a,0.,0.],  ## also called the structure matrix\n",
    "                    [np.cos(np.radians(gamma))*a,np.sin(np.radians(gamma))*a,0. ],\n",
    "                     [0.,0.,c]\n",
    "                    ])\n",
    "print('structure matrix \\n', np.round(structure_matrix,3))\n",
    "\n",
    "elements = ['C']*4\n",
    "base = [[0, 0, 0], [0, 0, 1/2], [1/3, 2/3, 0], [2/3, 1/3, 1/2]]\n",
    "print('elements:', elements)\n",
    "print('base \\n',np.round(base,3))"
   ]
  },
  {
   "cell_type": "markdown",
   "metadata": {},
   "source": [
    "### Store Information in [ASE (atomic simulation environment)](https://wiki.fysik.dtu.dk/ase/) format"
   ]
  },
  {
   "cell_type": "code",
   "execution_count": 11,
   "metadata": {},
   "outputs": [
    {
     "data": {
      "text/plain": [
       "Atoms(symbols='C4', pbc=False, cell=[[2.46, 0.0, 0.0], [-1.2299999999999995, 2.130422493309719, 0.0], [0.0, 0.0, 6.71]])"
      ]
     },
     "execution_count": 11,
     "metadata": {},
     "output_type": "execute_result"
    }
   ],
   "source": [
    "atoms = ase.Atoms(elements, cell=structure_matrix, scaled_positions=base)\n",
    "atoms"
   ]
  },
  {
   "cell_type": "markdown",
   "metadata": {},
   "source": [
    "We can retrieve the information stored"
   ]
  },
  {
   "cell_type": "code",
   "execution_count": 12,
   "metadata": {},
   "outputs": [
    {
     "name": "stdout",
     "output_type": "stream",
     "text": [
      "structure matrix [nm]\n",
      " [[ 2.46  0.    0.  ]\n",
      " [-1.23  2.13  0.  ]\n",
      " [ 0.    0.    6.71]]\n",
      "elements \n",
      " C4\n",
      "base \n",
      " [[0.    0.    0.   ]\n",
      " [0.    0.    0.5  ]\n",
      " [0.333 0.667 0.   ]\n",
      " [0.667 0.333 0.5  ]]\n"
     ]
    }
   ],
   "source": [
    "print('structure matrix [nm]\\n',np.round(atoms.cell.array,3))\n",
    "print('elements \\n',atoms.get_chemical_formula())\n",
    "print('base \\n',np.round(atoms.get_scaled_positions(), 3))"
   ]
  },
  {
   "cell_type": "markdown",
   "metadata": {},
   "source": [
    "A convenient function is provided by the kinematic_scttering library (loaded with name ks)"
   ]
  },
  {
   "cell_type": "code",
   "execution_count": 13,
   "metadata": {},
   "outputs": [
    {
     "data": {
      "text/plain": [
       "(Cell([[2.46772414, 0.0, 0.0], [-1.2338620699999996, 2.1371117947721068, 0.0], [0.0, 0.0, 6.711]]),\n",
       " array([[0.00000000e+00, 0.00000000e+00, 0.00000000e+00],\n",
       "        [0.00000000e+00, 0.00000000e+00, 3.35550000e+00],\n",
       "        [1.23386207e+00, 7.12370598e-01, 0.00000000e+00],\n",
       "        [3.04714108e-16, 1.42474120e+00, 3.35550000e+00]]))"
      ]
     },
     "execution_count": 13,
     "metadata": {},
     "output_type": "execute_result"
    }
   ],
   "source": [
    "atoms = ks.structure_by_name('Graphite')\n",
    "atoms.cell, atoms.positions"
   ]
  },
  {
   "cell_type": "markdown",
   "metadata": {},
   "source": [
    "### Volume of Unit Cell\n",
    "We will need the volume of the unit cell  for unit conversions later.\n",
    "\n",
    "Volume of the parallelepiped (https://en.wikipedia.org/wiki/Triple_product) : \n",
    "$\\vec{a} \\cdot \\vec{b} \\times \\vec{c} =  \\det \\begin{bmatrix}\n",
    "  a_1 & a_2 & a_3 \\\\\n",
    "  b_1 & b_2 & b_3 \\\\\n",
    "  c_1 & c_2 & c_3 \\\\\n",
    "\\end{bmatrix} ={\\rm det}\\left(\\vec{a},\\vec{b},\\vec{c}\\right)$\n",
    "\n",
    "We see that the structure matrix comes in handy for that calculation."
   ]
  },
  {
   "cell_type": "code",
   "execution_count": 14,
   "metadata": {},
   "outputs": [
    {
     "name": "stdout",
     "output_type": "stream",
     "text": [
      "volume of unit cell: 35.1660 Ang^3\n"
     ]
    }
   ],
   "source": [
    "volume = v = np.linalg.det(structure_matrix)\n",
    "print(f\"volume of unit cell: {volume:.4f} Ang^3\")"
   ]
  },
  {
   "cell_type": "markdown",
   "metadata": {},
   "source": [
    "The same procedure is provided by ase"
   ]
  },
  {
   "cell_type": "code",
   "execution_count": null,
   "metadata": {},
   "outputs": [],
   "source": [
    "print(f\"volume of unit cell: {atoms.cell.volume:.4f} Ang^3\")"
   ]
  },
  {
   "cell_type": "markdown",
   "metadata": {},
   "source": [
    "### Vector Algebra in Unit Cell \n",
    "We will use the linear algebra package of numpy (np.linalg) for our vector calculations.\n",
    "\n",
    "The length of a vector is called its norm.\n",
    "\n",
    "And the angle between two vectors is calculated by the dot product: $\\vec{a} \\cdot \\vec{b} = \\left\\| \\vec{a} \\right\\| \\left\\| \\vec{b} \\right\\| \\cos (\\theta) $\n",
    "\n",
    "> Note that python starts couting at 0 and so the second vector has index 1"
   ]
  },
  {
   "cell_type": "code",
   "execution_count": 15,
   "metadata": {},
   "outputs": [
    {
     "name": "stdout",
     "output_type": "stream",
     "text": [
      "length of second unit cell vector is 2.460 Ang\n",
      "angle between a and b is 120.0 degree\n"
     ]
    }
   ],
   "source": [
    "length_b = np.linalg.norm(structure_matrix[1])\n",
    "print(f'length of second unit cell vector is {length_b:.3f} Ang' ) \n",
    "\n",
    "gamma = np.arccos(np.dot(structure_matrix[0]/length_b, structure_matrix[1]/length_b))\n",
    "print(f'angle between a and b is {np.degrees(gamma):.1f} degree')"
   ]
  },
  {
   "cell_type": "markdown",
   "metadata": {
    "slideshow": {
     "slide_type": "slide"
    }
   },
   "source": [
    "### Plot the unit cell\n",
    "\n",
    "We use the visualization library of ase to plot structures."
   ]
  },
  {
   "cell_type": "code",
   "execution_count": 18,
   "metadata": {},
   "outputs": [
    {
     "data": {
      "text/plain": [
       "<Axes: >"
      ]
     },
     "execution_count": 18,
     "metadata": {},
     "output_type": "execute_result"
    }
   ],
   "source": [
    "from ase.visualize.plot import plot_atoms\n",
    "\n",
    "plot_atoms(atoms, radii=0.3, rotation=('0x,1y,0z'))\n"
   ]
  },
  {
   "cell_type": "code",
   "execution_count": 19,
   "metadata": {},
   "outputs": [
    {
     "data": {
      "text/plain": [
       "<Popen: returncode: None args: ['C:\\\\Users\\\\gduscher\\\\AppData\\\\Local\\\\anacon...>"
      ]
     },
     "execution_count": 19,
     "metadata": {},
     "output_type": "execute_result"
    }
   ],
   "source": [
    "# This does not work in Google Colab\n",
    "\n",
    "from ase.visualize import view\n",
    "view(atoms*(4,4,1))"
   ]
  },
  {
   "cell_type": "code",
   "execution_count": 20,
   "metadata": {},
   "outputs": [
    {
     "data": {
      "text/html": [
       "<html>\n",
       "    <head>\n",
       "        <title>ASE atomic visualization</title>\n",
       "        <link rel=\"stylesheet\" type=\"text/css\"             href=\"https://www.x3dom.org/release/x3dom.css\"></link>\n",
       "        <script type=\"text/javascript\"             src=\"https://www.x3dom.org/release/x3dom.js\"></script>\n",
       "    </head>\n",
       "    <body>\n",
       "        <X3D width=\"400px\"; height=\"300px\";>\n",
       "\n",
       "<!--Inserting Generated X3D Scene-->\n",
       "<scene>\n",
       "  <viewpoint position=\"0 0 22.20951726\">\n",
       "    <group/>\n",
       "  </viewpoint>\n",
       "  <transform translation=\"-3.7015862100000003 -3.20566769215816 -3.3555\">\n",
       "    <group>\n",
       "      <group>\n",
       "        <transform translation=\"0 0 0\">\n",
       "          <shape>\n",
       "            <appearance>\n",
       "              <material diffuseColor=\"0 0 0\"/>\n",
       "            </appearance>\n",
       "            <lineset vertexCount=\"5\">\n",
       "              <coordinate point=\"0 0 0 7.403172420000001 0.0 0.0 3.701586210000002 6.41133538431632 0.0 -3.7015862099999985 6.41133538431632 0.0 0 0 0\"/>\n",
       "            </lineset>\n",
       "          </shape>\n",
       "        </transform>\n",
       "        <transform translation=\"0.0 0.0 6.711\">\n",
       "          <shape>\n",
       "            <appearance>\n",
       "              <material diffuseColor=\"0 0 0\"/>\n",
       "            </appearance>\n",
       "            <lineset vertexCount=\"5\">\n",
       "              <coordinate point=\"0 0 0 7.403172420000001 0.0 0.0 3.701586210000002 6.41133538431632 0.0 -3.7015862099999985 6.41133538431632 0.0 0 0 0\"/>\n",
       "            </lineset>\n",
       "          </shape>\n",
       "        </transform>\n",
       "        <transform translation=\"0 0 0\">\n",
       "          <shape>\n",
       "            <appearance>\n",
       "              <material diffuseColor=\"0 0 0\"/>\n",
       "            </appearance>\n",
       "            <lineset vertexCount=\"5\">\n",
       "              <coordinate point=\"0 0 0 7.403172420000001 0.0 0.0 7.403172420000001 0.0 6.711 0.0 0.0 6.711 0 0 0\"/>\n",
       "            </lineset>\n",
       "          </shape>\n",
       "        </transform>\n",
       "        <transform translation=\"-3.7015862099999985 6.41133538431632 0.0\">\n",
       "          <shape>\n",
       "            <appearance>\n",
       "              <material diffuseColor=\"0 0 0\"/>\n",
       "            </appearance>\n",
       "            <lineset vertexCount=\"5\">\n",
       "              <coordinate point=\"0 0 0 7.403172420000001 0.0 0.0 7.403172420000001 0.0 6.711 0.0 0.0 6.711 0 0 0\"/>\n",
       "            </lineset>\n",
       "          </shape>\n",
       "        </transform>\n",
       "      </group>\n",
       "      <group>\n",
       "        <transform translation=\"0.0 0.0 0.0\">\n",
       "          <shape>\n",
       "            <appearance>\n",
       "              <material diffuseColor=\"0.565 0.565 0.565\"/>\n",
       "            </appearance>\n",
       "            <sphere radius=\"0.76\"/>\n",
       "          </shape>\n",
       "        </transform>\n",
       "        <transform translation=\"0.0 0.0 3.3555\">\n",
       "          <shape>\n",
       "            <appearance>\n",
       "              <material diffuseColor=\"0.565 0.565 0.565\"/>\n",
       "            </appearance>\n",
       "            <sphere radius=\"0.76\"/>\n",
       "          </shape>\n",
       "        </transform>\n",
       "        <transform translation=\"1.23386207 0.7123705982573689 0.0\">\n",
       "          <shape>\n",
       "            <appearance>\n",
       "              <material diffuseColor=\"0.565 0.565 0.565\"/>\n",
       "            </appearance>\n",
       "            <sphere radius=\"0.76\"/>\n",
       "          </shape>\n",
       "        </transform>\n",
       "        <transform translation=\"3.0471410839005837e-16 1.4247411965147379 3.3555\">\n",
       "          <shape>\n",
       "            <appearance>\n",
       "              <material diffuseColor=\"0.565 0.565 0.565\"/>\n",
       "            </appearance>\n",
       "            <sphere radius=\"0.76\"/>\n",
       "          </shape>\n",
       "        </transform>\n",
       "        <transform translation=\"-1.2338620699999996 2.1371117947721068 0.0\">\n",
       "          <shape>\n",
       "            <appearance>\n",
       "              <material diffuseColor=\"0.565 0.565 0.565\"/>\n",
       "            </appearance>\n",
       "            <sphere radius=\"0.76\"/>\n",
       "          </shape>\n",
       "        </transform>\n",
       "        <transform translation=\"-1.2338620699999996 2.1371117947721068 3.3555\">\n",
       "          <shape>\n",
       "            <appearance>\n",
       "              <material diffuseColor=\"0.565 0.565 0.565\"/>\n",
       "            </appearance>\n",
       "            <sphere radius=\"0.76\"/>\n",
       "          </shape>\n",
       "        </transform>\n",
       "        <transform translation=\"4.440892098500626e-16 2.8494823930294757 0.0\">\n",
       "          <shape>\n",
       "            <appearance>\n",
       "              <material diffuseColor=\"0.565 0.565 0.565\"/>\n",
       "            </appearance>\n",
       "            <sphere radius=\"0.76\"/>\n",
       "          </shape>\n",
       "        </transform>\n",
       "        <transform translation=\"-1.2338620699999994 3.5618529912868446 3.3555\">\n",
       "          <shape>\n",
       "            <appearance>\n",
       "              <material diffuseColor=\"0.565 0.565 0.565\"/>\n",
       "            </appearance>\n",
       "            <sphere radius=\"0.76\"/>\n",
       "          </shape>\n",
       "        </transform>\n",
       "        <transform translation=\"-2.467724139999999 4.2742235895442136 0.0\">\n",
       "          <shape>\n",
       "            <appearance>\n",
       "              <material diffuseColor=\"0.565 0.565 0.565\"/>\n",
       "            </appearance>\n",
       "            <sphere radius=\"0.76\"/>\n",
       "          </shape>\n",
       "        </transform>\n",
       "        <transform translation=\"-2.467724139999999 4.2742235895442136 3.3555\">\n",
       "          <shape>\n",
       "            <appearance>\n",
       "              <material diffuseColor=\"0.565 0.565 0.565\"/>\n",
       "            </appearance>\n",
       "            <sphere radius=\"0.76\"/>\n",
       "          </shape>\n",
       "        </transform>\n",
       "        <transform translation=\"-1.2338620699999991 4.9865941878015825 0.0\">\n",
       "          <shape>\n",
       "            <appearance>\n",
       "              <material diffuseColor=\"0.565 0.565 0.565\"/>\n",
       "            </appearance>\n",
       "            <sphere radius=\"0.76\"/>\n",
       "          </shape>\n",
       "        </transform>\n",
       "        <transform translation=\"-2.4677241399999987 5.698964786058951 3.3555\">\n",
       "          <shape>\n",
       "            <appearance>\n",
       "              <material diffuseColor=\"0.565 0.565 0.565\"/>\n",
       "            </appearance>\n",
       "            <sphere radius=\"0.76\"/>\n",
       "          </shape>\n",
       "        </transform>\n",
       "        <transform translation=\"2.46772414 0.0 0.0\">\n",
       "          <shape>\n",
       "            <appearance>\n",
       "              <material diffuseColor=\"0.565 0.565 0.565\"/>\n",
       "            </appearance>\n",
       "            <sphere radius=\"0.76\"/>\n",
       "          </shape>\n",
       "        </transform>\n",
       "        <transform translation=\"2.46772414 0.0 3.3555\">\n",
       "          <shape>\n",
       "            <appearance>\n",
       "              <material diffuseColor=\"0.565 0.565 0.565\"/>\n",
       "            </appearance>\n",
       "            <sphere radius=\"0.76\"/>\n",
       "          </shape>\n",
       "        </transform>\n",
       "        <transform translation=\"3.7015862100000003 0.7123705982573689 0.0\">\n",
       "          <shape>\n",
       "            <appearance>\n",
       "              <material diffuseColor=\"0.565 0.565 0.565\"/>\n",
       "            </appearance>\n",
       "            <sphere radius=\"0.76\"/>\n",
       "          </shape>\n",
       "        </transform>\n",
       "        <transform translation=\"2.4677241400000005 1.4247411965147379 3.3555\">\n",
       "          <shape>\n",
       "            <appearance>\n",
       "              <material diffuseColor=\"0.565 0.565 0.565\"/>\n",
       "            </appearance>\n",
       "            <sphere radius=\"0.76\"/>\n",
       "          </shape>\n",
       "        </transform>\n",
       "        <transform translation=\"1.2338620700000005 2.1371117947721068 0.0\">\n",
       "          <shape>\n",
       "            <appearance>\n",
       "              <material diffuseColor=\"0.565 0.565 0.565\"/>\n",
       "            </appearance>\n",
       "            <sphere radius=\"0.76\"/>\n",
       "          </shape>\n",
       "        </transform>\n",
       "        <transform translation=\"1.2338620700000005 2.1371117947721068 3.3555\">\n",
       "          <shape>\n",
       "            <appearance>\n",
       "              <material diffuseColor=\"0.565 0.565 0.565\"/>\n",
       "            </appearance>\n",
       "            <sphere radius=\"0.76\"/>\n",
       "          </shape>\n",
       "        </transform>\n",
       "        <transform translation=\"2.4677241400000005 2.8494823930294757 0.0\">\n",
       "          <shape>\n",
       "            <appearance>\n",
       "              <material diffuseColor=\"0.565 0.565 0.565\"/>\n",
       "            </appearance>\n",
       "            <sphere radius=\"0.76\"/>\n",
       "          </shape>\n",
       "        </transform>\n",
       "        <transform translation=\"1.2338620700000007 3.5618529912868446 3.3555\">\n",
       "          <shape>\n",
       "            <appearance>\n",
       "              <material diffuseColor=\"0.565 0.565 0.565\"/>\n",
       "            </appearance>\n",
       "            <sphere radius=\"0.76\"/>\n",
       "          </shape>\n",
       "        </transform>\n",
       "        <transform translation=\"8.881784197001252e-16 4.2742235895442136 0.0\">\n",
       "          <shape>\n",
       "            <appearance>\n",
       "              <material diffuseColor=\"0.565 0.565 0.565\"/>\n",
       "            </appearance>\n",
       "            <sphere radius=\"0.76\"/>\n",
       "          </shape>\n",
       "        </transform>\n",
       "        <transform translation=\"8.881784197001252e-16 4.2742235895442136 3.3555\">\n",
       "          <shape>\n",
       "            <appearance>\n",
       "              <material diffuseColor=\"0.565 0.565 0.565\"/>\n",
       "            </appearance>\n",
       "            <sphere radius=\"0.76\"/>\n",
       "          </shape>\n",
       "        </transform>\n",
       "        <transform translation=\"1.233862070000001 4.9865941878015825 0.0\">\n",
       "          <shape>\n",
       "            <appearance>\n",
       "              <material diffuseColor=\"0.565 0.565 0.565\"/>\n",
       "            </appearance>\n",
       "            <sphere radius=\"0.76\"/>\n",
       "          </shape>\n",
       "        </transform>\n",
       "        <transform translation=\"1.1928925280901836e-15 5.698964786058951 3.3555\">\n",
       "          <shape>\n",
       "            <appearance>\n",
       "              <material diffuseColor=\"0.565 0.565 0.565\"/>\n",
       "            </appearance>\n",
       "            <sphere radius=\"0.76\"/>\n",
       "          </shape>\n",
       "        </transform>\n",
       "        <transform translation=\"4.93544828 0.0 0.0\">\n",
       "          <shape>\n",
       "            <appearance>\n",
       "              <material diffuseColor=\"0.565 0.565 0.565\"/>\n",
       "            </appearance>\n",
       "            <sphere radius=\"0.76\"/>\n",
       "          </shape>\n",
       "        </transform>\n",
       "        <transform translation=\"4.93544828 0.0 3.3555\">\n",
       "          <shape>\n",
       "            <appearance>\n",
       "              <material diffuseColor=\"0.565 0.565 0.565\"/>\n",
       "            </appearance>\n",
       "            <sphere radius=\"0.76\"/>\n",
       "          </shape>\n",
       "        </transform>\n",
       "        <transform translation=\"6.16931035 0.7123705982573689 0.0\">\n",
       "          <shape>\n",
       "            <appearance>\n",
       "              <material diffuseColor=\"0.565 0.565 0.565\"/>\n",
       "            </appearance>\n",
       "            <sphere radius=\"0.76\"/>\n",
       "          </shape>\n",
       "        </transform>\n",
       "        <transform translation=\"4.93544828 1.4247411965147379 3.3555\">\n",
       "          <shape>\n",
       "            <appearance>\n",
       "              <material diffuseColor=\"0.565 0.565 0.565\"/>\n",
       "            </appearance>\n",
       "            <sphere radius=\"0.76\"/>\n",
       "          </shape>\n",
       "        </transform>\n",
       "        <transform translation=\"3.7015862100000003 2.1371117947721068 0.0\">\n",
       "          <shape>\n",
       "            <appearance>\n",
       "              <material diffuseColor=\"0.565 0.565 0.565\"/>\n",
       "            </appearance>\n",
       "            <sphere radius=\"0.76\"/>\n",
       "          </shape>\n",
       "        </transform>\n",
       "        <transform translation=\"3.7015862100000003 2.1371117947721068 3.3555\">\n",
       "          <shape>\n",
       "            <appearance>\n",
       "              <material diffuseColor=\"0.565 0.565 0.565\"/>\n",
       "            </appearance>\n",
       "            <sphere radius=\"0.76\"/>\n",
       "          </shape>\n",
       "        </transform>\n",
       "        <transform translation=\"4.93544828 2.8494823930294757 0.0\">\n",
       "          <shape>\n",
       "            <appearance>\n",
       "              <material diffuseColor=\"0.565 0.565 0.565\"/>\n",
       "            </appearance>\n",
       "            <sphere radius=\"0.76\"/>\n",
       "          </shape>\n",
       "        </transform>\n",
       "        <transform translation=\"3.7015862100000008 3.5618529912868446 3.3555\">\n",
       "          <shape>\n",
       "            <appearance>\n",
       "              <material diffuseColor=\"0.565 0.565 0.565\"/>\n",
       "            </appearance>\n",
       "            <sphere radius=\"0.76\"/>\n",
       "          </shape>\n",
       "        </transform>\n",
       "        <transform translation=\"2.467724140000001 4.2742235895442136 0.0\">\n",
       "          <shape>\n",
       "            <appearance>\n",
       "              <material diffuseColor=\"0.565 0.565 0.565\"/>\n",
       "            </appearance>\n",
       "            <sphere radius=\"0.76\"/>\n",
       "          </shape>\n",
       "        </transform>\n",
       "        <transform translation=\"2.467724140000001 4.2742235895442136 3.3555\">\n",
       "          <shape>\n",
       "            <appearance>\n",
       "              <material diffuseColor=\"0.565 0.565 0.565\"/>\n",
       "            </appearance>\n",
       "            <sphere radius=\"0.76\"/>\n",
       "          </shape>\n",
       "        </transform>\n",
       "        <transform translation=\"3.701586210000001 4.9865941878015825 0.0\">\n",
       "          <shape>\n",
       "            <appearance>\n",
       "              <material diffuseColor=\"0.565 0.565 0.565\"/>\n",
       "            </appearance>\n",
       "            <sphere radius=\"0.76\"/>\n",
       "          </shape>\n",
       "        </transform>\n",
       "        <transform translation=\"2.4677241400000014 5.698964786058951 3.3555\">\n",
       "          <shape>\n",
       "            <appearance>\n",
       "              <material diffuseColor=\"0.565 0.565 0.565\"/>\n",
       "            </appearance>\n",
       "            <sphere radius=\"0.76\"/>\n",
       "          </shape>\n",
       "        </transform>\n",
       "      </group>\n",
       "    </group>\n",
       "  </transform>\n",
       "</scene>\n",
       "<!--End of Inserted Scene-->\n",
       "\n",
       "        </X3D>\n",
       "    </body>\n",
       "</html>\n",
       "\n"
      ],
      "text/plain": [
       "<IPython.core.display.HTML object>"
      ]
     },
     "execution_count": 20,
     "metadata": {},
     "output_type": "execute_result"
    }
   ],
   "source": [
    "from ase.visualize import view\n",
    "view(atoms*(3,3,1), viewer = 'x3d')"
   ]
  },
  {
   "cell_type": "markdown",
   "metadata": {},
   "source": [
    "## Reciprocal Lattice \n",
    "The unit cell in reciprocal space"
   ]
  },
  {
   "cell_type": "code",
   "execution_count": 21,
   "metadata": {},
   "outputs": [
    {
     "name": "stdout",
     "output_type": "stream",
     "text": [
      "reciprocal lattice [1/Ang.]:\n",
      "[[0.4052 0.234  0.    ]\n",
      " [0.     0.4679 0.    ]\n",
      " [0.     0.     0.149 ]]\n"
     ]
    }
   ],
   "source": [
    "reciprocal_lattice = np.linalg.inv(atoms.cell.array).T # transposed of inverted unit_cell\n",
    "\n",
    "print('reciprocal lattice [1/Ang.]:')\n",
    "print(np.round(reciprocal_lattice,4))"
   ]
  },
  {
   "cell_type": "markdown",
   "metadata": {},
   "source": [
    "The same function is provided in ase package of Cell."
   ]
  },
  {
   "cell_type": "code",
   "execution_count": 22,
   "metadata": {},
   "outputs": [
    {
     "name": "stdout",
     "output_type": "stream",
     "text": [
      "reciprocal lattice [1/Ang.]:\n",
      "[[ 0.4052  0.234   0.    ]\n",
      " [-0.      0.4679  0.    ]\n",
      " [ 0.      0.      0.149 ]]\n"
     ]
    }
   ],
   "source": [
    "print('reciprocal lattice [1/Ang.]:')\n",
    "print(np.round(atoms.cell.reciprocal(),4))"
   ]
  },
  {
   "cell_type": "markdown",
   "metadata": {},
   "source": [
    "### Reciprocal Lattice Vectors\n",
    "From your crystallography book and lecture you are probably used to the following expression for the reciprocal lattice vectors ($\\vec{a}^*, \\vec{b}^*, \\vec{c}^*$)\n",
    "\n",
    "$ \\begin{align}\n",
    "  \\vec{a}^* &=  \\frac{\\vec{b} \\times \\vec{c}}{\\vec{a} \\cdot \\left(\\vec{b} \\times \\vec{c}\\right)} \\\\\n",
    "  \\vec{b}^* &=  \\frac{\\vec{c} \\times \\vec{a}}{\\vec{b} \\cdot \\left(\\vec{c} \\times \\vec{a}\\right)} \\\\\n",
    "  \\vec{c}^* &=  \\frac{\\vec{a} \\times \\vec{b}}{\\vec{c} \\cdot \\left(\\vec{a} \\times \\vec{b}\\right)}\n",
    "\\end{align}$\\\n",
    "\n",
    "Where we see that the denominators of the above vector equations are the volume of the unit cell.\n",
    "\n",
    "In physics book, you will see an additional factor of 2$\\pi$, which is generally omitted in materials science and microscopy."
   ]
  },
  {
   "cell_type": "code",
   "execution_count": 23,
   "metadata": {},
   "outputs": [
    {
     "name": "stdout",
     "output_type": "stream",
     "text": [
      "[ 0.405  0.234 -0.   ]\n",
      "[0.    0.468 0.   ]\n",
      "[ 0.    -0.     0.149]\n",
      "Compare to:\n",
      "[[0.405 0.234 0.   ]\n",
      " [0.    0.468 0.   ]\n",
      " [0.    0.    0.149]]\n"
     ]
    }
   ],
   "source": [
    "## Now let's test whether this is really equivalent to the matrix expression above.\n",
    "a,b,c = atoms.cell\n",
    "\n",
    "a_recip = np.cross(b, c)/np.dot(a, np.cross(b, c))\n",
    "print (np.round(a_recip, 3))\n",
    "b_recip = np.cross(c, a)/np.dot(a, np.cross(b, c))\n",
    "print (np.round(b_recip, 3))\n",
    "c_recip = np.cross(a, b)/np.dot(a, np.cross(b, c))\n",
    "print (np.round(c_recip, 3))\n",
    "\n",
    "print('Compare to:')\n",
    "print(np.round(reciprocal_lattice, 3))"
   ]
  },
  {
   "cell_type": "markdown",
   "metadata": {},
   "source": [
    "## Conclusion\n",
    "\n",
    "With these definitions we have everything to define a crystal and to analyse diffraction and imaging data of crystalline specimens.\n",
    "\n",
    "Crystallography deals with the application of symmetry and group theory of symmetry to crystal structures.\n",
    "If you want to play around with symmetry and space groups, you can install the [spglib](http://atztogo.github.io/spglib/python-spglib.html#python-spglib). The spglib is especially helpfull for determination of reduced unit cells (the smallest possible ones, instead of the ones with the full symmetry).\n",
    "\n",
    "A number of common crystal structures are defined in the kinematic_scattering libary of the pyTEMlib package under the function ''structure_by_name''. Try them out in this notebook."
   ]
  },
  {
   "cell_type": "code",
   "execution_count": null,
   "metadata": {},
   "outputs": [],
   "source": [
    "# As ususal the help function will show you the usage of a function:\n",
    "help(ks.structure_by_name)"
   ]
  },
  {
   "cell_type": "markdown",
   "metadata": {},
   "source": [
    "Here are all the predifined crystal structures.\n",
    "\n",
    "> Check out the [building tutorial of ase](https://wiki.fysik.dtu.dk/ase/ase/build/build.html) for more fun structures like nanotubes "
   ]
  },
  {
   "cell_type": "code",
   "execution_count": null,
   "metadata": {},
   "outputs": [],
   "source": [
    "print(ks.crystal_data_base.keys())"
   ]
  },
  {
   "cell_type": "markdown",
   "metadata": {},
   "source": [
    "Now use one name of above structures and redo this notebook"
   ]
  },
  {
   "cell_type": "markdown",
   "metadata": {},
   "source": [
    "## Navigation\n",
    "\n",
    "- <font size = \"3\">  **Back: [Basic Crystallography](CH2_03-Basic_Crystallography.ipynb)** </font>\n",
    "- <font size = \"3\">  **Next: [Structure Factors](CH2_04-Structure_Factors.ipynb)** </font>\n",
    "- <font size = \"3\">  **Chapter 2: [Diffraction](CH2_00-Diffraction.ipynb)** </font>\n",
    "- <font size = \"3\">  **List of Content: [Front](../_MSE672_Intro_TEM.ipynb)** </font>"
   ]
  },
  {
   "cell_type": "markdown",
   "metadata": {},
   "source": [
    "## Appendix: Read POSCAR\n",
    "\n",
    "Load and draw a  crystal structure  from a POSCAR file\n",
    " "
   ]
  },
  {
   "cell_type": "markdown",
   "metadata": {},
   "source": [
    "### The function "
   ]
  },
  {
   "cell_type": "code",
   "execution_count": null,
   "metadata": {},
   "outputs": [],
   "source": [
    "from ase.io import read, write\n",
    "import pyTEMlib.file_tools as ft\n",
    "import os\n",
    "\n",
    "def read_poscar(): # open file dialog to select poscar file\n",
    "    file_name = ft.open_file_dialog_qt('POSCAR (POSCAR*.txt);;All files (*)')\n",
    "    #use ase package to read file\n",
    "    \n",
    "    base = os.path.basename(file_name)\n",
    "    base_name = os.path.splitext(base)[0]\n",
    "    crystal = read(file_name, format='vasp', parallel=False)\n",
    "    \n",
    "    return crystal"
   ]
  },
  {
   "cell_type": "code",
   "execution_count": null,
   "metadata": {},
   "outputs": [],
   "source": [
    "atoms = read_poscar()\n",
    "atoms"
   ]
  },
  {
   "cell_type": "code",
   "execution_count": null,
   "metadata": {},
   "outputs": [],
   "source": []
  }
 ],
 "metadata": {
  "kernelspec": {
   "display_name": "Python 3 (ipykernel)",
   "language": "python",
   "name": "python3"
  },
  "language_info": {
   "codemirror_mode": {
    "name": "ipython",
    "version": 3
   },
   "file_extension": ".py",
   "mimetype": "text/x-python",
   "name": "python",
   "nbconvert_exporter": "python",
   "pygments_lexer": "ipython3",
   "version": "3.12.8"
  },
  "toc": {
   "base_numbering": "3",
   "nav_menu": {
    "height": "318px",
    "width": "307px"
   },
   "number_sections": true,
   "sideBar": true,
   "skip_h1_title": false,
   "title_cell": "Table of Contents",
   "title_sidebar": "Contents",
   "toc_cell": false,
   "toc_position": {
    "height": "calc(100% - 180px)",
    "left": "10px",
    "top": "150px",
    "width": "288px"
   },
   "toc_section_display": true,
   "toc_window_display": false
  },
  "vscode": {
   "interpreter": {
    "hash": "838e0debddb5b6f29d3d8c39ba50ae8c51920a564d3bac000e89375a158a81de"
   }
  }
 },
 "nbformat": 4,
 "nbformat_minor": 4
}
